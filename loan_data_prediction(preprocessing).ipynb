{
  "nbformat": 4,
  "nbformat_minor": 0,
  "metadata": {
    "colab": {
      "name": "loan data prediction(preprocessing)",
      "provenance": [],
      "toc_visible": true,
      "authorship_tag": "ABX9TyPDlLwX97h5ybfwV+dt7j/M",
      "include_colab_link": true
    },
    "kernelspec": {
      "name": "python3",
      "display_name": "Python 3"
    },
    "language_info": {
      "name": "python"
    }
  },
  "cells": [
    {
      "cell_type": "markdown",
      "metadata": {
        "id": "view-in-github",
        "colab_type": "text"
      },
      "source": [
        "<a href=\"https://colab.research.google.com/github/arfanrifqi/loan_prediction/blob/main/loan_data_prediction(preprocessing).ipynb\" target=\"_parent\"><img src=\"https://colab.research.google.com/assets/colab-badge.svg\" alt=\"Open In Colab\"/></a>"
      ]
    },
    {
      "cell_type": "markdown",
      "source": [
        "#library"
      ],
      "metadata": {
        "id": "i6tYX8GCY53f"
      }
    },
    {
      "cell_type": "code",
      "execution_count": 288,
      "metadata": {
        "colab": {
          "base_uri": "https://localhost:8080/"
        },
        "id": "TbNT2dIhXHpl",
        "outputId": "76fc4505-3110-418b-bbc1-310b34a7982a"
      },
      "outputs": [
        {
          "output_type": "stream",
          "name": "stdout",
          "text": [
            "Drive already mounted at /content/gdrive; to attempt to forcibly remount, call drive.mount(\"/content/gdrive\", force_remount=True).\n"
          ]
        }
      ],
      "source": [
        "import pandas as pd\n",
        "import numpy as np\n",
        "\n",
        "pd.set_option('display.max_rows', 500)\n",
        "pd.set_option('display.max_columns', 500)\n",
        "\n",
        "from google.colab import drive\n",
        "drive.mount('/content/gdrive')"
      ]
    },
    {
      "cell_type": "markdown",
      "source": [
        "#load dataset"
      ],
      "metadata": {
        "id": "baC9w0W3Y-Bk"
      }
    },
    {
      "cell_type": "code",
      "source": [
        "load_data = pd.read_csv('/content/gdrive/MyDrive/dataset/loan_data_2007_2014.csv')\n",
        "\n",
        "load_data = load_data[['loan_amnt','funded_amnt',\n",
        "       'funded_amnt_inv','term','installment','grade',\n",
        "       'emp_title','emp_length','home_ownership','annual_inc',\n",
        "       'verification_status','issue_d','loan_status','pymnt_plan',\n",
        "       'purpose','title','addr_state','dti','delinq_2yrs','earliest_cr_line',\n",
        "       'inq_last_6mths','open_acc','pub_rec','revol_bal','revol_util','total_acc',\n",
        "       'tot_cur_bal','tot_coll_amt','total_rev_hi_lim','next_pymnt_d','mths_since_last_delinq',\n",
        "       'initial_list_status','total_pymnt','total_pymnt_inv','total_rec_prncp','total_rec_int',\n",
        "       'total_rec_late_fee','recoveries','collection_recovery_fee','last_pymnt_d','last_pymnt_amnt',\n",
        "       'last_credit_pull_d','collections_12_mths_ex_med','policy_code','application_type','acc_now_delinq']].copy()"
      ],
      "metadata": {
        "colab": {
          "base_uri": "https://localhost:8080/"
        },
        "id": "Zz7IalnwXNeq",
        "outputId": "f8a38516-fa5a-442a-dce9-5e5ae9f52e84"
      },
      "execution_count": 289,
      "outputs": [
        {
          "output_type": "stream",
          "name": "stderr",
          "text": [
            "/usr/local/lib/python3.7/dist-packages/IPython/core/interactiveshell.py:2882: DtypeWarning: Columns (20) have mixed types.Specify dtype option on import or set low_memory=False.\n",
            "  exec(code_obj, self.user_global_ns, self.user_ns)\n"
          ]
        }
      ]
    },
    {
      "cell_type": "markdown",
      "source": [
        "# determine target data"
      ],
      "metadata": {
        "id": "y-h3EqokZKJA"
      }
    },
    {
      "cell_type": "code",
      "source": [
        "load_data['term_months'] = load_data['term'].replace([' 36 months',' 60 months'],['36','60'])\n",
        "term_num = ['term_months']\n",
        "\n",
        "load_data[term_num] = load_data[term_num].apply(pd.to_numeric, errors='coerce', axis=1)\n",
        "print(load_data['term_months'].dtypes)"
      ],
      "metadata": {
        "colab": {
          "base_uri": "https://localhost:8080/"
        },
        "id": "gswRNG4JX2q0",
        "outputId": "c60ea21b-c6c4-48d5-efba-de8900dde47f"
      },
      "execution_count": 290,
      "outputs": [
        {
          "output_type": "stream",
          "name": "stdout",
          "text": [
            "int64\n"
          ]
        }
      ]
    },
    {
      "cell_type": "code",
      "source": [
        "load_data['verification_status'].replace({'Source Verified':'Verified'})"
      ],
      "metadata": {
        "colab": {
          "base_uri": "https://localhost:8080/"
        },
        "id": "Dv7x094vX8K2",
        "outputId": "863855ee-ba87-417e-a139-f35e85183779"
      },
      "execution_count": 291,
      "outputs": [
        {
          "output_type": "execute_result",
          "data": {
            "text/plain": [
              "0             Verified\n",
              "1             Verified\n",
              "2         Not Verified\n",
              "3             Verified\n",
              "4             Verified\n",
              "              ...     \n",
              "466280        Verified\n",
              "466281        Verified\n",
              "466282        Verified\n",
              "466283        Verified\n",
              "466284        Verified\n",
              "Name: verification_status, Length: 466285, dtype: object"
            ]
          },
          "metadata": {},
          "execution_count": 291
        }
      ]
    },
    {
      "cell_type": "code",
      "source": [
        "bad_status = [\n",
        "    'Charged Off' \n",
        "    , 'Default'\n",
        "    , 'Does not meet the credit policy. Status:Charged Off'\n",
        "    , 'Late (31-120 days)'\n",
        "]\n",
        "load_data['bad_flag'] = np.where(load_data['loan_status'].isin(bad_status), 1, 0)"
      ],
      "metadata": {
        "id": "7OizNIM7Ye15"
      },
      "execution_count": 292,
      "outputs": []
    },
    {
      "cell_type": "code",
      "source": [
        "load_data.drop('loan_status', axis=1, inplace=True)\n",
        "load_data.head(1)"
      ],
      "metadata": {
        "colab": {
          "base_uri": "https://localhost:8080/",
          "height": 162
        },
        "id": "E9vYk_nbYsEr",
        "outputId": "1a9949ca-4c19-4246-ccfe-b6e8bdbc9cb7"
      },
      "execution_count": 293,
      "outputs": [
        {
          "output_type": "execute_result",
          "data": {
            "text/plain": [
              "   loan_amnt  funded_amnt  funded_amnt_inv        term  installment grade  \\\n",
              "0       5000         5000           4975.0   36 months       162.87     B   \n",
              "\n",
              "  emp_title emp_length home_ownership  annual_inc verification_status issue_d  \\\n",
              "0       NaN  10+ years           RENT     24000.0            Verified  Dec-11   \n",
              "\n",
              "  pymnt_plan      purpose     title addr_state    dti  delinq_2yrs  \\\n",
              "0          n  credit_card  Computer         AZ  27.65          0.0   \n",
              "\n",
              "  earliest_cr_line  inq_last_6mths  open_acc  pub_rec  revol_bal  revol_util  \\\n",
              "0           Jan-85             1.0       3.0      0.0      13648        83.7   \n",
              "\n",
              "   total_acc  tot_cur_bal  tot_coll_amt  total_rev_hi_lim next_pymnt_d  \\\n",
              "0        9.0          NaN           NaN               NaN          NaN   \n",
              "\n",
              "   mths_since_last_delinq initial_list_status  total_pymnt  total_pymnt_inv  \\\n",
              "0                     NaN                   f  5861.071414          5831.78   \n",
              "\n",
              "   total_rec_prncp  total_rec_int  total_rec_late_fee  recoveries  \\\n",
              "0           5000.0         861.07                 0.0         0.0   \n",
              "\n",
              "   collection_recovery_fee last_pymnt_d  last_pymnt_amnt last_credit_pull_d  \\\n",
              "0                      0.0       Jan-15           171.62             Jan-16   \n",
              "\n",
              "   collections_12_mths_ex_med  policy_code application_type  acc_now_delinq  \\\n",
              "0                         0.0            1       INDIVIDUAL             0.0   \n",
              "\n",
              "   term_months  bad_flag  \n",
              "0           36         0  "
            ],
            "text/html": [
              "\n",
              "  <div id=\"df-c9257355-1305-4ff1-aa7d-66cfeafdd114\">\n",
              "    <div class=\"colab-df-container\">\n",
              "      <div>\n",
              "<style scoped>\n",
              "    .dataframe tbody tr th:only-of-type {\n",
              "        vertical-align: middle;\n",
              "    }\n",
              "\n",
              "    .dataframe tbody tr th {\n",
              "        vertical-align: top;\n",
              "    }\n",
              "\n",
              "    .dataframe thead th {\n",
              "        text-align: right;\n",
              "    }\n",
              "</style>\n",
              "<table border=\"1\" class=\"dataframe\">\n",
              "  <thead>\n",
              "    <tr style=\"text-align: right;\">\n",
              "      <th></th>\n",
              "      <th>loan_amnt</th>\n",
              "      <th>funded_amnt</th>\n",
              "      <th>funded_amnt_inv</th>\n",
              "      <th>term</th>\n",
              "      <th>installment</th>\n",
              "      <th>grade</th>\n",
              "      <th>emp_title</th>\n",
              "      <th>emp_length</th>\n",
              "      <th>home_ownership</th>\n",
              "      <th>annual_inc</th>\n",
              "      <th>verification_status</th>\n",
              "      <th>issue_d</th>\n",
              "      <th>pymnt_plan</th>\n",
              "      <th>purpose</th>\n",
              "      <th>title</th>\n",
              "      <th>addr_state</th>\n",
              "      <th>dti</th>\n",
              "      <th>delinq_2yrs</th>\n",
              "      <th>earliest_cr_line</th>\n",
              "      <th>inq_last_6mths</th>\n",
              "      <th>open_acc</th>\n",
              "      <th>pub_rec</th>\n",
              "      <th>revol_bal</th>\n",
              "      <th>revol_util</th>\n",
              "      <th>total_acc</th>\n",
              "      <th>tot_cur_bal</th>\n",
              "      <th>tot_coll_amt</th>\n",
              "      <th>total_rev_hi_lim</th>\n",
              "      <th>next_pymnt_d</th>\n",
              "      <th>mths_since_last_delinq</th>\n",
              "      <th>initial_list_status</th>\n",
              "      <th>total_pymnt</th>\n",
              "      <th>total_pymnt_inv</th>\n",
              "      <th>total_rec_prncp</th>\n",
              "      <th>total_rec_int</th>\n",
              "      <th>total_rec_late_fee</th>\n",
              "      <th>recoveries</th>\n",
              "      <th>collection_recovery_fee</th>\n",
              "      <th>last_pymnt_d</th>\n",
              "      <th>last_pymnt_amnt</th>\n",
              "      <th>last_credit_pull_d</th>\n",
              "      <th>collections_12_mths_ex_med</th>\n",
              "      <th>policy_code</th>\n",
              "      <th>application_type</th>\n",
              "      <th>acc_now_delinq</th>\n",
              "      <th>term_months</th>\n",
              "      <th>bad_flag</th>\n",
              "    </tr>\n",
              "  </thead>\n",
              "  <tbody>\n",
              "    <tr>\n",
              "      <th>0</th>\n",
              "      <td>5000</td>\n",
              "      <td>5000</td>\n",
              "      <td>4975.0</td>\n",
              "      <td>36 months</td>\n",
              "      <td>162.87</td>\n",
              "      <td>B</td>\n",
              "      <td>NaN</td>\n",
              "      <td>10+ years</td>\n",
              "      <td>RENT</td>\n",
              "      <td>24000.0</td>\n",
              "      <td>Verified</td>\n",
              "      <td>Dec-11</td>\n",
              "      <td>n</td>\n",
              "      <td>credit_card</td>\n",
              "      <td>Computer</td>\n",
              "      <td>AZ</td>\n",
              "      <td>27.65</td>\n",
              "      <td>0.0</td>\n",
              "      <td>Jan-85</td>\n",
              "      <td>1.0</td>\n",
              "      <td>3.0</td>\n",
              "      <td>0.0</td>\n",
              "      <td>13648</td>\n",
              "      <td>83.7</td>\n",
              "      <td>9.0</td>\n",
              "      <td>NaN</td>\n",
              "      <td>NaN</td>\n",
              "      <td>NaN</td>\n",
              "      <td>NaN</td>\n",
              "      <td>NaN</td>\n",
              "      <td>f</td>\n",
              "      <td>5861.071414</td>\n",
              "      <td>5831.78</td>\n",
              "      <td>5000.0</td>\n",
              "      <td>861.07</td>\n",
              "      <td>0.0</td>\n",
              "      <td>0.0</td>\n",
              "      <td>0.0</td>\n",
              "      <td>Jan-15</td>\n",
              "      <td>171.62</td>\n",
              "      <td>Jan-16</td>\n",
              "      <td>0.0</td>\n",
              "      <td>1</td>\n",
              "      <td>INDIVIDUAL</td>\n",
              "      <td>0.0</td>\n",
              "      <td>36</td>\n",
              "      <td>0</td>\n",
              "    </tr>\n",
              "  </tbody>\n",
              "</table>\n",
              "</div>\n",
              "      <button class=\"colab-df-convert\" onclick=\"convertToInteractive('df-c9257355-1305-4ff1-aa7d-66cfeafdd114')\"\n",
              "              title=\"Convert this dataframe to an interactive table.\"\n",
              "              style=\"display:none;\">\n",
              "        \n",
              "  <svg xmlns=\"http://www.w3.org/2000/svg\" height=\"24px\"viewBox=\"0 0 24 24\"\n",
              "       width=\"24px\">\n",
              "    <path d=\"M0 0h24v24H0V0z\" fill=\"none\"/>\n",
              "    <path d=\"M18.56 5.44l.94 2.06.94-2.06 2.06-.94-2.06-.94-.94-2.06-.94 2.06-2.06.94zm-11 1L8.5 8.5l.94-2.06 2.06-.94-2.06-.94L8.5 2.5l-.94 2.06-2.06.94zm10 10l.94 2.06.94-2.06 2.06-.94-2.06-.94-.94-2.06-.94 2.06-2.06.94z\"/><path d=\"M17.41 7.96l-1.37-1.37c-.4-.4-.92-.59-1.43-.59-.52 0-1.04.2-1.43.59L10.3 9.45l-7.72 7.72c-.78.78-.78 2.05 0 2.83L4 21.41c.39.39.9.59 1.41.59.51 0 1.02-.2 1.41-.59l7.78-7.78 2.81-2.81c.8-.78.8-2.07 0-2.86zM5.41 20L4 18.59l7.72-7.72 1.47 1.35L5.41 20z\"/>\n",
              "  </svg>\n",
              "      </button>\n",
              "      \n",
              "  <style>\n",
              "    .colab-df-container {\n",
              "      display:flex;\n",
              "      flex-wrap:wrap;\n",
              "      gap: 12px;\n",
              "    }\n",
              "\n",
              "    .colab-df-convert {\n",
              "      background-color: #E8F0FE;\n",
              "      border: none;\n",
              "      border-radius: 50%;\n",
              "      cursor: pointer;\n",
              "      display: none;\n",
              "      fill: #1967D2;\n",
              "      height: 32px;\n",
              "      padding: 0 0 0 0;\n",
              "      width: 32px;\n",
              "    }\n",
              "\n",
              "    .colab-df-convert:hover {\n",
              "      background-color: #E2EBFA;\n",
              "      box-shadow: 0px 1px 2px rgba(60, 64, 67, 0.3), 0px 1px 3px 1px rgba(60, 64, 67, 0.15);\n",
              "      fill: #174EA6;\n",
              "    }\n",
              "\n",
              "    [theme=dark] .colab-df-convert {\n",
              "      background-color: #3B4455;\n",
              "      fill: #D2E3FC;\n",
              "    }\n",
              "\n",
              "    [theme=dark] .colab-df-convert:hover {\n",
              "      background-color: #434B5C;\n",
              "      box-shadow: 0px 1px 3px 1px rgba(0, 0, 0, 0.15);\n",
              "      filter: drop-shadow(0px 1px 2px rgba(0, 0, 0, 0.3));\n",
              "      fill: #FFFFFF;\n",
              "    }\n",
              "  </style>\n",
              "\n",
              "      <script>\n",
              "        const buttonEl =\n",
              "          document.querySelector('#df-c9257355-1305-4ff1-aa7d-66cfeafdd114 button.colab-df-convert');\n",
              "        buttonEl.style.display =\n",
              "          google.colab.kernel.accessAllowed ? 'block' : 'none';\n",
              "\n",
              "        async function convertToInteractive(key) {\n",
              "          const element = document.querySelector('#df-c9257355-1305-4ff1-aa7d-66cfeafdd114');\n",
              "          const dataTable =\n",
              "            await google.colab.kernel.invokeFunction('convertToInteractive',\n",
              "                                                     [key], {});\n",
              "          if (!dataTable) return;\n",
              "\n",
              "          const docLinkHtml = 'Like what you see? Visit the ' +\n",
              "            '<a target=\"_blank\" href=https://colab.research.google.com/notebooks/data_table.ipynb>data table notebook</a>'\n",
              "            + ' to learn more about interactive tables.';\n",
              "          element.innerHTML = '';\n",
              "          dataTable['output_type'] = 'display_data';\n",
              "          await google.colab.output.renderOutput(dataTable, element);\n",
              "          const docLink = document.createElement('div');\n",
              "          docLink.innerHTML = docLinkHtml;\n",
              "          element.appendChild(docLink);\n",
              "        }\n",
              "      </script>\n",
              "    </div>\n",
              "  </div>\n",
              "  "
            ]
          },
          "metadata": {},
          "execution_count": 293
        }
      ]
    },
    {
      "cell_type": "markdown",
      "source": [
        "#CLEANING, PREPROCESSING, FEATURE ENGINEERING"
      ],
      "metadata": {
        "id": "meUGd5CRZVNM"
      }
    },
    {
      "cell_type": "markdown",
      "source": [
        "## emp_length columns"
      ],
      "metadata": {
        "id": "HN27nWbObobq"
      }
    },
    {
      "cell_type": "code",
      "source": [
        "load_data['emp_length_int'] = load_data['emp_length'].str.replace('\\+ years', '')\n",
        "load_data['emp_length_int'] = load_data['emp_length_int'].str.replace('< 1 year', str(0))\n",
        "load_data['emp_length_int'] = load_data['emp_length_int'].str.replace(' years', '')\n",
        "load_data['emp_length_int'] = load_data['emp_length_int'].str.replace(' year', '')"
      ],
      "metadata": {
        "colab": {
          "base_uri": "https://localhost:8080/"
        },
        "id": "edArGi2KZYvD",
        "outputId": "71ef93b4-719b-496b-850b-594d13993562"
      },
      "execution_count": 294,
      "outputs": [
        {
          "output_type": "stream",
          "name": "stderr",
          "text": [
            "/usr/local/lib/python3.7/dist-packages/ipykernel_launcher.py:1: FutureWarning: The default value of regex will change from True to False in a future version.\n",
            "  \"\"\"Entry point for launching an IPython kernel.\n"
          ]
        }
      ]
    },
    {
      "cell_type": "code",
      "source": [
        "load_data['emp_length_int'] = load_data['emp_length_int'].astype(float)"
      ],
      "metadata": {
        "id": "UQphRmKQZk9A"
      },
      "execution_count": 295,
      "outputs": []
    },
    {
      "cell_type": "code",
      "source": [
        "load_data.drop('emp_length', axis=1, inplace=True)"
      ],
      "metadata": {
        "id": "VS7zXcPjZp_n"
      },
      "execution_count": 296,
      "outputs": []
    },
    {
      "cell_type": "markdown",
      "source": [
        "## earliest_cr_line columns"
      ],
      "metadata": {
        "id": "8Sl2b8sjbysq"
      }
    },
    {
      "cell_type": "code",
      "source": [
        "load_data['earliest_cr_line_date'] = pd.to_datetime(load_data['earliest_cr_line'], format='%b-%y')\n",
        "load_data['earliest_cr_line_date'].head()"
      ],
      "metadata": {
        "colab": {
          "base_uri": "https://localhost:8080/"
        },
        "id": "8GZypdzoZs_G",
        "outputId": "01bf1fdf-ca37-4142-e483-de49ca7fbff3"
      },
      "execution_count": 297,
      "outputs": [
        {
          "output_type": "execute_result",
          "data": {
            "text/plain": [
              "0   1985-01-01\n",
              "1   1999-04-01\n",
              "2   2001-11-01\n",
              "3   1996-02-01\n",
              "4   1996-01-01\n",
              "Name: earliest_cr_line_date, dtype: datetime64[ns]"
            ]
          },
          "metadata": {},
          "execution_count": 297
        }
      ]
    },
    {
      "cell_type": "code",
      "source": [
        "load_data['mths_since_earliest_cr_line'] = round(pd.to_numeric((pd.to_datetime('2017-12-01') - load_data['earliest_cr_line_date']) / np.timedelta64(1, 'M')))\n",
        "load_data['mths_since_earliest_cr_line'].head(3)"
      ],
      "metadata": {
        "colab": {
          "base_uri": "https://localhost:8080/"
        },
        "id": "cfr2gce6Z-o1",
        "outputId": "02d8031d-0f4f-434b-b3d8-429c3d3769ac"
      },
      "execution_count": 298,
      "outputs": [
        {
          "output_type": "execute_result",
          "data": {
            "text/plain": [
              "0    395.0\n",
              "1    224.0\n",
              "2    193.0\n",
              "Name: mths_since_earliest_cr_line, dtype: float64"
            ]
          },
          "metadata": {},
          "execution_count": 298
        }
      ]
    },
    {
      "cell_type": "code",
      "source": [
        "load_data.loc[load_data['mths_since_earliest_cr_line']<0, 'mths_since_earliest_cr_line'] = load_data['mths_since_earliest_cr_line'].max()"
      ],
      "metadata": {
        "id": "pEERxUlyaPx0"
      },
      "execution_count": 299,
      "outputs": []
    },
    {
      "cell_type": "code",
      "source": [
        "load_data.drop(['earliest_cr_line', 'earliest_cr_line_date'], axis=1, inplace=True)"
      ],
      "metadata": {
        "id": "M3IlOBsGagtZ"
      },
      "execution_count": 300,
      "outputs": []
    },
    {
      "cell_type": "markdown",
      "source": [
        "## issue_d columns"
      ],
      "metadata": {
        "id": "aV4QPu6Pb4jh"
      }
    },
    {
      "cell_type": "code",
      "source": [
        "load_data['issue_d_date'] = pd.to_datetime(load_data['issue_d'], format='%b-%y')\n",
        "load_data['mths_since_issue_d'] = round(pd.to_numeric((pd.to_datetime('2017-12-01') - load_data['issue_d_date']) / np.timedelta64(1, 'M')))"
      ],
      "metadata": {
        "id": "OW4uLrm2akTp"
      },
      "execution_count": 301,
      "outputs": []
    },
    {
      "cell_type": "code",
      "source": [
        "load_data.drop(['issue_d', 'issue_d_date'], axis=1, inplace=True)"
      ],
      "metadata": {
        "id": "h1SfoOrNauXH"
      },
      "execution_count": 302,
      "outputs": []
    },
    {
      "cell_type": "markdown",
      "source": [
        "## last_pymnt_d columns"
      ],
      "metadata": {
        "id": "j9LGBqu5cFf4"
      }
    },
    {
      "cell_type": "code",
      "source": [
        "load_data['last_pymnt_d_date'] = pd.to_datetime(load_data['last_pymnt_d'], format='%b-%y')\n",
        "load_data['mths_since_last_pymnt_d'] = round(pd.to_numeric((pd.to_datetime('2017-12-01') - load_data['last_pymnt_d_date']) / np.timedelta64(1, 'M')))"
      ],
      "metadata": {
        "id": "yuXQT42UbaaW"
      },
      "execution_count": 303,
      "outputs": []
    },
    {
      "cell_type": "code",
      "source": [
        "load_data.drop(['last_pymnt_d', 'last_pymnt_d_date'], axis=1, inplace=True)"
      ],
      "metadata": {
        "id": "4K2XTCXHbg_F"
      },
      "execution_count": 304,
      "outputs": []
    },
    {
      "cell_type": "markdown",
      "source": [
        "## next_pymnt_d columns"
      ],
      "metadata": {
        "id": "qOMHwg1fcJ-H"
      }
    },
    {
      "cell_type": "code",
      "source": [
        "load_data['next_pymnt_d_date'] = pd.to_datetime(load_data['next_pymnt_d'], format='%b-%y')\n",
        "load_data['mths_since_next_pymnt_d'] = round(pd.to_numeric((pd.to_datetime('2017-12-01') - load_data['next_pymnt_d_date']) / np.timedelta64(1, 'M')))"
      ],
      "metadata": {
        "id": "4aIEIAOjbmJS"
      },
      "execution_count": 305,
      "outputs": []
    },
    {
      "cell_type": "code",
      "source": [
        "load_data.drop(['next_pymnt_d', 'next_pymnt_d_date'], axis=1, inplace=True)"
      ],
      "metadata": {
        "id": "9cYBBf7Xd6lD"
      },
      "execution_count": 306,
      "outputs": []
    },
    {
      "cell_type": "markdown",
      "source": [
        "## last_credit_pull_d columns"
      ],
      "metadata": {
        "id": "GL26RlANeBv_"
      }
    },
    {
      "cell_type": "code",
      "source": [
        "load_data['last_credit_pull_d_date'] = pd.to_datetime(load_data['last_credit_pull_d'], format='%b-%y')\n",
        "load_data['mths_since_last_credit_pull_d'] = round(pd.to_numeric((pd.to_datetime('2017-12-01') - load_data['last_credit_pull_d_date']) / np.timedelta64(1, 'M')))"
      ],
      "metadata": {
        "id": "JxFd4BAWd-Tr"
      },
      "execution_count": 307,
      "outputs": []
    },
    {
      "cell_type": "code",
      "source": [
        "load_data.drop(['last_credit_pull_d', 'last_credit_pull_d_date'], axis=1, inplace=True)"
      ],
      "metadata": {
        "id": "8pQq4ZMFeNa3"
      },
      "execution_count": 308,
      "outputs": []
    },
    {
      "cell_type": "markdown",
      "source": [
        "# EXPLORATORY DATA ANALYSIS"
      ],
      "metadata": {
        "id": "DIt21ejUeuPT"
      }
    },
    {
      "cell_type": "markdown",
      "source": [
        "## correlation numerical features"
      ],
      "metadata": {
        "id": "YaV_vV_oeztX"
      }
    },
    {
      "cell_type": "code",
      "source": [
        "corr_with_target = load_data.corrwith(load_data.bad_flag).sort_values(ascending = False).abs().to_frame('correlation_with_target').reset_index().head(36)\n",
        "unique_values = load_data.nunique().to_frame('unique_values').reset_index()\n",
        "corr_with_unique = pd.merge(corr_with_target, unique_values, on = 'index', how = 'inner')\n",
        "corr_with_unique"
      ],
      "metadata": {
        "colab": {
          "base_uri": "https://localhost:8080/",
          "height": 1000
        },
        "id": "A1TTdL16eRJi",
        "outputId": "4fd043a9-7e41-4d31-8670-b19ffbc0edff"
      },
      "execution_count": 309,
      "outputs": [
        {
          "output_type": "execute_result",
          "data": {
            "text/plain": [
              "                            index  correlation_with_target  unique_values\n",
              "0                        bad_flag                 1.000000              2\n",
              "1                      recoveries                 0.441171          22773\n",
              "2         collection_recovery_fee                 0.299227          20275\n",
              "3         mths_since_last_pymnt_d                 0.244581             98\n",
              "4         mths_since_next_pymnt_d                 0.154003            100\n",
              "5              total_rec_late_fee                 0.147750           5808\n",
              "6   mths_since_last_credit_pull_d                 0.136595            103\n",
              "7              mths_since_issue_d                 0.087575             91\n",
              "8                  inq_last_6mths                 0.073102             28\n",
              "9                     term_months                 0.063565              2\n",
              "10                     revol_util                 0.050207           1269\n",
              "11                            dti                 0.048102           3997\n",
              "12                    installment                 0.013936          55622\n",
              "13                      loan_amnt                 0.011819           1352\n",
              "14                    funded_amnt                 0.011003           1354\n",
              "15                funded_amnt_inv                 0.007191           9854\n",
              "16                    delinq_2yrs                 0.001227             24\n",
              "17                 acc_now_delinq                 0.000197              6\n",
              "18                   tot_coll_amt                 0.001209           6321\n",
              "19         mths_since_last_delinq                 0.003338            145\n",
              "20     collections_12_mths_ex_med                 0.005114              9\n",
              "21                       open_acc                 0.006174             62\n",
              "22                        pub_rec                 0.009111             26\n",
              "23                 emp_length_int                 0.016621             11\n",
              "24                      revol_bal                 0.018348          58142\n",
              "25                      total_acc                 0.023069            112\n",
              "26                  total_rec_int                 0.026726         270249\n",
              "27    mths_since_earliest_cr_line                 0.034114            515\n",
              "28               total_rev_hi_lim                 0.037165          14612\n",
              "29                     annual_inc                 0.049864          31901\n",
              "30                    tot_cur_bal                 0.051197         220690\n",
              "31                last_pymnt_amnt                 0.168030         198194\n",
              "32                    total_pymnt                 0.194438         351609\n",
              "33                total_pymnt_inv                 0.195169         347659\n",
              "34                total_rec_prncp                 0.253875         172713\n",
              "35                    policy_code                      NaN              1"
            ],
            "text/html": [
              "\n",
              "  <div id=\"df-f0849881-d7d2-4f89-a0b0-b19701b6a399\">\n",
              "    <div class=\"colab-df-container\">\n",
              "      <div>\n",
              "<style scoped>\n",
              "    .dataframe tbody tr th:only-of-type {\n",
              "        vertical-align: middle;\n",
              "    }\n",
              "\n",
              "    .dataframe tbody tr th {\n",
              "        vertical-align: top;\n",
              "    }\n",
              "\n",
              "    .dataframe thead th {\n",
              "        text-align: right;\n",
              "    }\n",
              "</style>\n",
              "<table border=\"1\" class=\"dataframe\">\n",
              "  <thead>\n",
              "    <tr style=\"text-align: right;\">\n",
              "      <th></th>\n",
              "      <th>index</th>\n",
              "      <th>correlation_with_target</th>\n",
              "      <th>unique_values</th>\n",
              "    </tr>\n",
              "  </thead>\n",
              "  <tbody>\n",
              "    <tr>\n",
              "      <th>0</th>\n",
              "      <td>bad_flag</td>\n",
              "      <td>1.000000</td>\n",
              "      <td>2</td>\n",
              "    </tr>\n",
              "    <tr>\n",
              "      <th>1</th>\n",
              "      <td>recoveries</td>\n",
              "      <td>0.441171</td>\n",
              "      <td>22773</td>\n",
              "    </tr>\n",
              "    <tr>\n",
              "      <th>2</th>\n",
              "      <td>collection_recovery_fee</td>\n",
              "      <td>0.299227</td>\n",
              "      <td>20275</td>\n",
              "    </tr>\n",
              "    <tr>\n",
              "      <th>3</th>\n",
              "      <td>mths_since_last_pymnt_d</td>\n",
              "      <td>0.244581</td>\n",
              "      <td>98</td>\n",
              "    </tr>\n",
              "    <tr>\n",
              "      <th>4</th>\n",
              "      <td>mths_since_next_pymnt_d</td>\n",
              "      <td>0.154003</td>\n",
              "      <td>100</td>\n",
              "    </tr>\n",
              "    <tr>\n",
              "      <th>5</th>\n",
              "      <td>total_rec_late_fee</td>\n",
              "      <td>0.147750</td>\n",
              "      <td>5808</td>\n",
              "    </tr>\n",
              "    <tr>\n",
              "      <th>6</th>\n",
              "      <td>mths_since_last_credit_pull_d</td>\n",
              "      <td>0.136595</td>\n",
              "      <td>103</td>\n",
              "    </tr>\n",
              "    <tr>\n",
              "      <th>7</th>\n",
              "      <td>mths_since_issue_d</td>\n",
              "      <td>0.087575</td>\n",
              "      <td>91</td>\n",
              "    </tr>\n",
              "    <tr>\n",
              "      <th>8</th>\n",
              "      <td>inq_last_6mths</td>\n",
              "      <td>0.073102</td>\n",
              "      <td>28</td>\n",
              "    </tr>\n",
              "    <tr>\n",
              "      <th>9</th>\n",
              "      <td>term_months</td>\n",
              "      <td>0.063565</td>\n",
              "      <td>2</td>\n",
              "    </tr>\n",
              "    <tr>\n",
              "      <th>10</th>\n",
              "      <td>revol_util</td>\n",
              "      <td>0.050207</td>\n",
              "      <td>1269</td>\n",
              "    </tr>\n",
              "    <tr>\n",
              "      <th>11</th>\n",
              "      <td>dti</td>\n",
              "      <td>0.048102</td>\n",
              "      <td>3997</td>\n",
              "    </tr>\n",
              "    <tr>\n",
              "      <th>12</th>\n",
              "      <td>installment</td>\n",
              "      <td>0.013936</td>\n",
              "      <td>55622</td>\n",
              "    </tr>\n",
              "    <tr>\n",
              "      <th>13</th>\n",
              "      <td>loan_amnt</td>\n",
              "      <td>0.011819</td>\n",
              "      <td>1352</td>\n",
              "    </tr>\n",
              "    <tr>\n",
              "      <th>14</th>\n",
              "      <td>funded_amnt</td>\n",
              "      <td>0.011003</td>\n",
              "      <td>1354</td>\n",
              "    </tr>\n",
              "    <tr>\n",
              "      <th>15</th>\n",
              "      <td>funded_amnt_inv</td>\n",
              "      <td>0.007191</td>\n",
              "      <td>9854</td>\n",
              "    </tr>\n",
              "    <tr>\n",
              "      <th>16</th>\n",
              "      <td>delinq_2yrs</td>\n",
              "      <td>0.001227</td>\n",
              "      <td>24</td>\n",
              "    </tr>\n",
              "    <tr>\n",
              "      <th>17</th>\n",
              "      <td>acc_now_delinq</td>\n",
              "      <td>0.000197</td>\n",
              "      <td>6</td>\n",
              "    </tr>\n",
              "    <tr>\n",
              "      <th>18</th>\n",
              "      <td>tot_coll_amt</td>\n",
              "      <td>0.001209</td>\n",
              "      <td>6321</td>\n",
              "    </tr>\n",
              "    <tr>\n",
              "      <th>19</th>\n",
              "      <td>mths_since_last_delinq</td>\n",
              "      <td>0.003338</td>\n",
              "      <td>145</td>\n",
              "    </tr>\n",
              "    <tr>\n",
              "      <th>20</th>\n",
              "      <td>collections_12_mths_ex_med</td>\n",
              "      <td>0.005114</td>\n",
              "      <td>9</td>\n",
              "    </tr>\n",
              "    <tr>\n",
              "      <th>21</th>\n",
              "      <td>open_acc</td>\n",
              "      <td>0.006174</td>\n",
              "      <td>62</td>\n",
              "    </tr>\n",
              "    <tr>\n",
              "      <th>22</th>\n",
              "      <td>pub_rec</td>\n",
              "      <td>0.009111</td>\n",
              "      <td>26</td>\n",
              "    </tr>\n",
              "    <tr>\n",
              "      <th>23</th>\n",
              "      <td>emp_length_int</td>\n",
              "      <td>0.016621</td>\n",
              "      <td>11</td>\n",
              "    </tr>\n",
              "    <tr>\n",
              "      <th>24</th>\n",
              "      <td>revol_bal</td>\n",
              "      <td>0.018348</td>\n",
              "      <td>58142</td>\n",
              "    </tr>\n",
              "    <tr>\n",
              "      <th>25</th>\n",
              "      <td>total_acc</td>\n",
              "      <td>0.023069</td>\n",
              "      <td>112</td>\n",
              "    </tr>\n",
              "    <tr>\n",
              "      <th>26</th>\n",
              "      <td>total_rec_int</td>\n",
              "      <td>0.026726</td>\n",
              "      <td>270249</td>\n",
              "    </tr>\n",
              "    <tr>\n",
              "      <th>27</th>\n",
              "      <td>mths_since_earliest_cr_line</td>\n",
              "      <td>0.034114</td>\n",
              "      <td>515</td>\n",
              "    </tr>\n",
              "    <tr>\n",
              "      <th>28</th>\n",
              "      <td>total_rev_hi_lim</td>\n",
              "      <td>0.037165</td>\n",
              "      <td>14612</td>\n",
              "    </tr>\n",
              "    <tr>\n",
              "      <th>29</th>\n",
              "      <td>annual_inc</td>\n",
              "      <td>0.049864</td>\n",
              "      <td>31901</td>\n",
              "    </tr>\n",
              "    <tr>\n",
              "      <th>30</th>\n",
              "      <td>tot_cur_bal</td>\n",
              "      <td>0.051197</td>\n",
              "      <td>220690</td>\n",
              "    </tr>\n",
              "    <tr>\n",
              "      <th>31</th>\n",
              "      <td>last_pymnt_amnt</td>\n",
              "      <td>0.168030</td>\n",
              "      <td>198194</td>\n",
              "    </tr>\n",
              "    <tr>\n",
              "      <th>32</th>\n",
              "      <td>total_pymnt</td>\n",
              "      <td>0.194438</td>\n",
              "      <td>351609</td>\n",
              "    </tr>\n",
              "    <tr>\n",
              "      <th>33</th>\n",
              "      <td>total_pymnt_inv</td>\n",
              "      <td>0.195169</td>\n",
              "      <td>347659</td>\n",
              "    </tr>\n",
              "    <tr>\n",
              "      <th>34</th>\n",
              "      <td>total_rec_prncp</td>\n",
              "      <td>0.253875</td>\n",
              "      <td>172713</td>\n",
              "    </tr>\n",
              "    <tr>\n",
              "      <th>35</th>\n",
              "      <td>policy_code</td>\n",
              "      <td>NaN</td>\n",
              "      <td>1</td>\n",
              "    </tr>\n",
              "  </tbody>\n",
              "</table>\n",
              "</div>\n",
              "      <button class=\"colab-df-convert\" onclick=\"convertToInteractive('df-f0849881-d7d2-4f89-a0b0-b19701b6a399')\"\n",
              "              title=\"Convert this dataframe to an interactive table.\"\n",
              "              style=\"display:none;\">\n",
              "        \n",
              "  <svg xmlns=\"http://www.w3.org/2000/svg\" height=\"24px\"viewBox=\"0 0 24 24\"\n",
              "       width=\"24px\">\n",
              "    <path d=\"M0 0h24v24H0V0z\" fill=\"none\"/>\n",
              "    <path d=\"M18.56 5.44l.94 2.06.94-2.06 2.06-.94-2.06-.94-.94-2.06-.94 2.06-2.06.94zm-11 1L8.5 8.5l.94-2.06 2.06-.94-2.06-.94L8.5 2.5l-.94 2.06-2.06.94zm10 10l.94 2.06.94-2.06 2.06-.94-2.06-.94-.94-2.06-.94 2.06-2.06.94z\"/><path d=\"M17.41 7.96l-1.37-1.37c-.4-.4-.92-.59-1.43-.59-.52 0-1.04.2-1.43.59L10.3 9.45l-7.72 7.72c-.78.78-.78 2.05 0 2.83L4 21.41c.39.39.9.59 1.41.59.51 0 1.02-.2 1.41-.59l7.78-7.78 2.81-2.81c.8-.78.8-2.07 0-2.86zM5.41 20L4 18.59l7.72-7.72 1.47 1.35L5.41 20z\"/>\n",
              "  </svg>\n",
              "      </button>\n",
              "      \n",
              "  <style>\n",
              "    .colab-df-container {\n",
              "      display:flex;\n",
              "      flex-wrap:wrap;\n",
              "      gap: 12px;\n",
              "    }\n",
              "\n",
              "    .colab-df-convert {\n",
              "      background-color: #E8F0FE;\n",
              "      border: none;\n",
              "      border-radius: 50%;\n",
              "      cursor: pointer;\n",
              "      display: none;\n",
              "      fill: #1967D2;\n",
              "      height: 32px;\n",
              "      padding: 0 0 0 0;\n",
              "      width: 32px;\n",
              "    }\n",
              "\n",
              "    .colab-df-convert:hover {\n",
              "      background-color: #E2EBFA;\n",
              "      box-shadow: 0px 1px 2px rgba(60, 64, 67, 0.3), 0px 1px 3px 1px rgba(60, 64, 67, 0.15);\n",
              "      fill: #174EA6;\n",
              "    }\n",
              "\n",
              "    [theme=dark] .colab-df-convert {\n",
              "      background-color: #3B4455;\n",
              "      fill: #D2E3FC;\n",
              "    }\n",
              "\n",
              "    [theme=dark] .colab-df-convert:hover {\n",
              "      background-color: #434B5C;\n",
              "      box-shadow: 0px 1px 3px 1px rgba(0, 0, 0, 0.15);\n",
              "      filter: drop-shadow(0px 1px 2px rgba(0, 0, 0, 0.3));\n",
              "      fill: #FFFFFF;\n",
              "    }\n",
              "  </style>\n",
              "\n",
              "      <script>\n",
              "        const buttonEl =\n",
              "          document.querySelector('#df-f0849881-d7d2-4f89-a0b0-b19701b6a399 button.colab-df-convert');\n",
              "        buttonEl.style.display =\n",
              "          google.colab.kernel.accessAllowed ? 'block' : 'none';\n",
              "\n",
              "        async function convertToInteractive(key) {\n",
              "          const element = document.querySelector('#df-f0849881-d7d2-4f89-a0b0-b19701b6a399');\n",
              "          const dataTable =\n",
              "            await google.colab.kernel.invokeFunction('convertToInteractive',\n",
              "                                                     [key], {});\n",
              "          if (!dataTable) return;\n",
              "\n",
              "          const docLinkHtml = 'Like what you see? Visit the ' +\n",
              "            '<a target=\"_blank\" href=https://colab.research.google.com/notebooks/data_table.ipynb>data table notebook</a>'\n",
              "            + ' to learn more about interactive tables.';\n",
              "          element.innerHTML = '';\n",
              "          dataTable['output_type'] = 'display_data';\n",
              "          await google.colab.output.renderOutput(dataTable, element);\n",
              "          const docLink = document.createElement('div');\n",
              "          docLink.innerHTML = docLinkHtml;\n",
              "          element.appendChild(docLink);\n",
              "        }\n",
              "      </script>\n",
              "    </div>\n",
              "  </div>\n",
              "  "
            ]
          },
          "metadata": {},
          "execution_count": 309
        }
      ]
    },
    {
      "cell_type": "markdown",
      "source": [
        "## correlation categorical features"
      ],
      "metadata": {
        "id": "mIdI9AaffnlI"
      }
    },
    {
      "cell_type": "code",
      "source": [
        "load_data.head()"
      ],
      "metadata": {
        "colab": {
          "base_uri": "https://localhost:8080/",
          "height": 409
        },
        "id": "vs_VjzLXgVKA",
        "outputId": "b70309fa-088a-48c9-dcd4-6da060208340"
      },
      "execution_count": 310,
      "outputs": [
        {
          "output_type": "execute_result",
          "data": {
            "text/plain": [
              "   loan_amnt  funded_amnt  funded_amnt_inv        term  installment grade  \\\n",
              "0       5000         5000           4975.0   36 months       162.87     B   \n",
              "1       2500         2500           2500.0   60 months        59.83     C   \n",
              "2       2400         2400           2400.0   36 months        84.33     C   \n",
              "3      10000        10000          10000.0   36 months       339.31     C   \n",
              "4       3000         3000           3000.0   60 months        67.79     B   \n",
              "\n",
              "                  emp_title home_ownership  annual_inc verification_status  \\\n",
              "0                       NaN           RENT     24000.0            Verified   \n",
              "1                     Ryder           RENT     30000.0     Source Verified   \n",
              "2                       NaN           RENT     12252.0        Not Verified   \n",
              "3       AIR RESOURCES BOARD           RENT     49200.0     Source Verified   \n",
              "4  University Medical Group           RENT     80000.0     Source Verified   \n",
              "\n",
              "  pymnt_plan         purpose                 title addr_state    dti  \\\n",
              "0          n     credit_card              Computer         AZ  27.65   \n",
              "1          n             car                  bike         GA   1.00   \n",
              "2          n  small_business  real estate business         IL   8.72   \n",
              "3          n           other              personel         CA  20.00   \n",
              "4          n           other              Personal         OR  17.94   \n",
              "\n",
              "   delinq_2yrs  inq_last_6mths  open_acc  pub_rec  revol_bal  revol_util  \\\n",
              "0          0.0             1.0       3.0      0.0      13648        83.7   \n",
              "1          0.0             5.0       3.0      0.0       1687         9.4   \n",
              "2          0.0             2.0       2.0      0.0       2956        98.5   \n",
              "3          0.0             1.0      10.0      0.0       5598        21.0   \n",
              "4          0.0             0.0      15.0      0.0      27783        53.9   \n",
              "\n",
              "   total_acc  tot_cur_bal  tot_coll_amt  total_rev_hi_lim  \\\n",
              "0        9.0          NaN           NaN               NaN   \n",
              "1        4.0          NaN           NaN               NaN   \n",
              "2       10.0          NaN           NaN               NaN   \n",
              "3       37.0          NaN           NaN               NaN   \n",
              "4       38.0          NaN           NaN               NaN   \n",
              "\n",
              "   mths_since_last_delinq initial_list_status   total_pymnt  total_pymnt_inv  \\\n",
              "0                     NaN                   f   5861.071414          5831.78   \n",
              "1                     NaN                   f   1008.710000          1008.71   \n",
              "2                     NaN                   f   3003.653644          3003.65   \n",
              "3                    35.0                   f  12226.302210         12226.30   \n",
              "4                    38.0                   f   3242.170000          3242.17   \n",
              "\n",
              "   total_rec_prncp  total_rec_int  total_rec_late_fee  recoveries  \\\n",
              "0          5000.00         861.07                0.00        0.00   \n",
              "1           456.46         435.17                0.00      117.08   \n",
              "2          2400.00         603.65                0.00        0.00   \n",
              "3         10000.00        2209.33               16.97        0.00   \n",
              "4          2233.10        1009.07                0.00        0.00   \n",
              "\n",
              "   collection_recovery_fee  last_pymnt_amnt  collections_12_mths_ex_med  \\\n",
              "0                     0.00           171.62                         0.0   \n",
              "1                     1.11           119.66                         0.0   \n",
              "2                     0.00           649.91                         0.0   \n",
              "3                     0.00           357.48                         0.0   \n",
              "4                     0.00            67.79                         0.0   \n",
              "\n",
              "   policy_code application_type  acc_now_delinq  term_months  bad_flag  \\\n",
              "0            1       INDIVIDUAL             0.0           36         0   \n",
              "1            1       INDIVIDUAL             0.0           60         1   \n",
              "2            1       INDIVIDUAL             0.0           36         0   \n",
              "3            1       INDIVIDUAL             0.0           36         0   \n",
              "4            1       INDIVIDUAL             0.0           60         0   \n",
              "\n",
              "   emp_length_int  mths_since_earliest_cr_line  mths_since_issue_d  \\\n",
              "0            10.0                        395.0                72.0   \n",
              "1             0.0                        224.0                72.0   \n",
              "2            10.0                        193.0                72.0   \n",
              "3            10.0                        262.0                72.0   \n",
              "4             1.0                        263.0                72.0   \n",
              "\n",
              "   mths_since_last_pymnt_d  mths_since_next_pymnt_d  \\\n",
              "0                     35.0                      NaN   \n",
              "1                     56.0                      NaN   \n",
              "2                     42.0                      NaN   \n",
              "3                     35.0                      NaN   \n",
              "4                     23.0                     22.0   \n",
              "\n",
              "   mths_since_last_credit_pull_d  \n",
              "0                           23.0  \n",
              "1                           51.0  \n",
              "2                           23.0  \n",
              "3                           35.0  \n",
              "4                           23.0  "
            ],
            "text/html": [
              "\n",
              "  <div id=\"df-7f1b63f8-b844-4403-a330-76a52457bd7f\">\n",
              "    <div class=\"colab-df-container\">\n",
              "      <div>\n",
              "<style scoped>\n",
              "    .dataframe tbody tr th:only-of-type {\n",
              "        vertical-align: middle;\n",
              "    }\n",
              "\n",
              "    .dataframe tbody tr th {\n",
              "        vertical-align: top;\n",
              "    }\n",
              "\n",
              "    .dataframe thead th {\n",
              "        text-align: right;\n",
              "    }\n",
              "</style>\n",
              "<table border=\"1\" class=\"dataframe\">\n",
              "  <thead>\n",
              "    <tr style=\"text-align: right;\">\n",
              "      <th></th>\n",
              "      <th>loan_amnt</th>\n",
              "      <th>funded_amnt</th>\n",
              "      <th>funded_amnt_inv</th>\n",
              "      <th>term</th>\n",
              "      <th>installment</th>\n",
              "      <th>grade</th>\n",
              "      <th>emp_title</th>\n",
              "      <th>home_ownership</th>\n",
              "      <th>annual_inc</th>\n",
              "      <th>verification_status</th>\n",
              "      <th>pymnt_plan</th>\n",
              "      <th>purpose</th>\n",
              "      <th>title</th>\n",
              "      <th>addr_state</th>\n",
              "      <th>dti</th>\n",
              "      <th>delinq_2yrs</th>\n",
              "      <th>inq_last_6mths</th>\n",
              "      <th>open_acc</th>\n",
              "      <th>pub_rec</th>\n",
              "      <th>revol_bal</th>\n",
              "      <th>revol_util</th>\n",
              "      <th>total_acc</th>\n",
              "      <th>tot_cur_bal</th>\n",
              "      <th>tot_coll_amt</th>\n",
              "      <th>total_rev_hi_lim</th>\n",
              "      <th>mths_since_last_delinq</th>\n",
              "      <th>initial_list_status</th>\n",
              "      <th>total_pymnt</th>\n",
              "      <th>total_pymnt_inv</th>\n",
              "      <th>total_rec_prncp</th>\n",
              "      <th>total_rec_int</th>\n",
              "      <th>total_rec_late_fee</th>\n",
              "      <th>recoveries</th>\n",
              "      <th>collection_recovery_fee</th>\n",
              "      <th>last_pymnt_amnt</th>\n",
              "      <th>collections_12_mths_ex_med</th>\n",
              "      <th>policy_code</th>\n",
              "      <th>application_type</th>\n",
              "      <th>acc_now_delinq</th>\n",
              "      <th>term_months</th>\n",
              "      <th>bad_flag</th>\n",
              "      <th>emp_length_int</th>\n",
              "      <th>mths_since_earliest_cr_line</th>\n",
              "      <th>mths_since_issue_d</th>\n",
              "      <th>mths_since_last_pymnt_d</th>\n",
              "      <th>mths_since_next_pymnt_d</th>\n",
              "      <th>mths_since_last_credit_pull_d</th>\n",
              "    </tr>\n",
              "  </thead>\n",
              "  <tbody>\n",
              "    <tr>\n",
              "      <th>0</th>\n",
              "      <td>5000</td>\n",
              "      <td>5000</td>\n",
              "      <td>4975.0</td>\n",
              "      <td>36 months</td>\n",
              "      <td>162.87</td>\n",
              "      <td>B</td>\n",
              "      <td>NaN</td>\n",
              "      <td>RENT</td>\n",
              "      <td>24000.0</td>\n",
              "      <td>Verified</td>\n",
              "      <td>n</td>\n",
              "      <td>credit_card</td>\n",
              "      <td>Computer</td>\n",
              "      <td>AZ</td>\n",
              "      <td>27.65</td>\n",
              "      <td>0.0</td>\n",
              "      <td>1.0</td>\n",
              "      <td>3.0</td>\n",
              "      <td>0.0</td>\n",
              "      <td>13648</td>\n",
              "      <td>83.7</td>\n",
              "      <td>9.0</td>\n",
              "      <td>NaN</td>\n",
              "      <td>NaN</td>\n",
              "      <td>NaN</td>\n",
              "      <td>NaN</td>\n",
              "      <td>f</td>\n",
              "      <td>5861.071414</td>\n",
              "      <td>5831.78</td>\n",
              "      <td>5000.00</td>\n",
              "      <td>861.07</td>\n",
              "      <td>0.00</td>\n",
              "      <td>0.00</td>\n",
              "      <td>0.00</td>\n",
              "      <td>171.62</td>\n",
              "      <td>0.0</td>\n",
              "      <td>1</td>\n",
              "      <td>INDIVIDUAL</td>\n",
              "      <td>0.0</td>\n",
              "      <td>36</td>\n",
              "      <td>0</td>\n",
              "      <td>10.0</td>\n",
              "      <td>395.0</td>\n",
              "      <td>72.0</td>\n",
              "      <td>35.0</td>\n",
              "      <td>NaN</td>\n",
              "      <td>23.0</td>\n",
              "    </tr>\n",
              "    <tr>\n",
              "      <th>1</th>\n",
              "      <td>2500</td>\n",
              "      <td>2500</td>\n",
              "      <td>2500.0</td>\n",
              "      <td>60 months</td>\n",
              "      <td>59.83</td>\n",
              "      <td>C</td>\n",
              "      <td>Ryder</td>\n",
              "      <td>RENT</td>\n",
              "      <td>30000.0</td>\n",
              "      <td>Source Verified</td>\n",
              "      <td>n</td>\n",
              "      <td>car</td>\n",
              "      <td>bike</td>\n",
              "      <td>GA</td>\n",
              "      <td>1.00</td>\n",
              "      <td>0.0</td>\n",
              "      <td>5.0</td>\n",
              "      <td>3.0</td>\n",
              "      <td>0.0</td>\n",
              "      <td>1687</td>\n",
              "      <td>9.4</td>\n",
              "      <td>4.0</td>\n",
              "      <td>NaN</td>\n",
              "      <td>NaN</td>\n",
              "      <td>NaN</td>\n",
              "      <td>NaN</td>\n",
              "      <td>f</td>\n",
              "      <td>1008.710000</td>\n",
              "      <td>1008.71</td>\n",
              "      <td>456.46</td>\n",
              "      <td>435.17</td>\n",
              "      <td>0.00</td>\n",
              "      <td>117.08</td>\n",
              "      <td>1.11</td>\n",
              "      <td>119.66</td>\n",
              "      <td>0.0</td>\n",
              "      <td>1</td>\n",
              "      <td>INDIVIDUAL</td>\n",
              "      <td>0.0</td>\n",
              "      <td>60</td>\n",
              "      <td>1</td>\n",
              "      <td>0.0</td>\n",
              "      <td>224.0</td>\n",
              "      <td>72.0</td>\n",
              "      <td>56.0</td>\n",
              "      <td>NaN</td>\n",
              "      <td>51.0</td>\n",
              "    </tr>\n",
              "    <tr>\n",
              "      <th>2</th>\n",
              "      <td>2400</td>\n",
              "      <td>2400</td>\n",
              "      <td>2400.0</td>\n",
              "      <td>36 months</td>\n",
              "      <td>84.33</td>\n",
              "      <td>C</td>\n",
              "      <td>NaN</td>\n",
              "      <td>RENT</td>\n",
              "      <td>12252.0</td>\n",
              "      <td>Not Verified</td>\n",
              "      <td>n</td>\n",
              "      <td>small_business</td>\n",
              "      <td>real estate business</td>\n",
              "      <td>IL</td>\n",
              "      <td>8.72</td>\n",
              "      <td>0.0</td>\n",
              "      <td>2.0</td>\n",
              "      <td>2.0</td>\n",
              "      <td>0.0</td>\n",
              "      <td>2956</td>\n",
              "      <td>98.5</td>\n",
              "      <td>10.0</td>\n",
              "      <td>NaN</td>\n",
              "      <td>NaN</td>\n",
              "      <td>NaN</td>\n",
              "      <td>NaN</td>\n",
              "      <td>f</td>\n",
              "      <td>3003.653644</td>\n",
              "      <td>3003.65</td>\n",
              "      <td>2400.00</td>\n",
              "      <td>603.65</td>\n",
              "      <td>0.00</td>\n",
              "      <td>0.00</td>\n",
              "      <td>0.00</td>\n",
              "      <td>649.91</td>\n",
              "      <td>0.0</td>\n",
              "      <td>1</td>\n",
              "      <td>INDIVIDUAL</td>\n",
              "      <td>0.0</td>\n",
              "      <td>36</td>\n",
              "      <td>0</td>\n",
              "      <td>10.0</td>\n",
              "      <td>193.0</td>\n",
              "      <td>72.0</td>\n",
              "      <td>42.0</td>\n",
              "      <td>NaN</td>\n",
              "      <td>23.0</td>\n",
              "    </tr>\n",
              "    <tr>\n",
              "      <th>3</th>\n",
              "      <td>10000</td>\n",
              "      <td>10000</td>\n",
              "      <td>10000.0</td>\n",
              "      <td>36 months</td>\n",
              "      <td>339.31</td>\n",
              "      <td>C</td>\n",
              "      <td>AIR RESOURCES BOARD</td>\n",
              "      <td>RENT</td>\n",
              "      <td>49200.0</td>\n",
              "      <td>Source Verified</td>\n",
              "      <td>n</td>\n",
              "      <td>other</td>\n",
              "      <td>personel</td>\n",
              "      <td>CA</td>\n",
              "      <td>20.00</td>\n",
              "      <td>0.0</td>\n",
              "      <td>1.0</td>\n",
              "      <td>10.0</td>\n",
              "      <td>0.0</td>\n",
              "      <td>5598</td>\n",
              "      <td>21.0</td>\n",
              "      <td>37.0</td>\n",
              "      <td>NaN</td>\n",
              "      <td>NaN</td>\n",
              "      <td>NaN</td>\n",
              "      <td>35.0</td>\n",
              "      <td>f</td>\n",
              "      <td>12226.302210</td>\n",
              "      <td>12226.30</td>\n",
              "      <td>10000.00</td>\n",
              "      <td>2209.33</td>\n",
              "      <td>16.97</td>\n",
              "      <td>0.00</td>\n",
              "      <td>0.00</td>\n",
              "      <td>357.48</td>\n",
              "      <td>0.0</td>\n",
              "      <td>1</td>\n",
              "      <td>INDIVIDUAL</td>\n",
              "      <td>0.0</td>\n",
              "      <td>36</td>\n",
              "      <td>0</td>\n",
              "      <td>10.0</td>\n",
              "      <td>262.0</td>\n",
              "      <td>72.0</td>\n",
              "      <td>35.0</td>\n",
              "      <td>NaN</td>\n",
              "      <td>35.0</td>\n",
              "    </tr>\n",
              "    <tr>\n",
              "      <th>4</th>\n",
              "      <td>3000</td>\n",
              "      <td>3000</td>\n",
              "      <td>3000.0</td>\n",
              "      <td>60 months</td>\n",
              "      <td>67.79</td>\n",
              "      <td>B</td>\n",
              "      <td>University Medical Group</td>\n",
              "      <td>RENT</td>\n",
              "      <td>80000.0</td>\n",
              "      <td>Source Verified</td>\n",
              "      <td>n</td>\n",
              "      <td>other</td>\n",
              "      <td>Personal</td>\n",
              "      <td>OR</td>\n",
              "      <td>17.94</td>\n",
              "      <td>0.0</td>\n",
              "      <td>0.0</td>\n",
              "      <td>15.0</td>\n",
              "      <td>0.0</td>\n",
              "      <td>27783</td>\n",
              "      <td>53.9</td>\n",
              "      <td>38.0</td>\n",
              "      <td>NaN</td>\n",
              "      <td>NaN</td>\n",
              "      <td>NaN</td>\n",
              "      <td>38.0</td>\n",
              "      <td>f</td>\n",
              "      <td>3242.170000</td>\n",
              "      <td>3242.17</td>\n",
              "      <td>2233.10</td>\n",
              "      <td>1009.07</td>\n",
              "      <td>0.00</td>\n",
              "      <td>0.00</td>\n",
              "      <td>0.00</td>\n",
              "      <td>67.79</td>\n",
              "      <td>0.0</td>\n",
              "      <td>1</td>\n",
              "      <td>INDIVIDUAL</td>\n",
              "      <td>0.0</td>\n",
              "      <td>60</td>\n",
              "      <td>0</td>\n",
              "      <td>1.0</td>\n",
              "      <td>263.0</td>\n",
              "      <td>72.0</td>\n",
              "      <td>23.0</td>\n",
              "      <td>22.0</td>\n",
              "      <td>23.0</td>\n",
              "    </tr>\n",
              "  </tbody>\n",
              "</table>\n",
              "</div>\n",
              "      <button class=\"colab-df-convert\" onclick=\"convertToInteractive('df-7f1b63f8-b844-4403-a330-76a52457bd7f')\"\n",
              "              title=\"Convert this dataframe to an interactive table.\"\n",
              "              style=\"display:none;\">\n",
              "        \n",
              "  <svg xmlns=\"http://www.w3.org/2000/svg\" height=\"24px\"viewBox=\"0 0 24 24\"\n",
              "       width=\"24px\">\n",
              "    <path d=\"M0 0h24v24H0V0z\" fill=\"none\"/>\n",
              "    <path d=\"M18.56 5.44l.94 2.06.94-2.06 2.06-.94-2.06-.94-.94-2.06-.94 2.06-2.06.94zm-11 1L8.5 8.5l.94-2.06 2.06-.94-2.06-.94L8.5 2.5l-.94 2.06-2.06.94zm10 10l.94 2.06.94-2.06 2.06-.94-2.06-.94-.94-2.06-.94 2.06-2.06.94z\"/><path d=\"M17.41 7.96l-1.37-1.37c-.4-.4-.92-.59-1.43-.59-.52 0-1.04.2-1.43.59L10.3 9.45l-7.72 7.72c-.78.78-.78 2.05 0 2.83L4 21.41c.39.39.9.59 1.41.59.51 0 1.02-.2 1.41-.59l7.78-7.78 2.81-2.81c.8-.78.8-2.07 0-2.86zM5.41 20L4 18.59l7.72-7.72 1.47 1.35L5.41 20z\"/>\n",
              "  </svg>\n",
              "      </button>\n",
              "      \n",
              "  <style>\n",
              "    .colab-df-container {\n",
              "      display:flex;\n",
              "      flex-wrap:wrap;\n",
              "      gap: 12px;\n",
              "    }\n",
              "\n",
              "    .colab-df-convert {\n",
              "      background-color: #E8F0FE;\n",
              "      border: none;\n",
              "      border-radius: 50%;\n",
              "      cursor: pointer;\n",
              "      display: none;\n",
              "      fill: #1967D2;\n",
              "      height: 32px;\n",
              "      padding: 0 0 0 0;\n",
              "      width: 32px;\n",
              "    }\n",
              "\n",
              "    .colab-df-convert:hover {\n",
              "      background-color: #E2EBFA;\n",
              "      box-shadow: 0px 1px 2px rgba(60, 64, 67, 0.3), 0px 1px 3px 1px rgba(60, 64, 67, 0.15);\n",
              "      fill: #174EA6;\n",
              "    }\n",
              "\n",
              "    [theme=dark] .colab-df-convert {\n",
              "      background-color: #3B4455;\n",
              "      fill: #D2E3FC;\n",
              "    }\n",
              "\n",
              "    [theme=dark] .colab-df-convert:hover {\n",
              "      background-color: #434B5C;\n",
              "      box-shadow: 0px 1px 3px 1px rgba(0, 0, 0, 0.15);\n",
              "      filter: drop-shadow(0px 1px 2px rgba(0, 0, 0, 0.3));\n",
              "      fill: #FFFFFF;\n",
              "    }\n",
              "  </style>\n",
              "\n",
              "      <script>\n",
              "        const buttonEl =\n",
              "          document.querySelector('#df-7f1b63f8-b844-4403-a330-76a52457bd7f button.colab-df-convert');\n",
              "        buttonEl.style.display =\n",
              "          google.colab.kernel.accessAllowed ? 'block' : 'none';\n",
              "\n",
              "        async function convertToInteractive(key) {\n",
              "          const element = document.querySelector('#df-7f1b63f8-b844-4403-a330-76a52457bd7f');\n",
              "          const dataTable =\n",
              "            await google.colab.kernel.invokeFunction('convertToInteractive',\n",
              "                                                     [key], {});\n",
              "          if (!dataTable) return;\n",
              "\n",
              "          const docLinkHtml = 'Like what you see? Visit the ' +\n",
              "            '<a target=\"_blank\" href=https://colab.research.google.com/notebooks/data_table.ipynb>data table notebook</a>'\n",
              "            + ' to learn more about interactive tables.';\n",
              "          element.innerHTML = '';\n",
              "          dataTable['output_type'] = 'display_data';\n",
              "          await google.colab.output.renderOutput(dataTable, element);\n",
              "          const docLink = document.createElement('div');\n",
              "          docLink.innerHTML = docLinkHtml;\n",
              "          element.appendChild(docLink);\n",
              "        }\n",
              "      </script>\n",
              "    </div>\n",
              "  </div>\n",
              "  "
            ]
          },
          "metadata": {},
          "execution_count": 310
        }
      ]
    },
    {
      "cell_type": "code",
      "source": [
        "from scipy.stats import chi2_contingency"
      ],
      "metadata": {
        "id": "-1A5FPZ4fkHA"
      },
      "execution_count": 311,
      "outputs": []
    },
    {
      "cell_type": "code",
      "source": [
        "cat_features = ['grade','emp_title','home_ownership','verification_status','pymnt_plan',\n",
        "                'purpose','title','addr_state','initial_list_status','application_type']\n",
        "\n",
        "error = 0.05\n",
        "\n",
        "for column in cat_features:\n",
        "    table = load_data[[column, 'bad_flag']].pivot_table(index='bad_flag',\n",
        "                                                   columns=column,\n",
        "                                                   aggfunc=lambda x: len(x))\n",
        "    _, p_value, _, _ = chi2_contingency(table)\n",
        "\n",
        "    print('Variable:', column)\n",
        "    print('p-value: ', p_value)\n",
        "    if p_value < error:\n",
        "        print('Variabel ' + column + ' dan bad_flag berkorelasi')\n",
        "    else:\n",
        "        print('Variabel ' + column + ' dan bad_flag tidak berkorelasi')\n",
        "    print('')"
      ],
      "metadata": {
        "colab": {
          "base_uri": "https://localhost:8080/"
        },
        "id": "L5qepDLde8f5",
        "outputId": "2427e9b0-1e6d-4e19-d827-06a1aa3d4921"
      },
      "execution_count": 312,
      "outputs": [
        {
          "output_type": "stream",
          "name": "stdout",
          "text": [
            "Variable: grade\n",
            "p-value:  0.0\n",
            "Variabel grade dan bad_flag berkorelasi\n",
            "\n",
            "Variable: emp_title\n",
            "p-value:  nan\n",
            "Variabel emp_title dan bad_flag tidak berkorelasi\n",
            "\n",
            "Variable: home_ownership\n",
            "p-value:  nan\n",
            "Variabel home_ownership dan bad_flag tidak berkorelasi\n",
            "\n",
            "Variable: verification_status\n",
            "p-value:  1.1011712895478403e-208\n",
            "Variabel verification_status dan bad_flag berkorelasi\n",
            "\n",
            "Variable: pymnt_plan\n",
            "p-value:  0.007185645086446904\n",
            "Variabel pymnt_plan dan bad_flag berkorelasi\n",
            "\n",
            "Variable: purpose\n",
            "p-value:  0.0\n",
            "Variabel purpose dan bad_flag berkorelasi\n",
            "\n",
            "Variable: title\n",
            "p-value:  nan\n",
            "Variabel title dan bad_flag tidak berkorelasi\n",
            "\n",
            "Variable: addr_state\n",
            "p-value:  nan\n",
            "Variabel addr_state dan bad_flag tidak berkorelasi\n",
            "\n",
            "Variable: initial_list_status\n",
            "p-value:  7.216184133923969e-236\n",
            "Variabel initial_list_status dan bad_flag berkorelasi\n",
            "\n",
            "Variable: application_type\n",
            "p-value:  1.0\n",
            "Variabel application_type dan bad_flag tidak berkorelasi\n",
            "\n"
          ]
        }
      ]
    },
    {
      "cell_type": "code",
      "source": [
        "load_data = load_data.drop(['application_type','addr_state','title','home_ownership','emp_title','term'], axis=1)\n",
        "load_data.head(2)"
      ],
      "metadata": {
        "colab": {
          "base_uri": "https://localhost:8080/",
          "height": 176
        },
        "id": "omx5PLR8gK2e",
        "outputId": "6f52ee87-f1c3-43d8-cbc8-3d9c79b3f4ac"
      },
      "execution_count": 313,
      "outputs": [
        {
          "output_type": "execute_result",
          "data": {
            "text/plain": [
              "   loan_amnt  funded_amnt  funded_amnt_inv  installment grade  annual_inc  \\\n",
              "0       5000         5000           4975.0       162.87     B     24000.0   \n",
              "1       2500         2500           2500.0        59.83     C     30000.0   \n",
              "\n",
              "  verification_status pymnt_plan      purpose    dti  delinq_2yrs  \\\n",
              "0            Verified          n  credit_card  27.65          0.0   \n",
              "1     Source Verified          n          car   1.00          0.0   \n",
              "\n",
              "   inq_last_6mths  open_acc  pub_rec  revol_bal  revol_util  total_acc  \\\n",
              "0             1.0       3.0      0.0      13648        83.7        9.0   \n",
              "1             5.0       3.0      0.0       1687         9.4        4.0   \n",
              "\n",
              "   tot_cur_bal  tot_coll_amt  total_rev_hi_lim  mths_since_last_delinq  \\\n",
              "0          NaN           NaN               NaN                     NaN   \n",
              "1          NaN           NaN               NaN                     NaN   \n",
              "\n",
              "  initial_list_status  total_pymnt  total_pymnt_inv  total_rec_prncp  \\\n",
              "0                   f  5861.071414          5831.78          5000.00   \n",
              "1                   f  1008.710000          1008.71           456.46   \n",
              "\n",
              "   total_rec_int  total_rec_late_fee  recoveries  collection_recovery_fee  \\\n",
              "0         861.07                 0.0        0.00                     0.00   \n",
              "1         435.17                 0.0      117.08                     1.11   \n",
              "\n",
              "   last_pymnt_amnt  collections_12_mths_ex_med  policy_code  acc_now_delinq  \\\n",
              "0           171.62                         0.0            1             0.0   \n",
              "1           119.66                         0.0            1             0.0   \n",
              "\n",
              "   term_months  bad_flag  emp_length_int  mths_since_earliest_cr_line  \\\n",
              "0           36         0            10.0                        395.0   \n",
              "1           60         1             0.0                        224.0   \n",
              "\n",
              "   mths_since_issue_d  mths_since_last_pymnt_d  mths_since_next_pymnt_d  \\\n",
              "0                72.0                     35.0                      NaN   \n",
              "1                72.0                     56.0                      NaN   \n",
              "\n",
              "   mths_since_last_credit_pull_d  \n",
              "0                           23.0  \n",
              "1                           51.0  "
            ],
            "text/html": [
              "\n",
              "  <div id=\"df-4375e0e1-d4dd-4b33-a509-b64cfd59a0a6\">\n",
              "    <div class=\"colab-df-container\">\n",
              "      <div>\n",
              "<style scoped>\n",
              "    .dataframe tbody tr th:only-of-type {\n",
              "        vertical-align: middle;\n",
              "    }\n",
              "\n",
              "    .dataframe tbody tr th {\n",
              "        vertical-align: top;\n",
              "    }\n",
              "\n",
              "    .dataframe thead th {\n",
              "        text-align: right;\n",
              "    }\n",
              "</style>\n",
              "<table border=\"1\" class=\"dataframe\">\n",
              "  <thead>\n",
              "    <tr style=\"text-align: right;\">\n",
              "      <th></th>\n",
              "      <th>loan_amnt</th>\n",
              "      <th>funded_amnt</th>\n",
              "      <th>funded_amnt_inv</th>\n",
              "      <th>installment</th>\n",
              "      <th>grade</th>\n",
              "      <th>annual_inc</th>\n",
              "      <th>verification_status</th>\n",
              "      <th>pymnt_plan</th>\n",
              "      <th>purpose</th>\n",
              "      <th>dti</th>\n",
              "      <th>delinq_2yrs</th>\n",
              "      <th>inq_last_6mths</th>\n",
              "      <th>open_acc</th>\n",
              "      <th>pub_rec</th>\n",
              "      <th>revol_bal</th>\n",
              "      <th>revol_util</th>\n",
              "      <th>total_acc</th>\n",
              "      <th>tot_cur_bal</th>\n",
              "      <th>tot_coll_amt</th>\n",
              "      <th>total_rev_hi_lim</th>\n",
              "      <th>mths_since_last_delinq</th>\n",
              "      <th>initial_list_status</th>\n",
              "      <th>total_pymnt</th>\n",
              "      <th>total_pymnt_inv</th>\n",
              "      <th>total_rec_prncp</th>\n",
              "      <th>total_rec_int</th>\n",
              "      <th>total_rec_late_fee</th>\n",
              "      <th>recoveries</th>\n",
              "      <th>collection_recovery_fee</th>\n",
              "      <th>last_pymnt_amnt</th>\n",
              "      <th>collections_12_mths_ex_med</th>\n",
              "      <th>policy_code</th>\n",
              "      <th>acc_now_delinq</th>\n",
              "      <th>term_months</th>\n",
              "      <th>bad_flag</th>\n",
              "      <th>emp_length_int</th>\n",
              "      <th>mths_since_earliest_cr_line</th>\n",
              "      <th>mths_since_issue_d</th>\n",
              "      <th>mths_since_last_pymnt_d</th>\n",
              "      <th>mths_since_next_pymnt_d</th>\n",
              "      <th>mths_since_last_credit_pull_d</th>\n",
              "    </tr>\n",
              "  </thead>\n",
              "  <tbody>\n",
              "    <tr>\n",
              "      <th>0</th>\n",
              "      <td>5000</td>\n",
              "      <td>5000</td>\n",
              "      <td>4975.0</td>\n",
              "      <td>162.87</td>\n",
              "      <td>B</td>\n",
              "      <td>24000.0</td>\n",
              "      <td>Verified</td>\n",
              "      <td>n</td>\n",
              "      <td>credit_card</td>\n",
              "      <td>27.65</td>\n",
              "      <td>0.0</td>\n",
              "      <td>1.0</td>\n",
              "      <td>3.0</td>\n",
              "      <td>0.0</td>\n",
              "      <td>13648</td>\n",
              "      <td>83.7</td>\n",
              "      <td>9.0</td>\n",
              "      <td>NaN</td>\n",
              "      <td>NaN</td>\n",
              "      <td>NaN</td>\n",
              "      <td>NaN</td>\n",
              "      <td>f</td>\n",
              "      <td>5861.071414</td>\n",
              "      <td>5831.78</td>\n",
              "      <td>5000.00</td>\n",
              "      <td>861.07</td>\n",
              "      <td>0.0</td>\n",
              "      <td>0.00</td>\n",
              "      <td>0.00</td>\n",
              "      <td>171.62</td>\n",
              "      <td>0.0</td>\n",
              "      <td>1</td>\n",
              "      <td>0.0</td>\n",
              "      <td>36</td>\n",
              "      <td>0</td>\n",
              "      <td>10.0</td>\n",
              "      <td>395.0</td>\n",
              "      <td>72.0</td>\n",
              "      <td>35.0</td>\n",
              "      <td>NaN</td>\n",
              "      <td>23.0</td>\n",
              "    </tr>\n",
              "    <tr>\n",
              "      <th>1</th>\n",
              "      <td>2500</td>\n",
              "      <td>2500</td>\n",
              "      <td>2500.0</td>\n",
              "      <td>59.83</td>\n",
              "      <td>C</td>\n",
              "      <td>30000.0</td>\n",
              "      <td>Source Verified</td>\n",
              "      <td>n</td>\n",
              "      <td>car</td>\n",
              "      <td>1.00</td>\n",
              "      <td>0.0</td>\n",
              "      <td>5.0</td>\n",
              "      <td>3.0</td>\n",
              "      <td>0.0</td>\n",
              "      <td>1687</td>\n",
              "      <td>9.4</td>\n",
              "      <td>4.0</td>\n",
              "      <td>NaN</td>\n",
              "      <td>NaN</td>\n",
              "      <td>NaN</td>\n",
              "      <td>NaN</td>\n",
              "      <td>f</td>\n",
              "      <td>1008.710000</td>\n",
              "      <td>1008.71</td>\n",
              "      <td>456.46</td>\n",
              "      <td>435.17</td>\n",
              "      <td>0.0</td>\n",
              "      <td>117.08</td>\n",
              "      <td>1.11</td>\n",
              "      <td>119.66</td>\n",
              "      <td>0.0</td>\n",
              "      <td>1</td>\n",
              "      <td>0.0</td>\n",
              "      <td>60</td>\n",
              "      <td>1</td>\n",
              "      <td>0.0</td>\n",
              "      <td>224.0</td>\n",
              "      <td>72.0</td>\n",
              "      <td>56.0</td>\n",
              "      <td>NaN</td>\n",
              "      <td>51.0</td>\n",
              "    </tr>\n",
              "  </tbody>\n",
              "</table>\n",
              "</div>\n",
              "      <button class=\"colab-df-convert\" onclick=\"convertToInteractive('df-4375e0e1-d4dd-4b33-a509-b64cfd59a0a6')\"\n",
              "              title=\"Convert this dataframe to an interactive table.\"\n",
              "              style=\"display:none;\">\n",
              "        \n",
              "  <svg xmlns=\"http://www.w3.org/2000/svg\" height=\"24px\"viewBox=\"0 0 24 24\"\n",
              "       width=\"24px\">\n",
              "    <path d=\"M0 0h24v24H0V0z\" fill=\"none\"/>\n",
              "    <path d=\"M18.56 5.44l.94 2.06.94-2.06 2.06-.94-2.06-.94-.94-2.06-.94 2.06-2.06.94zm-11 1L8.5 8.5l.94-2.06 2.06-.94-2.06-.94L8.5 2.5l-.94 2.06-2.06.94zm10 10l.94 2.06.94-2.06 2.06-.94-2.06-.94-.94-2.06-.94 2.06-2.06.94z\"/><path d=\"M17.41 7.96l-1.37-1.37c-.4-.4-.92-.59-1.43-.59-.52 0-1.04.2-1.43.59L10.3 9.45l-7.72 7.72c-.78.78-.78 2.05 0 2.83L4 21.41c.39.39.9.59 1.41.59.51 0 1.02-.2 1.41-.59l7.78-7.78 2.81-2.81c.8-.78.8-2.07 0-2.86zM5.41 20L4 18.59l7.72-7.72 1.47 1.35L5.41 20z\"/>\n",
              "  </svg>\n",
              "      </button>\n",
              "      \n",
              "  <style>\n",
              "    .colab-df-container {\n",
              "      display:flex;\n",
              "      flex-wrap:wrap;\n",
              "      gap: 12px;\n",
              "    }\n",
              "\n",
              "    .colab-df-convert {\n",
              "      background-color: #E8F0FE;\n",
              "      border: none;\n",
              "      border-radius: 50%;\n",
              "      cursor: pointer;\n",
              "      display: none;\n",
              "      fill: #1967D2;\n",
              "      height: 32px;\n",
              "      padding: 0 0 0 0;\n",
              "      width: 32px;\n",
              "    }\n",
              "\n",
              "    .colab-df-convert:hover {\n",
              "      background-color: #E2EBFA;\n",
              "      box-shadow: 0px 1px 2px rgba(60, 64, 67, 0.3), 0px 1px 3px 1px rgba(60, 64, 67, 0.15);\n",
              "      fill: #174EA6;\n",
              "    }\n",
              "\n",
              "    [theme=dark] .colab-df-convert {\n",
              "      background-color: #3B4455;\n",
              "      fill: #D2E3FC;\n",
              "    }\n",
              "\n",
              "    [theme=dark] .colab-df-convert:hover {\n",
              "      background-color: #434B5C;\n",
              "      box-shadow: 0px 1px 3px 1px rgba(0, 0, 0, 0.15);\n",
              "      filter: drop-shadow(0px 1px 2px rgba(0, 0, 0, 0.3));\n",
              "      fill: #FFFFFF;\n",
              "    }\n",
              "  </style>\n",
              "\n",
              "      <script>\n",
              "        const buttonEl =\n",
              "          document.querySelector('#df-4375e0e1-d4dd-4b33-a509-b64cfd59a0a6 button.colab-df-convert');\n",
              "        buttonEl.style.display =\n",
              "          google.colab.kernel.accessAllowed ? 'block' : 'none';\n",
              "\n",
              "        async function convertToInteractive(key) {\n",
              "          const element = document.querySelector('#df-4375e0e1-d4dd-4b33-a509-b64cfd59a0a6');\n",
              "          const dataTable =\n",
              "            await google.colab.kernel.invokeFunction('convertToInteractive',\n",
              "                                                     [key], {});\n",
              "          if (!dataTable) return;\n",
              "\n",
              "          const docLinkHtml = 'Like what you see? Visit the ' +\n",
              "            '<a target=\"_blank\" href=https://colab.research.google.com/notebooks/data_table.ipynb>data table notebook</a>'\n",
              "            + ' to learn more about interactive tables.';\n",
              "          element.innerHTML = '';\n",
              "          dataTable['output_type'] = 'display_data';\n",
              "          await google.colab.output.renderOutput(dataTable, element);\n",
              "          const docLink = document.createElement('div');\n",
              "          docLink.innerHTML = docLinkHtml;\n",
              "          element.appendChild(docLink);\n",
              "        }\n",
              "      </script>\n",
              "    </div>\n",
              "  </div>\n",
              "  "
            ]
          },
          "metadata": {},
          "execution_count": 313
        }
      ]
    },
    {
      "cell_type": "code",
      "source": [
        "load_data = load_data.drop(['policy_code','pymnt_plan'], axis=1)"
      ],
      "metadata": {
        "id": "BOEhz6Xvhjpx"
      },
      "execution_count": 314,
      "outputs": []
    },
    {
      "cell_type": "markdown",
      "source": [
        "# HANDLE MISSING VALUES"
      ],
      "metadata": {
        "id": "1OQd8FX6slav"
      }
    },
    {
      "cell_type": "code",
      "source": [
        "print('Status Missing Values :',load_data.isnull().values.any())\n",
        "print('\\nJumlah Missing Values masing-masing kolom, adalah:')\n",
        "print(load_data.isnull().sum().sort_values(ascending=False))"
      ],
      "metadata": {
        "colab": {
          "base_uri": "https://localhost:8080/"
        },
        "id": "4f1apw5FuhGw",
        "outputId": "42a38009-2a5b-40c4-f069-f3465950e2b1"
      },
      "execution_count": 315,
      "outputs": [
        {
          "output_type": "stream",
          "name": "stdout",
          "text": [
            "Status Missing Values : True\n",
            "\n",
            "Jumlah Missing Values masing-masing kolom, adalah:\n",
            "mths_since_last_delinq           250351\n",
            "mths_since_next_pymnt_d          227214\n",
            "total_rev_hi_lim                  70276\n",
            "tot_coll_amt                      70276\n",
            "tot_cur_bal                       70276\n",
            "emp_length_int                    21008\n",
            "mths_since_last_pymnt_d             376\n",
            "revol_util                          340\n",
            "collections_12_mths_ex_med          145\n",
            "mths_since_last_credit_pull_d        42\n",
            "inq_last_6mths                       29\n",
            "pub_rec                              29\n",
            "delinq_2yrs                          29\n",
            "total_acc                            29\n",
            "mths_since_earliest_cr_line          29\n",
            "acc_now_delinq                       29\n",
            "open_acc                             29\n",
            "annual_inc                            4\n",
            "collection_recovery_fee               0\n",
            "funded_amnt_inv                       0\n",
            "installment                           0\n",
            "mths_since_issue_d                    0\n",
            "grade                                 0\n",
            "bad_flag                              0\n",
            "term_months                           0\n",
            "last_pymnt_amnt                       0\n",
            "total_rec_int                         0\n",
            "recoveries                            0\n",
            "total_rec_late_fee                    0\n",
            "total_rec_prncp                       0\n",
            "total_pymnt_inv                       0\n",
            "total_pymnt                           0\n",
            "initial_list_status                   0\n",
            "funded_amnt                           0\n",
            "verification_status                   0\n",
            "purpose                               0\n",
            "dti                                   0\n",
            "revol_bal                             0\n",
            "loan_amnt                             0\n",
            "dtype: int64\n"
          ]
        }
      ]
    },
    {
      "cell_type": "code",
      "source": [
        "load_data.columns"
      ],
      "metadata": {
        "colab": {
          "base_uri": "https://localhost:8080/"
        },
        "id": "stRo4cwn4LsI",
        "outputId": "0c65977b-6da7-40e9-8c16-ec15423db9f6"
      },
      "execution_count": 316,
      "outputs": [
        {
          "output_type": "execute_result",
          "data": {
            "text/plain": [
              "Index(['loan_amnt', 'funded_amnt', 'funded_amnt_inv', 'installment', 'grade',\n",
              "       'annual_inc', 'verification_status', 'purpose', 'dti', 'delinq_2yrs',\n",
              "       'inq_last_6mths', 'open_acc', 'pub_rec', 'revol_bal', 'revol_util',\n",
              "       'total_acc', 'tot_cur_bal', 'tot_coll_amt', 'total_rev_hi_lim',\n",
              "       'mths_since_last_delinq', 'initial_list_status', 'total_pymnt',\n",
              "       'total_pymnt_inv', 'total_rec_prncp', 'total_rec_int',\n",
              "       'total_rec_late_fee', 'recoveries', 'collection_recovery_fee',\n",
              "       'last_pymnt_amnt', 'collections_12_mths_ex_med', 'acc_now_delinq',\n",
              "       'term_months', 'bad_flag', 'emp_length_int',\n",
              "       'mths_since_earliest_cr_line', 'mths_since_issue_d',\n",
              "       'mths_since_last_pymnt_d', 'mths_since_next_pymnt_d',\n",
              "       'mths_since_last_credit_pull_d'],\n",
              "      dtype='object')"
            ]
          },
          "metadata": {},
          "execution_count": 316
        }
      ]
    },
    {
      "cell_type": "markdown",
      "source": [
        "## numerical mising values"
      ],
      "metadata": {
        "id": "9S5gr0lW9W_4"
      }
    },
    {
      "cell_type": "code",
      "source": [
        "num_features = ['loan_amnt', 'funded_amnt', 'funded_amnt_inv', 'installment',\n",
        "       'annual_inc','dti', 'delinq_2yrs',\n",
        "       'inq_last_6mths', 'open_acc', 'pub_rec', 'revol_bal', 'revol_util',\n",
        "       'total_acc','total_pymnt', 'total_pymnt_inv',\n",
        "       'total_rec_prncp', 'total_rec_int', 'total_rec_late_fee', 'recoveries',\n",
        "       'collection_recovery_fee', 'last_pymnt_amnt',\n",
        "       'collections_12_mths_ex_med', 'acc_now_delinq', 'tot_cur_bal',\n",
        "       'total_rev_hi_lim', 'term_months', 'bad_flag', 'emp_length_int',\n",
        "       'mths_since_earliest_cr_line', 'mths_since_issue_d',\n",
        "       'mths_since_last_pymnt_d', 'mths_since_next_pymnt_d',\n",
        "       'mths_since_last_credit_pull_d']\n",
        "\n",
        "\n",
        "for col in num_features:\n",
        "    if load_data[col].isnull().mean()>0:\n",
        "        print(col, round(load_data[col].isnull().mean(),4))"
      ],
      "metadata": {
        "colab": {
          "base_uri": "https://localhost:8080/"
        },
        "id": "5aoFivpQiqwS",
        "outputId": "d2cfef89-e3ab-4278-ee8b-c0227eaa8a5b"
      },
      "execution_count": 317,
      "outputs": [
        {
          "output_type": "stream",
          "name": "stdout",
          "text": [
            "annual_inc 0.0\n",
            "delinq_2yrs 0.0001\n",
            "inq_last_6mths 0.0001\n",
            "open_acc 0.0001\n",
            "pub_rec 0.0001\n",
            "revol_util 0.0007\n",
            "total_acc 0.0001\n",
            "collections_12_mths_ex_med 0.0003\n",
            "acc_now_delinq 0.0001\n",
            "tot_cur_bal 0.1507\n",
            "total_rev_hi_lim 0.1507\n",
            "emp_length_int 0.0451\n",
            "mths_since_earliest_cr_line 0.0001\n",
            "mths_since_last_pymnt_d 0.0008\n",
            "mths_since_next_pymnt_d 0.4873\n",
            "mths_since_last_credit_pull_d 0.0001\n"
          ]
        }
      ]
    },
    {
      "cell_type": "code",
      "source": [
        "load_data['annual_inc'].fillna(load_data['annual_inc'].mean(), inplace=True)\n",
        "load_data['mths_since_earliest_cr_line'].fillna(0, inplace=True)\n",
        "load_data['acc_now_delinq'].fillna(0, inplace=True)\n",
        "load_data['total_acc'].fillna(0, inplace=True)\n",
        "load_data['pub_rec'].fillna(0, inplace=True)\n",
        "load_data['open_acc'].fillna(0, inplace=True)\n",
        "load_data['inq_last_6mths'].fillna(0, inplace=True)\n",
        "load_data['delinq_2yrs'].fillna(0, inplace=True)\n",
        "load_data['collections_12_mths_ex_med'].fillna(0, inplace=True)\n",
        "load_data['revol_util'].fillna(0, inplace=True)\n",
        "load_data['emp_length_int'].fillna(0, inplace=True)\n",
        "load_data['tot_cur_bal'].fillna(0, inplace=True)\n",
        "load_data['tot_coll_amt'].fillna(0, inplace=True)\n",
        "load_data['mths_since_last_delinq'].fillna(-1, inplace=True)"
      ],
      "metadata": {
        "id": "g_RY3tpB5I-5"
      },
      "execution_count": 318,
      "outputs": []
    },
    {
      "cell_type": "markdown",
      "source": [
        "## categorical missing values"
      ],
      "metadata": {
        "id": "XzP5ERrS9tL4"
      }
    },
    {
      "cell_type": "code",
      "source": [
        "cat_features = ['grade','verification_status','purpose','initial_list_status']\n",
        "\n",
        "load_data[cat_features].isnull().mean()"
      ],
      "metadata": {
        "colab": {
          "base_uri": "https://localhost:8080/"
        },
        "id": "anqViqkz52ah",
        "outputId": "c47760d4-40d0-47ba-d50e-cf5237384680"
      },
      "execution_count": 319,
      "outputs": [
        {
          "output_type": "execute_result",
          "data": {
            "text/plain": [
              "grade                  0.0\n",
              "verification_status    0.0\n",
              "purpose                0.0\n",
              "initial_list_status    0.0\n",
              "dtype: float64"
            ]
          },
          "metadata": {},
          "execution_count": 319
        }
      ]
    },
    {
      "cell_type": "markdown",
      "source": [
        "#Save load_data features"
      ],
      "metadata": {
        "id": "XVs18piM-Mcd"
      }
    },
    {
      "cell_type": "code",
      "source": [
        "load_data.to_csv('/content/gdrive/MyDrive/dataset/load_data.csv', index = False)"
      ],
      "metadata": {
        "id": "o6AdNb9A-Lyd"
      },
      "execution_count": 320,
      "outputs": []
    }
  ]
}
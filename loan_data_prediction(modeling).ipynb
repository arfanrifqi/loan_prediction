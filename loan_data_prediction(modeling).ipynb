{
  "nbformat": 4,
  "nbformat_minor": 0,
  "metadata": {
    "colab": {
      "name": "loan data prediction(modeling)",
      "provenance": [],
      "toc_visible": true,
      "authorship_tag": "ABX9TyNzzvtOw4tt2dS/8dycVCyV",
      "include_colab_link": true
    },
    "kernelspec": {
      "name": "python3",
      "display_name": "Python 3"
    },
    "language_info": {
      "name": "python"
    }
  },
  "cells": [
    {
      "cell_type": "markdown",
      "metadata": {
        "id": "view-in-github",
        "colab_type": "text"
      },
      "source": [
        "<a href=\"https://colab.research.google.com/github/arfanrifqi/loan_prediction/blob/main/loan_data_prediction(modeling).ipynb\" target=\"_parent\"><img src=\"https://colab.research.google.com/assets/colab-badge.svg\" alt=\"Open In Colab\"/></a>"
      ]
    },
    {
      "cell_type": "markdown",
      "source": [
        "# LIBRARY"
      ],
      "metadata": {
        "id": "Wk5WehEYCebT"
      }
    },
    {
      "cell_type": "code",
      "execution_count": 44,
      "metadata": {
        "colab": {
          "base_uri": "https://localhost:8080/"
        },
        "id": "JOt18OP6CWfV",
        "outputId": "574bf313-1848-4da7-f66e-4431930623ca"
      },
      "outputs": [
        {
          "output_type": "stream",
          "name": "stdout",
          "text": [
            "Drive already mounted at /content/gdrive; to attempt to forcibly remount, call drive.mount(\"/content/gdrive\", force_remount=True).\n"
          ]
        }
      ],
      "source": [
        "import pandas as pd\n",
        "import numpy as np\n",
        "import matplotlib.pyplot as plt\n",
        "import matplotlib.ticker as ticker\n",
        "import seaborn as sns\n",
        "\n",
        "from sklearn.preprocessing import LabelEncoder, StandardScaler\n",
        "from sklearn.model_selection import train_test_split\n",
        "from sklearn.linear_model import LogisticRegression\n",
        "from sklearn.metrics import classification_report\n",
        "from sklearn.metrics import accuracy_score\n",
        "from imblearn.under_sampling import RandomUnderSampler\n",
        "from sklearn.ensemble import AdaBoostClassifier\n",
        "from imblearn.over_sampling import SMOTE\n",
        "\n",
        "pd.set_option('display.max_rows', 500)\n",
        "pd.set_option('display.max_columns', 500)\n",
        "\n",
        "from google.colab import drive\n",
        "drive.mount('/content/gdrive')"
      ]
    },
    {
      "cell_type": "markdown",
      "source": [
        "#READ DATASET"
      ],
      "metadata": {
        "id": "gX92OobvCufj"
      }
    },
    {
      "cell_type": "code",
      "source": [
        "load_data = pd.read_csv('/content/gdrive/MyDrive/dataset/credit_risk/data_clean.csv')"
      ],
      "metadata": {
        "id": "Gsxmau1ICiDx"
      },
      "execution_count": 45,
      "outputs": []
    },
    {
      "cell_type": "code",
      "source": [
        "load_data.info()"
      ],
      "metadata": {
        "colab": {
          "base_uri": "https://localhost:8080/"
        },
        "id": "N23GrWIR1jZl",
        "outputId": "9819af76-916f-4aff-9c72-7da325bb522a"
      },
      "execution_count": 46,
      "outputs": [
        {
          "output_type": "stream",
          "name": "stdout",
          "text": [
            "<class 'pandas.core.frame.DataFrame'>\n",
            "RangeIndex: 466285 entries, 0 to 466284\n",
            "Data columns (total 26 columns):\n",
            " #   Column                       Non-Null Count   Dtype  \n",
            "---  ------                       --------------   -----  \n",
            " 0   loan_amnt                    466285 non-null  int64  \n",
            " 1   grade                        466285 non-null  object \n",
            " 2   annual_inc                   466285 non-null  float64\n",
            " 3   verification_status          466285 non-null  object \n",
            " 4   purpose                      466285 non-null  object \n",
            " 5   dti                          466285 non-null  float64\n",
            " 6   delinq_2yrs                  466285 non-null  float64\n",
            " 7   inq_last_6mths               466285 non-null  float64\n",
            " 8   open_acc                     466285 non-null  float64\n",
            " 9   pub_rec                      466285 non-null  float64\n",
            " 10  revol_bal                    466285 non-null  int64  \n",
            " 11  revol_util                   466285 non-null  float64\n",
            " 12  total_acc                    466285 non-null  float64\n",
            " 13  tot_cur_bal                  466285 non-null  float64\n",
            " 14  tot_coll_amt                 466285 non-null  float64\n",
            " 15  mths_since_last_delinq       466285 non-null  float64\n",
            " 16  initial_list_status          466285 non-null  object \n",
            " 17  total_rec_late_fee           466285 non-null  float64\n",
            " 18  recoveries                   466285 non-null  float64\n",
            " 19  collections_12_mths_ex_med   466285 non-null  float64\n",
            " 20  acc_now_delinq               466285 non-null  float64\n",
            " 21  term_months                  466285 non-null  int64  \n",
            " 22  bad_flag                     466285 non-null  int64  \n",
            " 23  emp_length_int               466285 non-null  float64\n",
            " 24  mths_since_earliest_cr_line  466285 non-null  float64\n",
            " 25  mths_since_issue_d           466285 non-null  float64\n",
            "dtypes: float64(18), int64(4), object(4)\n",
            "memory usage: 92.5+ MB\n"
          ]
        }
      ]
    },
    {
      "cell_type": "markdown",
      "source": [
        "# FEATURE SCALING AND TRANSFORMATION"
      ],
      "metadata": {
        "id": "j2Z5L7VkDuhh"
      }
    },
    {
      "cell_type": "markdown",
      "source": [
        "## using one hot encoding"
      ],
      "metadata": {
        "id": "AaKqRvfkDvHC"
      }
    },
    {
      "cell_type": "code",
      "source": [
        "cat_features = [col for col in load_data.select_dtypes(include='object').columns.tolist()]"
      ],
      "metadata": {
        "id": "QutB6FwKDQw_"
      },
      "execution_count": 47,
      "outputs": []
    },
    {
      "cell_type": "code",
      "source": [
        "onehot = pd.get_dummies(load_data[cat_features], drop_first=True)\n",
        "onehot.head()"
      ],
      "metadata": {
        "colab": {
          "base_uri": "https://localhost:8080/",
          "height": 288
        },
        "id": "IVbeoBXMEJR_",
        "outputId": "ed34a110-9097-4083-d4d5-390fc62eb8c3"
      },
      "execution_count": 48,
      "outputs": [
        {
          "output_type": "execute_result",
          "data": {
            "text/plain": [
              "   grade_B  grade_C  grade_D  grade_E  grade_F  grade_G  \\\n",
              "0        1        0        0        0        0        0   \n",
              "1        0        1        0        0        0        0   \n",
              "2        0        1        0        0        0        0   \n",
              "3        0        1        0        0        0        0   \n",
              "4        1        0        0        0        0        0   \n",
              "\n",
              "   verification_status_Source Verified  verification_status_Verified  \\\n",
              "0                                    0                             1   \n",
              "1                                    1                             0   \n",
              "2                                    0                             0   \n",
              "3                                    1                             0   \n",
              "4                                    1                             0   \n",
              "\n",
              "   purpose_credit_card  purpose_debt_consolidation  purpose_educational  \\\n",
              "0                    1                           0                    0   \n",
              "1                    0                           0                    0   \n",
              "2                    0                           0                    0   \n",
              "3                    0                           0                    0   \n",
              "4                    0                           0                    0   \n",
              "\n",
              "   purpose_home_improvement  purpose_house  purpose_major_purchase  \\\n",
              "0                         0              0                       0   \n",
              "1                         0              0                       0   \n",
              "2                         0              0                       0   \n",
              "3                         0              0                       0   \n",
              "4                         0              0                       0   \n",
              "\n",
              "   purpose_medical  purpose_moving  purpose_other  purpose_renewable_energy  \\\n",
              "0                0               0              0                         0   \n",
              "1                0               0              0                         0   \n",
              "2                0               0              0                         0   \n",
              "3                0               0              1                         0   \n",
              "4                0               0              1                         0   \n",
              "\n",
              "   purpose_small_business  purpose_vacation  purpose_wedding  \\\n",
              "0                       0                 0                0   \n",
              "1                       0                 0                0   \n",
              "2                       1                 0                0   \n",
              "3                       0                 0                0   \n",
              "4                       0                 0                0   \n",
              "\n",
              "   initial_list_status_w  \n",
              "0                      0  \n",
              "1                      0  \n",
              "2                      0  \n",
              "3                      0  \n",
              "4                      0  "
            ],
            "text/html": [
              "\n",
              "  <div id=\"df-0794e34f-fb18-4811-8d3d-a8606dca3e25\">\n",
              "    <div class=\"colab-df-container\">\n",
              "      <div>\n",
              "<style scoped>\n",
              "    .dataframe tbody tr th:only-of-type {\n",
              "        vertical-align: middle;\n",
              "    }\n",
              "\n",
              "    .dataframe tbody tr th {\n",
              "        vertical-align: top;\n",
              "    }\n",
              "\n",
              "    .dataframe thead th {\n",
              "        text-align: right;\n",
              "    }\n",
              "</style>\n",
              "<table border=\"1\" class=\"dataframe\">\n",
              "  <thead>\n",
              "    <tr style=\"text-align: right;\">\n",
              "      <th></th>\n",
              "      <th>grade_B</th>\n",
              "      <th>grade_C</th>\n",
              "      <th>grade_D</th>\n",
              "      <th>grade_E</th>\n",
              "      <th>grade_F</th>\n",
              "      <th>grade_G</th>\n",
              "      <th>verification_status_Source Verified</th>\n",
              "      <th>verification_status_Verified</th>\n",
              "      <th>purpose_credit_card</th>\n",
              "      <th>purpose_debt_consolidation</th>\n",
              "      <th>purpose_educational</th>\n",
              "      <th>purpose_home_improvement</th>\n",
              "      <th>purpose_house</th>\n",
              "      <th>purpose_major_purchase</th>\n",
              "      <th>purpose_medical</th>\n",
              "      <th>purpose_moving</th>\n",
              "      <th>purpose_other</th>\n",
              "      <th>purpose_renewable_energy</th>\n",
              "      <th>purpose_small_business</th>\n",
              "      <th>purpose_vacation</th>\n",
              "      <th>purpose_wedding</th>\n",
              "      <th>initial_list_status_w</th>\n",
              "    </tr>\n",
              "  </thead>\n",
              "  <tbody>\n",
              "    <tr>\n",
              "      <th>0</th>\n",
              "      <td>1</td>\n",
              "      <td>0</td>\n",
              "      <td>0</td>\n",
              "      <td>0</td>\n",
              "      <td>0</td>\n",
              "      <td>0</td>\n",
              "      <td>0</td>\n",
              "      <td>1</td>\n",
              "      <td>1</td>\n",
              "      <td>0</td>\n",
              "      <td>0</td>\n",
              "      <td>0</td>\n",
              "      <td>0</td>\n",
              "      <td>0</td>\n",
              "      <td>0</td>\n",
              "      <td>0</td>\n",
              "      <td>0</td>\n",
              "      <td>0</td>\n",
              "      <td>0</td>\n",
              "      <td>0</td>\n",
              "      <td>0</td>\n",
              "      <td>0</td>\n",
              "    </tr>\n",
              "    <tr>\n",
              "      <th>1</th>\n",
              "      <td>0</td>\n",
              "      <td>1</td>\n",
              "      <td>0</td>\n",
              "      <td>0</td>\n",
              "      <td>0</td>\n",
              "      <td>0</td>\n",
              "      <td>1</td>\n",
              "      <td>0</td>\n",
              "      <td>0</td>\n",
              "      <td>0</td>\n",
              "      <td>0</td>\n",
              "      <td>0</td>\n",
              "      <td>0</td>\n",
              "      <td>0</td>\n",
              "      <td>0</td>\n",
              "      <td>0</td>\n",
              "      <td>0</td>\n",
              "      <td>0</td>\n",
              "      <td>0</td>\n",
              "      <td>0</td>\n",
              "      <td>0</td>\n",
              "      <td>0</td>\n",
              "    </tr>\n",
              "    <tr>\n",
              "      <th>2</th>\n",
              "      <td>0</td>\n",
              "      <td>1</td>\n",
              "      <td>0</td>\n",
              "      <td>0</td>\n",
              "      <td>0</td>\n",
              "      <td>0</td>\n",
              "      <td>0</td>\n",
              "      <td>0</td>\n",
              "      <td>0</td>\n",
              "      <td>0</td>\n",
              "      <td>0</td>\n",
              "      <td>0</td>\n",
              "      <td>0</td>\n",
              "      <td>0</td>\n",
              "      <td>0</td>\n",
              "      <td>0</td>\n",
              "      <td>0</td>\n",
              "      <td>0</td>\n",
              "      <td>1</td>\n",
              "      <td>0</td>\n",
              "      <td>0</td>\n",
              "      <td>0</td>\n",
              "    </tr>\n",
              "    <tr>\n",
              "      <th>3</th>\n",
              "      <td>0</td>\n",
              "      <td>1</td>\n",
              "      <td>0</td>\n",
              "      <td>0</td>\n",
              "      <td>0</td>\n",
              "      <td>0</td>\n",
              "      <td>1</td>\n",
              "      <td>0</td>\n",
              "      <td>0</td>\n",
              "      <td>0</td>\n",
              "      <td>0</td>\n",
              "      <td>0</td>\n",
              "      <td>0</td>\n",
              "      <td>0</td>\n",
              "      <td>0</td>\n",
              "      <td>0</td>\n",
              "      <td>1</td>\n",
              "      <td>0</td>\n",
              "      <td>0</td>\n",
              "      <td>0</td>\n",
              "      <td>0</td>\n",
              "      <td>0</td>\n",
              "    </tr>\n",
              "    <tr>\n",
              "      <th>4</th>\n",
              "      <td>1</td>\n",
              "      <td>0</td>\n",
              "      <td>0</td>\n",
              "      <td>0</td>\n",
              "      <td>0</td>\n",
              "      <td>0</td>\n",
              "      <td>1</td>\n",
              "      <td>0</td>\n",
              "      <td>0</td>\n",
              "      <td>0</td>\n",
              "      <td>0</td>\n",
              "      <td>0</td>\n",
              "      <td>0</td>\n",
              "      <td>0</td>\n",
              "      <td>0</td>\n",
              "      <td>0</td>\n",
              "      <td>1</td>\n",
              "      <td>0</td>\n",
              "      <td>0</td>\n",
              "      <td>0</td>\n",
              "      <td>0</td>\n",
              "      <td>0</td>\n",
              "    </tr>\n",
              "  </tbody>\n",
              "</table>\n",
              "</div>\n",
              "      <button class=\"colab-df-convert\" onclick=\"convertToInteractive('df-0794e34f-fb18-4811-8d3d-a8606dca3e25')\"\n",
              "              title=\"Convert this dataframe to an interactive table.\"\n",
              "              style=\"display:none;\">\n",
              "        \n",
              "  <svg xmlns=\"http://www.w3.org/2000/svg\" height=\"24px\"viewBox=\"0 0 24 24\"\n",
              "       width=\"24px\">\n",
              "    <path d=\"M0 0h24v24H0V0z\" fill=\"none\"/>\n",
              "    <path d=\"M18.56 5.44l.94 2.06.94-2.06 2.06-.94-2.06-.94-.94-2.06-.94 2.06-2.06.94zm-11 1L8.5 8.5l.94-2.06 2.06-.94-2.06-.94L8.5 2.5l-.94 2.06-2.06.94zm10 10l.94 2.06.94-2.06 2.06-.94-2.06-.94-.94-2.06-.94 2.06-2.06.94z\"/><path d=\"M17.41 7.96l-1.37-1.37c-.4-.4-.92-.59-1.43-.59-.52 0-1.04.2-1.43.59L10.3 9.45l-7.72 7.72c-.78.78-.78 2.05 0 2.83L4 21.41c.39.39.9.59 1.41.59.51 0 1.02-.2 1.41-.59l7.78-7.78 2.81-2.81c.8-.78.8-2.07 0-2.86zM5.41 20L4 18.59l7.72-7.72 1.47 1.35L5.41 20z\"/>\n",
              "  </svg>\n",
              "      </button>\n",
              "      \n",
              "  <style>\n",
              "    .colab-df-container {\n",
              "      display:flex;\n",
              "      flex-wrap:wrap;\n",
              "      gap: 12px;\n",
              "    }\n",
              "\n",
              "    .colab-df-convert {\n",
              "      background-color: #E8F0FE;\n",
              "      border: none;\n",
              "      border-radius: 50%;\n",
              "      cursor: pointer;\n",
              "      display: none;\n",
              "      fill: #1967D2;\n",
              "      height: 32px;\n",
              "      padding: 0 0 0 0;\n",
              "      width: 32px;\n",
              "    }\n",
              "\n",
              "    .colab-df-convert:hover {\n",
              "      background-color: #E2EBFA;\n",
              "      box-shadow: 0px 1px 2px rgba(60, 64, 67, 0.3), 0px 1px 3px 1px rgba(60, 64, 67, 0.15);\n",
              "      fill: #174EA6;\n",
              "    }\n",
              "\n",
              "    [theme=dark] .colab-df-convert {\n",
              "      background-color: #3B4455;\n",
              "      fill: #D2E3FC;\n",
              "    }\n",
              "\n",
              "    [theme=dark] .colab-df-convert:hover {\n",
              "      background-color: #434B5C;\n",
              "      box-shadow: 0px 1px 3px 1px rgba(0, 0, 0, 0.15);\n",
              "      filter: drop-shadow(0px 1px 2px rgba(0, 0, 0, 0.3));\n",
              "      fill: #FFFFFF;\n",
              "    }\n",
              "  </style>\n",
              "\n",
              "      <script>\n",
              "        const buttonEl =\n",
              "          document.querySelector('#df-0794e34f-fb18-4811-8d3d-a8606dca3e25 button.colab-df-convert');\n",
              "        buttonEl.style.display =\n",
              "          google.colab.kernel.accessAllowed ? 'block' : 'none';\n",
              "\n",
              "        async function convertToInteractive(key) {\n",
              "          const element = document.querySelector('#df-0794e34f-fb18-4811-8d3d-a8606dca3e25');\n",
              "          const dataTable =\n",
              "            await google.colab.kernel.invokeFunction('convertToInteractive',\n",
              "                                                     [key], {});\n",
              "          if (!dataTable) return;\n",
              "\n",
              "          const docLinkHtml = 'Like what you see? Visit the ' +\n",
              "            '<a target=\"_blank\" href=https://colab.research.google.com/notebooks/data_table.ipynb>data table notebook</a>'\n",
              "            + ' to learn more about interactive tables.';\n",
              "          element.innerHTML = '';\n",
              "          dataTable['output_type'] = 'display_data';\n",
              "          await google.colab.output.renderOutput(dataTable, element);\n",
              "          const docLink = document.createElement('div');\n",
              "          docLink.innerHTML = docLinkHtml;\n",
              "          element.appendChild(docLink);\n",
              "        }\n",
              "      </script>\n",
              "    </div>\n",
              "  </div>\n",
              "  "
            ]
          },
          "metadata": {},
          "execution_count": 48
        }
      ]
    },
    {
      "cell_type": "markdown",
      "source": [
        "## Standardization"
      ],
      "metadata": {
        "id": "RIxqEoeZEl4O"
      }
    },
    {
      "cell_type": "code",
      "source": [
        "num_features = [col for col in load_data.columns.tolist() if col not in cat_features + ['bad_flag']]"
      ],
      "metadata": {
        "id": "farkdLsSEPAr"
      },
      "execution_count": 49,
      "outputs": []
    },
    {
      "cell_type": "code",
      "source": [
        "ss = StandardScaler()\n",
        "std = pd.DataFrame(ss.fit_transform(load_data[num_features]), columns=num_features)"
      ],
      "metadata": {
        "id": "B1dpxy8BHKhv"
      },
      "execution_count": 50,
      "outputs": []
    },
    {
      "cell_type": "code",
      "source": [
        "std.head()"
      ],
      "metadata": {
        "colab": {
          "base_uri": "https://localhost:8080/",
          "height": 270
        },
        "id": "YQiySzmFHSeN",
        "outputId": "aaf2b911-693b-4b0e-f443-c641688d5826"
      },
      "execution_count": 51,
      "outputs": [
        {
          "output_type": "execute_result",
          "data": {
            "text/plain": [
              "   loan_amnt  annual_inc       dti  delinq_2yrs  inq_last_6mths  open_acc  \\\n",
              "0  -1.124392   -0.896551  1.328632    -0.357012        0.178920 -1.641166   \n",
              "1  -1.426088   -0.787387 -2.065791    -0.357012        3.843328 -1.641166   \n",
              "2  -1.438156   -1.110294 -1.082491    -0.357012        1.095022 -1.841641   \n",
              "3  -0.521001   -0.438063  0.354248    -0.357012        0.178920 -0.237839   \n",
              "4  -1.365749    0.122311  0.091865    -0.357012       -0.737182  0.764538   \n",
              "\n",
              "   pub_rec  revol_bal  revol_util  total_acc  tot_cur_bal  tot_coll_amt  \\\n",
              "0 -0.31429  -0.124888    1.159498  -1.384557    -0.792648     -0.012089   \n",
              "1 -0.31429  -0.703378   -1.965980  -1.815538    -0.792648     -0.012089   \n",
              "2 -0.31429  -0.642003    1.782070  -1.298361    -0.792648     -0.012089   \n",
              "3 -0.31429  -0.514224   -1.478018   1.028934    -0.792648     -0.012089   \n",
              "4 -0.31429   0.558748   -0.094058   1.115130    -0.792648     -0.012089   \n",
              "\n",
              "   mths_since_last_delinq  total_rec_late_fee  recoveries  \\\n",
              "0               -0.708792           -0.123464   -0.154549   \n",
              "1               -0.708792           -0.123464    0.057470   \n",
              "2               -0.708792           -0.123464   -0.154549   \n",
              "3                0.860811            3.099264   -0.154549   \n",
              "4                0.991612           -0.123464   -0.154549   \n",
              "\n",
              "   collections_12_mths_ex_med  acc_now_delinq  term_months  emp_length_int  \\\n",
              "0                   -0.083608       -0.058307    -0.616225        1.138605   \n",
              "1                   -0.083608       -0.058307     1.622784       -1.523744   \n",
              "2                   -0.083608       -0.058307    -0.616225        1.138605   \n",
              "3                   -0.083608       -0.058307    -0.616225        1.138605   \n",
              "4                   -0.083608       -0.058307     1.622784       -1.257509   \n",
              "\n",
              "   mths_since_earliest_cr_line  mths_since_issue_d  \n",
              "0                     1.764941            1.446626  \n",
              "1                    -0.212426            1.446626  \n",
              "2                    -0.570896            1.446626  \n",
              "3                     0.226989            1.446626  \n",
              "4                     0.238553            1.446626  "
            ],
            "text/html": [
              "\n",
              "  <div id=\"df-6a51a40f-7add-4cb9-92ed-b7fdbe5cf7ff\">\n",
              "    <div class=\"colab-df-container\">\n",
              "      <div>\n",
              "<style scoped>\n",
              "    .dataframe tbody tr th:only-of-type {\n",
              "        vertical-align: middle;\n",
              "    }\n",
              "\n",
              "    .dataframe tbody tr th {\n",
              "        vertical-align: top;\n",
              "    }\n",
              "\n",
              "    .dataframe thead th {\n",
              "        text-align: right;\n",
              "    }\n",
              "</style>\n",
              "<table border=\"1\" class=\"dataframe\">\n",
              "  <thead>\n",
              "    <tr style=\"text-align: right;\">\n",
              "      <th></th>\n",
              "      <th>loan_amnt</th>\n",
              "      <th>annual_inc</th>\n",
              "      <th>dti</th>\n",
              "      <th>delinq_2yrs</th>\n",
              "      <th>inq_last_6mths</th>\n",
              "      <th>open_acc</th>\n",
              "      <th>pub_rec</th>\n",
              "      <th>revol_bal</th>\n",
              "      <th>revol_util</th>\n",
              "      <th>total_acc</th>\n",
              "      <th>tot_cur_bal</th>\n",
              "      <th>tot_coll_amt</th>\n",
              "      <th>mths_since_last_delinq</th>\n",
              "      <th>total_rec_late_fee</th>\n",
              "      <th>recoveries</th>\n",
              "      <th>collections_12_mths_ex_med</th>\n",
              "      <th>acc_now_delinq</th>\n",
              "      <th>term_months</th>\n",
              "      <th>emp_length_int</th>\n",
              "      <th>mths_since_earliest_cr_line</th>\n",
              "      <th>mths_since_issue_d</th>\n",
              "    </tr>\n",
              "  </thead>\n",
              "  <tbody>\n",
              "    <tr>\n",
              "      <th>0</th>\n",
              "      <td>-1.124392</td>\n",
              "      <td>-0.896551</td>\n",
              "      <td>1.328632</td>\n",
              "      <td>-0.357012</td>\n",
              "      <td>0.178920</td>\n",
              "      <td>-1.641166</td>\n",
              "      <td>-0.31429</td>\n",
              "      <td>-0.124888</td>\n",
              "      <td>1.159498</td>\n",
              "      <td>-1.384557</td>\n",
              "      <td>-0.792648</td>\n",
              "      <td>-0.012089</td>\n",
              "      <td>-0.708792</td>\n",
              "      <td>-0.123464</td>\n",
              "      <td>-0.154549</td>\n",
              "      <td>-0.083608</td>\n",
              "      <td>-0.058307</td>\n",
              "      <td>-0.616225</td>\n",
              "      <td>1.138605</td>\n",
              "      <td>1.764941</td>\n",
              "      <td>1.446626</td>\n",
              "    </tr>\n",
              "    <tr>\n",
              "      <th>1</th>\n",
              "      <td>-1.426088</td>\n",
              "      <td>-0.787387</td>\n",
              "      <td>-2.065791</td>\n",
              "      <td>-0.357012</td>\n",
              "      <td>3.843328</td>\n",
              "      <td>-1.641166</td>\n",
              "      <td>-0.31429</td>\n",
              "      <td>-0.703378</td>\n",
              "      <td>-1.965980</td>\n",
              "      <td>-1.815538</td>\n",
              "      <td>-0.792648</td>\n",
              "      <td>-0.012089</td>\n",
              "      <td>-0.708792</td>\n",
              "      <td>-0.123464</td>\n",
              "      <td>0.057470</td>\n",
              "      <td>-0.083608</td>\n",
              "      <td>-0.058307</td>\n",
              "      <td>1.622784</td>\n",
              "      <td>-1.523744</td>\n",
              "      <td>-0.212426</td>\n",
              "      <td>1.446626</td>\n",
              "    </tr>\n",
              "    <tr>\n",
              "      <th>2</th>\n",
              "      <td>-1.438156</td>\n",
              "      <td>-1.110294</td>\n",
              "      <td>-1.082491</td>\n",
              "      <td>-0.357012</td>\n",
              "      <td>1.095022</td>\n",
              "      <td>-1.841641</td>\n",
              "      <td>-0.31429</td>\n",
              "      <td>-0.642003</td>\n",
              "      <td>1.782070</td>\n",
              "      <td>-1.298361</td>\n",
              "      <td>-0.792648</td>\n",
              "      <td>-0.012089</td>\n",
              "      <td>-0.708792</td>\n",
              "      <td>-0.123464</td>\n",
              "      <td>-0.154549</td>\n",
              "      <td>-0.083608</td>\n",
              "      <td>-0.058307</td>\n",
              "      <td>-0.616225</td>\n",
              "      <td>1.138605</td>\n",
              "      <td>-0.570896</td>\n",
              "      <td>1.446626</td>\n",
              "    </tr>\n",
              "    <tr>\n",
              "      <th>3</th>\n",
              "      <td>-0.521001</td>\n",
              "      <td>-0.438063</td>\n",
              "      <td>0.354248</td>\n",
              "      <td>-0.357012</td>\n",
              "      <td>0.178920</td>\n",
              "      <td>-0.237839</td>\n",
              "      <td>-0.31429</td>\n",
              "      <td>-0.514224</td>\n",
              "      <td>-1.478018</td>\n",
              "      <td>1.028934</td>\n",
              "      <td>-0.792648</td>\n",
              "      <td>-0.012089</td>\n",
              "      <td>0.860811</td>\n",
              "      <td>3.099264</td>\n",
              "      <td>-0.154549</td>\n",
              "      <td>-0.083608</td>\n",
              "      <td>-0.058307</td>\n",
              "      <td>-0.616225</td>\n",
              "      <td>1.138605</td>\n",
              "      <td>0.226989</td>\n",
              "      <td>1.446626</td>\n",
              "    </tr>\n",
              "    <tr>\n",
              "      <th>4</th>\n",
              "      <td>-1.365749</td>\n",
              "      <td>0.122311</td>\n",
              "      <td>0.091865</td>\n",
              "      <td>-0.357012</td>\n",
              "      <td>-0.737182</td>\n",
              "      <td>0.764538</td>\n",
              "      <td>-0.31429</td>\n",
              "      <td>0.558748</td>\n",
              "      <td>-0.094058</td>\n",
              "      <td>1.115130</td>\n",
              "      <td>-0.792648</td>\n",
              "      <td>-0.012089</td>\n",
              "      <td>0.991612</td>\n",
              "      <td>-0.123464</td>\n",
              "      <td>-0.154549</td>\n",
              "      <td>-0.083608</td>\n",
              "      <td>-0.058307</td>\n",
              "      <td>1.622784</td>\n",
              "      <td>-1.257509</td>\n",
              "      <td>0.238553</td>\n",
              "      <td>1.446626</td>\n",
              "    </tr>\n",
              "  </tbody>\n",
              "</table>\n",
              "</div>\n",
              "      <button class=\"colab-df-convert\" onclick=\"convertToInteractive('df-6a51a40f-7add-4cb9-92ed-b7fdbe5cf7ff')\"\n",
              "              title=\"Convert this dataframe to an interactive table.\"\n",
              "              style=\"display:none;\">\n",
              "        \n",
              "  <svg xmlns=\"http://www.w3.org/2000/svg\" height=\"24px\"viewBox=\"0 0 24 24\"\n",
              "       width=\"24px\">\n",
              "    <path d=\"M0 0h24v24H0V0z\" fill=\"none\"/>\n",
              "    <path d=\"M18.56 5.44l.94 2.06.94-2.06 2.06-.94-2.06-.94-.94-2.06-.94 2.06-2.06.94zm-11 1L8.5 8.5l.94-2.06 2.06-.94-2.06-.94L8.5 2.5l-.94 2.06-2.06.94zm10 10l.94 2.06.94-2.06 2.06-.94-2.06-.94-.94-2.06-.94 2.06-2.06.94z\"/><path d=\"M17.41 7.96l-1.37-1.37c-.4-.4-.92-.59-1.43-.59-.52 0-1.04.2-1.43.59L10.3 9.45l-7.72 7.72c-.78.78-.78 2.05 0 2.83L4 21.41c.39.39.9.59 1.41.59.51 0 1.02-.2 1.41-.59l7.78-7.78 2.81-2.81c.8-.78.8-2.07 0-2.86zM5.41 20L4 18.59l7.72-7.72 1.47 1.35L5.41 20z\"/>\n",
              "  </svg>\n",
              "      </button>\n",
              "      \n",
              "  <style>\n",
              "    .colab-df-container {\n",
              "      display:flex;\n",
              "      flex-wrap:wrap;\n",
              "      gap: 12px;\n",
              "    }\n",
              "\n",
              "    .colab-df-convert {\n",
              "      background-color: #E8F0FE;\n",
              "      border: none;\n",
              "      border-radius: 50%;\n",
              "      cursor: pointer;\n",
              "      display: none;\n",
              "      fill: #1967D2;\n",
              "      height: 32px;\n",
              "      padding: 0 0 0 0;\n",
              "      width: 32px;\n",
              "    }\n",
              "\n",
              "    .colab-df-convert:hover {\n",
              "      background-color: #E2EBFA;\n",
              "      box-shadow: 0px 1px 2px rgba(60, 64, 67, 0.3), 0px 1px 3px 1px rgba(60, 64, 67, 0.15);\n",
              "      fill: #174EA6;\n",
              "    }\n",
              "\n",
              "    [theme=dark] .colab-df-convert {\n",
              "      background-color: #3B4455;\n",
              "      fill: #D2E3FC;\n",
              "    }\n",
              "\n",
              "    [theme=dark] .colab-df-convert:hover {\n",
              "      background-color: #434B5C;\n",
              "      box-shadow: 0px 1px 3px 1px rgba(0, 0, 0, 0.15);\n",
              "      filter: drop-shadow(0px 1px 2px rgba(0, 0, 0, 0.3));\n",
              "      fill: #FFFFFF;\n",
              "    }\n",
              "  </style>\n",
              "\n",
              "      <script>\n",
              "        const buttonEl =\n",
              "          document.querySelector('#df-6a51a40f-7add-4cb9-92ed-b7fdbe5cf7ff button.colab-df-convert');\n",
              "        buttonEl.style.display =\n",
              "          google.colab.kernel.accessAllowed ? 'block' : 'none';\n",
              "\n",
              "        async function convertToInteractive(key) {\n",
              "          const element = document.querySelector('#df-6a51a40f-7add-4cb9-92ed-b7fdbe5cf7ff');\n",
              "          const dataTable =\n",
              "            await google.colab.kernel.invokeFunction('convertToInteractive',\n",
              "                                                     [key], {});\n",
              "          if (!dataTable) return;\n",
              "\n",
              "          const docLinkHtml = 'Like what you see? Visit the ' +\n",
              "            '<a target=\"_blank\" href=https://colab.research.google.com/notebooks/data_table.ipynb>data table notebook</a>'\n",
              "            + ' to learn more about interactive tables.';\n",
              "          element.innerHTML = '';\n",
              "          dataTable['output_type'] = 'display_data';\n",
              "          await google.colab.output.renderOutput(dataTable, element);\n",
              "          const docLink = document.createElement('div');\n",
              "          docLink.innerHTML = docLinkHtml;\n",
              "          element.appendChild(docLink);\n",
              "        }\n",
              "      </script>\n",
              "    </div>\n",
              "  </div>\n",
              "  "
            ]
          },
          "metadata": {},
          "execution_count": 51
        }
      ]
    },
    {
      "cell_type": "code",
      "source": [
        "onehot_data_model = pd.concat([onehot, load_data[['bad_flag']]], axis=1)"
      ],
      "metadata": {
        "id": "m5fxRVWDHZWF"
      },
      "execution_count": 52,
      "outputs": []
    },
    {
      "cell_type": "code",
      "source": [
        "onehot_data_model.head()"
      ],
      "metadata": {
        "colab": {
          "base_uri": "https://localhost:8080/",
          "height": 288
        },
        "id": "TJwKmZgdi9kl",
        "outputId": "85c727d7-3113-4ddf-9ebd-d165b7e40c0b"
      },
      "execution_count": 53,
      "outputs": [
        {
          "output_type": "execute_result",
          "data": {
            "text/plain": [
              "   grade_B  grade_C  grade_D  grade_E  grade_F  grade_G  \\\n",
              "0        1        0        0        0        0        0   \n",
              "1        0        1        0        0        0        0   \n",
              "2        0        1        0        0        0        0   \n",
              "3        0        1        0        0        0        0   \n",
              "4        1        0        0        0        0        0   \n",
              "\n",
              "   verification_status_Source Verified  verification_status_Verified  \\\n",
              "0                                    0                             1   \n",
              "1                                    1                             0   \n",
              "2                                    0                             0   \n",
              "3                                    1                             0   \n",
              "4                                    1                             0   \n",
              "\n",
              "   purpose_credit_card  purpose_debt_consolidation  purpose_educational  \\\n",
              "0                    1                           0                    0   \n",
              "1                    0                           0                    0   \n",
              "2                    0                           0                    0   \n",
              "3                    0                           0                    0   \n",
              "4                    0                           0                    0   \n",
              "\n",
              "   purpose_home_improvement  purpose_house  purpose_major_purchase  \\\n",
              "0                         0              0                       0   \n",
              "1                         0              0                       0   \n",
              "2                         0              0                       0   \n",
              "3                         0              0                       0   \n",
              "4                         0              0                       0   \n",
              "\n",
              "   purpose_medical  purpose_moving  purpose_other  purpose_renewable_energy  \\\n",
              "0                0               0              0                         0   \n",
              "1                0               0              0                         0   \n",
              "2                0               0              0                         0   \n",
              "3                0               0              1                         0   \n",
              "4                0               0              1                         0   \n",
              "\n",
              "   purpose_small_business  purpose_vacation  purpose_wedding  \\\n",
              "0                       0                 0                0   \n",
              "1                       0                 0                0   \n",
              "2                       1                 0                0   \n",
              "3                       0                 0                0   \n",
              "4                       0                 0                0   \n",
              "\n",
              "   initial_list_status_w  bad_flag  \n",
              "0                      0         0  \n",
              "1                      0         1  \n",
              "2                      0         0  \n",
              "3                      0         0  \n",
              "4                      0         0  "
            ],
            "text/html": [
              "\n",
              "  <div id=\"df-827012ab-3b93-4a81-a152-0956871d7887\">\n",
              "    <div class=\"colab-df-container\">\n",
              "      <div>\n",
              "<style scoped>\n",
              "    .dataframe tbody tr th:only-of-type {\n",
              "        vertical-align: middle;\n",
              "    }\n",
              "\n",
              "    .dataframe tbody tr th {\n",
              "        vertical-align: top;\n",
              "    }\n",
              "\n",
              "    .dataframe thead th {\n",
              "        text-align: right;\n",
              "    }\n",
              "</style>\n",
              "<table border=\"1\" class=\"dataframe\">\n",
              "  <thead>\n",
              "    <tr style=\"text-align: right;\">\n",
              "      <th></th>\n",
              "      <th>grade_B</th>\n",
              "      <th>grade_C</th>\n",
              "      <th>grade_D</th>\n",
              "      <th>grade_E</th>\n",
              "      <th>grade_F</th>\n",
              "      <th>grade_G</th>\n",
              "      <th>verification_status_Source Verified</th>\n",
              "      <th>verification_status_Verified</th>\n",
              "      <th>purpose_credit_card</th>\n",
              "      <th>purpose_debt_consolidation</th>\n",
              "      <th>purpose_educational</th>\n",
              "      <th>purpose_home_improvement</th>\n",
              "      <th>purpose_house</th>\n",
              "      <th>purpose_major_purchase</th>\n",
              "      <th>purpose_medical</th>\n",
              "      <th>purpose_moving</th>\n",
              "      <th>purpose_other</th>\n",
              "      <th>purpose_renewable_energy</th>\n",
              "      <th>purpose_small_business</th>\n",
              "      <th>purpose_vacation</th>\n",
              "      <th>purpose_wedding</th>\n",
              "      <th>initial_list_status_w</th>\n",
              "      <th>bad_flag</th>\n",
              "    </tr>\n",
              "  </thead>\n",
              "  <tbody>\n",
              "    <tr>\n",
              "      <th>0</th>\n",
              "      <td>1</td>\n",
              "      <td>0</td>\n",
              "      <td>0</td>\n",
              "      <td>0</td>\n",
              "      <td>0</td>\n",
              "      <td>0</td>\n",
              "      <td>0</td>\n",
              "      <td>1</td>\n",
              "      <td>1</td>\n",
              "      <td>0</td>\n",
              "      <td>0</td>\n",
              "      <td>0</td>\n",
              "      <td>0</td>\n",
              "      <td>0</td>\n",
              "      <td>0</td>\n",
              "      <td>0</td>\n",
              "      <td>0</td>\n",
              "      <td>0</td>\n",
              "      <td>0</td>\n",
              "      <td>0</td>\n",
              "      <td>0</td>\n",
              "      <td>0</td>\n",
              "      <td>0</td>\n",
              "    </tr>\n",
              "    <tr>\n",
              "      <th>1</th>\n",
              "      <td>0</td>\n",
              "      <td>1</td>\n",
              "      <td>0</td>\n",
              "      <td>0</td>\n",
              "      <td>0</td>\n",
              "      <td>0</td>\n",
              "      <td>1</td>\n",
              "      <td>0</td>\n",
              "      <td>0</td>\n",
              "      <td>0</td>\n",
              "      <td>0</td>\n",
              "      <td>0</td>\n",
              "      <td>0</td>\n",
              "      <td>0</td>\n",
              "      <td>0</td>\n",
              "      <td>0</td>\n",
              "      <td>0</td>\n",
              "      <td>0</td>\n",
              "      <td>0</td>\n",
              "      <td>0</td>\n",
              "      <td>0</td>\n",
              "      <td>0</td>\n",
              "      <td>1</td>\n",
              "    </tr>\n",
              "    <tr>\n",
              "      <th>2</th>\n",
              "      <td>0</td>\n",
              "      <td>1</td>\n",
              "      <td>0</td>\n",
              "      <td>0</td>\n",
              "      <td>0</td>\n",
              "      <td>0</td>\n",
              "      <td>0</td>\n",
              "      <td>0</td>\n",
              "      <td>0</td>\n",
              "      <td>0</td>\n",
              "      <td>0</td>\n",
              "      <td>0</td>\n",
              "      <td>0</td>\n",
              "      <td>0</td>\n",
              "      <td>0</td>\n",
              "      <td>0</td>\n",
              "      <td>0</td>\n",
              "      <td>0</td>\n",
              "      <td>1</td>\n",
              "      <td>0</td>\n",
              "      <td>0</td>\n",
              "      <td>0</td>\n",
              "      <td>0</td>\n",
              "    </tr>\n",
              "    <tr>\n",
              "      <th>3</th>\n",
              "      <td>0</td>\n",
              "      <td>1</td>\n",
              "      <td>0</td>\n",
              "      <td>0</td>\n",
              "      <td>0</td>\n",
              "      <td>0</td>\n",
              "      <td>1</td>\n",
              "      <td>0</td>\n",
              "      <td>0</td>\n",
              "      <td>0</td>\n",
              "      <td>0</td>\n",
              "      <td>0</td>\n",
              "      <td>0</td>\n",
              "      <td>0</td>\n",
              "      <td>0</td>\n",
              "      <td>0</td>\n",
              "      <td>1</td>\n",
              "      <td>0</td>\n",
              "      <td>0</td>\n",
              "      <td>0</td>\n",
              "      <td>0</td>\n",
              "      <td>0</td>\n",
              "      <td>0</td>\n",
              "    </tr>\n",
              "    <tr>\n",
              "      <th>4</th>\n",
              "      <td>1</td>\n",
              "      <td>0</td>\n",
              "      <td>0</td>\n",
              "      <td>0</td>\n",
              "      <td>0</td>\n",
              "      <td>0</td>\n",
              "      <td>1</td>\n",
              "      <td>0</td>\n",
              "      <td>0</td>\n",
              "      <td>0</td>\n",
              "      <td>0</td>\n",
              "      <td>0</td>\n",
              "      <td>0</td>\n",
              "      <td>0</td>\n",
              "      <td>0</td>\n",
              "      <td>0</td>\n",
              "      <td>1</td>\n",
              "      <td>0</td>\n",
              "      <td>0</td>\n",
              "      <td>0</td>\n",
              "      <td>0</td>\n",
              "      <td>0</td>\n",
              "      <td>0</td>\n",
              "    </tr>\n",
              "  </tbody>\n",
              "</table>\n",
              "</div>\n",
              "      <button class=\"colab-df-convert\" onclick=\"convertToInteractive('df-827012ab-3b93-4a81-a152-0956871d7887')\"\n",
              "              title=\"Convert this dataframe to an interactive table.\"\n",
              "              style=\"display:none;\">\n",
              "        \n",
              "  <svg xmlns=\"http://www.w3.org/2000/svg\" height=\"24px\"viewBox=\"0 0 24 24\"\n",
              "       width=\"24px\">\n",
              "    <path d=\"M0 0h24v24H0V0z\" fill=\"none\"/>\n",
              "    <path d=\"M18.56 5.44l.94 2.06.94-2.06 2.06-.94-2.06-.94-.94-2.06-.94 2.06-2.06.94zm-11 1L8.5 8.5l.94-2.06 2.06-.94-2.06-.94L8.5 2.5l-.94 2.06-2.06.94zm10 10l.94 2.06.94-2.06 2.06-.94-2.06-.94-.94-2.06-.94 2.06-2.06.94z\"/><path d=\"M17.41 7.96l-1.37-1.37c-.4-.4-.92-.59-1.43-.59-.52 0-1.04.2-1.43.59L10.3 9.45l-7.72 7.72c-.78.78-.78 2.05 0 2.83L4 21.41c.39.39.9.59 1.41.59.51 0 1.02-.2 1.41-.59l7.78-7.78 2.81-2.81c.8-.78.8-2.07 0-2.86zM5.41 20L4 18.59l7.72-7.72 1.47 1.35L5.41 20z\"/>\n",
              "  </svg>\n",
              "      </button>\n",
              "      \n",
              "  <style>\n",
              "    .colab-df-container {\n",
              "      display:flex;\n",
              "      flex-wrap:wrap;\n",
              "      gap: 12px;\n",
              "    }\n",
              "\n",
              "    .colab-df-convert {\n",
              "      background-color: #E8F0FE;\n",
              "      border: none;\n",
              "      border-radius: 50%;\n",
              "      cursor: pointer;\n",
              "      display: none;\n",
              "      fill: #1967D2;\n",
              "      height: 32px;\n",
              "      padding: 0 0 0 0;\n",
              "      width: 32px;\n",
              "    }\n",
              "\n",
              "    .colab-df-convert:hover {\n",
              "      background-color: #E2EBFA;\n",
              "      box-shadow: 0px 1px 2px rgba(60, 64, 67, 0.3), 0px 1px 3px 1px rgba(60, 64, 67, 0.15);\n",
              "      fill: #174EA6;\n",
              "    }\n",
              "\n",
              "    [theme=dark] .colab-df-convert {\n",
              "      background-color: #3B4455;\n",
              "      fill: #D2E3FC;\n",
              "    }\n",
              "\n",
              "    [theme=dark] .colab-df-convert:hover {\n",
              "      background-color: #434B5C;\n",
              "      box-shadow: 0px 1px 3px 1px rgba(0, 0, 0, 0.15);\n",
              "      filter: drop-shadow(0px 1px 2px rgba(0, 0, 0, 0.3));\n",
              "      fill: #FFFFFF;\n",
              "    }\n",
              "  </style>\n",
              "\n",
              "      <script>\n",
              "        const buttonEl =\n",
              "          document.querySelector('#df-827012ab-3b93-4a81-a152-0956871d7887 button.colab-df-convert');\n",
              "        buttonEl.style.display =\n",
              "          google.colab.kernel.accessAllowed ? 'block' : 'none';\n",
              "\n",
              "        async function convertToInteractive(key) {\n",
              "          const element = document.querySelector('#df-827012ab-3b93-4a81-a152-0956871d7887');\n",
              "          const dataTable =\n",
              "            await google.colab.kernel.invokeFunction('convertToInteractive',\n",
              "                                                     [key], {});\n",
              "          if (!dataTable) return;\n",
              "\n",
              "          const docLinkHtml = 'Like what you see? Visit the ' +\n",
              "            '<a target=\"_blank\" href=https://colab.research.google.com/notebooks/data_table.ipynb>data table notebook</a>'\n",
              "            + ' to learn more about interactive tables.';\n",
              "          element.innerHTML = '';\n",
              "          dataTable['output_type'] = 'display_data';\n",
              "          await google.colab.output.renderOutput(dataTable, element);\n",
              "          const docLink = document.createElement('div');\n",
              "          docLink.innerHTML = docLinkHtml;\n",
              "          element.appendChild(docLink);\n",
              "        }\n",
              "      </script>\n",
              "    </div>\n",
              "  </div>\n",
              "  "
            ]
          },
          "metadata": {},
          "execution_count": 53
        }
      ]
    },
    {
      "cell_type": "markdown",
      "source": [
        "## using Advance Categorical Preprocessing"
      ],
      "metadata": {
        "id": "sBaoeoAJHyQP"
      }
    },
    {
      "cell_type": "code",
      "source": [
        "cat_data = load_data.pivot_table(index=cat_features,\n",
        "                                values=['recoveries'],\n",
        "                                aggfunc=[np.mean, np.median, np.max, np.min])\n",
        "cat_data.head()"
      ],
      "metadata": {
        "colab": {
          "base_uri": "https://localhost:8080/",
          "height": 333
        },
        "id": "4RJ6okCnHhws",
        "outputId": "27b2db3e-937c-40c0-9750-1087a3876d92"
      },
      "execution_count": 54,
      "outputs": [
        {
          "output_type": "execute_result",
          "data": {
            "text/plain": [
              "                                                                       mean  \\\n",
              "                                                                 recoveries   \n",
              "grade verification_status purpose            initial_list_status              \n",
              "A     Not Verified        car                f                     9.707613   \n",
              "                                             w                     3.716667   \n",
              "                          credit_card        f                    21.158087   \n",
              "                                             w                     2.031246   \n",
              "                          debt_consolidation f                    17.835116   \n",
              "\n",
              "                                                                     median  \\\n",
              "                                                                 recoveries   \n",
              "grade verification_status purpose            initial_list_status              \n",
              "A     Not Verified        car                f                          0.0   \n",
              "                                             w                          0.0   \n",
              "                          credit_card        f                          0.0   \n",
              "                                             w                          0.0   \n",
              "                          debt_consolidation f                          0.0   \n",
              "\n",
              "                                                                       amax  \\\n",
              "                                                                 recoveries   \n",
              "grade verification_status purpose            initial_list_status              \n",
              "A     Not Verified        car                f                      1152.23   \n",
              "                                             w                       590.95   \n",
              "                          credit_card        f                     16502.69   \n",
              "                                             w                      2160.20   \n",
              "                          debt_consolidation f                      7002.10   \n",
              "\n",
              "                                                                       amin  \n",
              "                                                                 recoveries  \n",
              "grade verification_status purpose            initial_list_status             \n",
              "A     Not Verified        car                f                          0.0  \n",
              "                                             w                          0.0  \n",
              "                          credit_card        f                          0.0  \n",
              "                                             w                          0.0  \n",
              "                          debt_consolidation f                          0.0  "
            ],
            "text/html": [
              "\n",
              "  <div id=\"df-71d2cca3-5fe9-4d94-8968-7e6ae34fd033\">\n",
              "    <div class=\"colab-df-container\">\n",
              "      <div>\n",
              "<style scoped>\n",
              "    .dataframe tbody tr th:only-of-type {\n",
              "        vertical-align: middle;\n",
              "    }\n",
              "\n",
              "    .dataframe tbody tr th {\n",
              "        vertical-align: top;\n",
              "    }\n",
              "\n",
              "    .dataframe thead tr th {\n",
              "        text-align: left;\n",
              "    }\n",
              "\n",
              "    .dataframe thead tr:last-of-type th {\n",
              "        text-align: right;\n",
              "    }\n",
              "</style>\n",
              "<table border=\"1\" class=\"dataframe\">\n",
              "  <thead>\n",
              "    <tr>\n",
              "      <th></th>\n",
              "      <th></th>\n",
              "      <th></th>\n",
              "      <th></th>\n",
              "      <th>mean</th>\n",
              "      <th>median</th>\n",
              "      <th>amax</th>\n",
              "      <th>amin</th>\n",
              "    </tr>\n",
              "    <tr>\n",
              "      <th></th>\n",
              "      <th></th>\n",
              "      <th></th>\n",
              "      <th></th>\n",
              "      <th>recoveries</th>\n",
              "      <th>recoveries</th>\n",
              "      <th>recoveries</th>\n",
              "      <th>recoveries</th>\n",
              "    </tr>\n",
              "    <tr>\n",
              "      <th>grade</th>\n",
              "      <th>verification_status</th>\n",
              "      <th>purpose</th>\n",
              "      <th>initial_list_status</th>\n",
              "      <th></th>\n",
              "      <th></th>\n",
              "      <th></th>\n",
              "      <th></th>\n",
              "    </tr>\n",
              "  </thead>\n",
              "  <tbody>\n",
              "    <tr>\n",
              "      <th rowspan=\"5\" valign=\"top\">A</th>\n",
              "      <th rowspan=\"5\" valign=\"top\">Not Verified</th>\n",
              "      <th rowspan=\"2\" valign=\"top\">car</th>\n",
              "      <th>f</th>\n",
              "      <td>9.707613</td>\n",
              "      <td>0.0</td>\n",
              "      <td>1152.23</td>\n",
              "      <td>0.0</td>\n",
              "    </tr>\n",
              "    <tr>\n",
              "      <th>w</th>\n",
              "      <td>3.716667</td>\n",
              "      <td>0.0</td>\n",
              "      <td>590.95</td>\n",
              "      <td>0.0</td>\n",
              "    </tr>\n",
              "    <tr>\n",
              "      <th rowspan=\"2\" valign=\"top\">credit_card</th>\n",
              "      <th>f</th>\n",
              "      <td>21.158087</td>\n",
              "      <td>0.0</td>\n",
              "      <td>16502.69</td>\n",
              "      <td>0.0</td>\n",
              "    </tr>\n",
              "    <tr>\n",
              "      <th>w</th>\n",
              "      <td>2.031246</td>\n",
              "      <td>0.0</td>\n",
              "      <td>2160.20</td>\n",
              "      <td>0.0</td>\n",
              "    </tr>\n",
              "    <tr>\n",
              "      <th>debt_consolidation</th>\n",
              "      <th>f</th>\n",
              "      <td>17.835116</td>\n",
              "      <td>0.0</td>\n",
              "      <td>7002.10</td>\n",
              "      <td>0.0</td>\n",
              "    </tr>\n",
              "  </tbody>\n",
              "</table>\n",
              "</div>\n",
              "      <button class=\"colab-df-convert\" onclick=\"convertToInteractive('df-71d2cca3-5fe9-4d94-8968-7e6ae34fd033')\"\n",
              "              title=\"Convert this dataframe to an interactive table.\"\n",
              "              style=\"display:none;\">\n",
              "        \n",
              "  <svg xmlns=\"http://www.w3.org/2000/svg\" height=\"24px\"viewBox=\"0 0 24 24\"\n",
              "       width=\"24px\">\n",
              "    <path d=\"M0 0h24v24H0V0z\" fill=\"none\"/>\n",
              "    <path d=\"M18.56 5.44l.94 2.06.94-2.06 2.06-.94-2.06-.94-.94-2.06-.94 2.06-2.06.94zm-11 1L8.5 8.5l.94-2.06 2.06-.94-2.06-.94L8.5 2.5l-.94 2.06-2.06.94zm10 10l.94 2.06.94-2.06 2.06-.94-2.06-.94-.94-2.06-.94 2.06-2.06.94z\"/><path d=\"M17.41 7.96l-1.37-1.37c-.4-.4-.92-.59-1.43-.59-.52 0-1.04.2-1.43.59L10.3 9.45l-7.72 7.72c-.78.78-.78 2.05 0 2.83L4 21.41c.39.39.9.59 1.41.59.51 0 1.02-.2 1.41-.59l7.78-7.78 2.81-2.81c.8-.78.8-2.07 0-2.86zM5.41 20L4 18.59l7.72-7.72 1.47 1.35L5.41 20z\"/>\n",
              "  </svg>\n",
              "      </button>\n",
              "      \n",
              "  <style>\n",
              "    .colab-df-container {\n",
              "      display:flex;\n",
              "      flex-wrap:wrap;\n",
              "      gap: 12px;\n",
              "    }\n",
              "\n",
              "    .colab-df-convert {\n",
              "      background-color: #E8F0FE;\n",
              "      border: none;\n",
              "      border-radius: 50%;\n",
              "      cursor: pointer;\n",
              "      display: none;\n",
              "      fill: #1967D2;\n",
              "      height: 32px;\n",
              "      padding: 0 0 0 0;\n",
              "      width: 32px;\n",
              "    }\n",
              "\n",
              "    .colab-df-convert:hover {\n",
              "      background-color: #E2EBFA;\n",
              "      box-shadow: 0px 1px 2px rgba(60, 64, 67, 0.3), 0px 1px 3px 1px rgba(60, 64, 67, 0.15);\n",
              "      fill: #174EA6;\n",
              "    }\n",
              "\n",
              "    [theme=dark] .colab-df-convert {\n",
              "      background-color: #3B4455;\n",
              "      fill: #D2E3FC;\n",
              "    }\n",
              "\n",
              "    [theme=dark] .colab-df-convert:hover {\n",
              "      background-color: #434B5C;\n",
              "      box-shadow: 0px 1px 3px 1px rgba(0, 0, 0, 0.15);\n",
              "      filter: drop-shadow(0px 1px 2px rgba(0, 0, 0, 0.3));\n",
              "      fill: #FFFFFF;\n",
              "    }\n",
              "  </style>\n",
              "\n",
              "      <script>\n",
              "        const buttonEl =\n",
              "          document.querySelector('#df-71d2cca3-5fe9-4d94-8968-7e6ae34fd033 button.colab-df-convert');\n",
              "        buttonEl.style.display =\n",
              "          google.colab.kernel.accessAllowed ? 'block' : 'none';\n",
              "\n",
              "        async function convertToInteractive(key) {\n",
              "          const element = document.querySelector('#df-71d2cca3-5fe9-4d94-8968-7e6ae34fd033');\n",
              "          const dataTable =\n",
              "            await google.colab.kernel.invokeFunction('convertToInteractive',\n",
              "                                                     [key], {});\n",
              "          if (!dataTable) return;\n",
              "\n",
              "          const docLinkHtml = 'Like what you see? Visit the ' +\n",
              "            '<a target=\"_blank\" href=https://colab.research.google.com/notebooks/data_table.ipynb>data table notebook</a>'\n",
              "            + ' to learn more about interactive tables.';\n",
              "          element.innerHTML = '';\n",
              "          dataTable['output_type'] = 'display_data';\n",
              "          await google.colab.output.renderOutput(dataTable, element);\n",
              "          const docLink = document.createElement('div');\n",
              "          docLink.innerHTML = docLinkHtml;\n",
              "          element.appendChild(docLink);\n",
              "        }\n",
              "      </script>\n",
              "    </div>\n",
              "  </div>\n",
              "  "
            ]
          },
          "metadata": {},
          "execution_count": 54
        }
      ]
    },
    {
      "cell_type": "code",
      "source": [
        "cat_mean = cat_data['mean'].reset_index()\n",
        "cat_median = cat_data['median'].reset_index()\n",
        "cat_amax = cat_data['amax'].reset_index()\n",
        "cat_amin = cat_data['amin'].reset_index()"
      ],
      "metadata": {
        "id": "o9xxh4QOI_76"
      },
      "execution_count": 55,
      "outputs": []
    },
    {
      "cell_type": "code",
      "source": [
        "temp_name = []\n",
        "for column in cat_mean.columns:\n",
        "    if column == cat_features:\n",
        "        temp_name.append(column)\n",
        "    else:\n",
        "        name = 'mean' + '_' + column\n",
        "        temp_name.append(name)\n",
        "\n",
        "cat_mean.columns = temp_name"
      ],
      "metadata": {
        "id": "i1ljV_lEJU9w"
      },
      "execution_count": 56,
      "outputs": []
    },
    {
      "cell_type": "code",
      "source": [
        "temp_name = []\n",
        "for column in cat_median.columns:\n",
        "    if column == cat_features:\n",
        "        temp_name.append(column)\n",
        "    else:\n",
        "        name = 'median' + '_' + column\n",
        "        temp_name.append(name)\n",
        "\n",
        "cat_median.columns = temp_name"
      ],
      "metadata": {
        "id": "yxIVk02LJpdv"
      },
      "execution_count": 57,
      "outputs": []
    },
    {
      "cell_type": "code",
      "source": [
        "temp_name = []\n",
        "for column in cat_amax.columns:\n",
        "    if column == cat_features:\n",
        "        temp_name.append(column)\n",
        "    else:\n",
        "        name = 'amax' + '_' + column\n",
        "        temp_name.append(name)\n",
        "\n",
        "cat_amax.columns = temp_name"
      ],
      "metadata": {
        "id": "TkLcbyI6Jsuv"
      },
      "execution_count": 58,
      "outputs": []
    },
    {
      "cell_type": "code",
      "source": [
        "temp_name = []\n",
        "for column in cat_amin.columns:\n",
        "    if column == cat_features:\n",
        "        temp_name.append(column)\n",
        "    else:\n",
        "        name = 'amin' + '_' + column\n",
        "        temp_name.append(name)\n",
        "\n",
        "cat_amin.columns = temp_name"
      ],
      "metadata": {
        "id": "PjerooFDJwzn"
      },
      "execution_count": 59,
      "outputs": []
    },
    {
      "cell_type": "code",
      "source": [
        "cat_amin.head()"
      ],
      "metadata": {
        "colab": {
          "base_uri": "https://localhost:8080/",
          "height": 206
        },
        "id": "zeRGpUV--Tbz",
        "outputId": "676dbb66-9556-4d9f-8fcf-f818abf6007f"
      },
      "execution_count": 60,
      "outputs": [
        {
          "output_type": "execute_result",
          "data": {
            "text/plain": [
              "  amin_grade amin_verification_status        amin_purpose  \\\n",
              "0          A             Not Verified                 car   \n",
              "1          A             Not Verified                 car   \n",
              "2          A             Not Verified         credit_card   \n",
              "3          A             Not Verified         credit_card   \n",
              "4          A             Not Verified  debt_consolidation   \n",
              "\n",
              "  amin_initial_list_status  amin_recoveries  \n",
              "0                        f              0.0  \n",
              "1                        w              0.0  \n",
              "2                        f              0.0  \n",
              "3                        w              0.0  \n",
              "4                        f              0.0  "
            ],
            "text/html": [
              "\n",
              "  <div id=\"df-0932c0c9-7523-488b-9189-9e00cf3dd504\">\n",
              "    <div class=\"colab-df-container\">\n",
              "      <div>\n",
              "<style scoped>\n",
              "    .dataframe tbody tr th:only-of-type {\n",
              "        vertical-align: middle;\n",
              "    }\n",
              "\n",
              "    .dataframe tbody tr th {\n",
              "        vertical-align: top;\n",
              "    }\n",
              "\n",
              "    .dataframe thead th {\n",
              "        text-align: right;\n",
              "    }\n",
              "</style>\n",
              "<table border=\"1\" class=\"dataframe\">\n",
              "  <thead>\n",
              "    <tr style=\"text-align: right;\">\n",
              "      <th></th>\n",
              "      <th>amin_grade</th>\n",
              "      <th>amin_verification_status</th>\n",
              "      <th>amin_purpose</th>\n",
              "      <th>amin_initial_list_status</th>\n",
              "      <th>amin_recoveries</th>\n",
              "    </tr>\n",
              "  </thead>\n",
              "  <tbody>\n",
              "    <tr>\n",
              "      <th>0</th>\n",
              "      <td>A</td>\n",
              "      <td>Not Verified</td>\n",
              "      <td>car</td>\n",
              "      <td>f</td>\n",
              "      <td>0.0</td>\n",
              "    </tr>\n",
              "    <tr>\n",
              "      <th>1</th>\n",
              "      <td>A</td>\n",
              "      <td>Not Verified</td>\n",
              "      <td>car</td>\n",
              "      <td>w</td>\n",
              "      <td>0.0</td>\n",
              "    </tr>\n",
              "    <tr>\n",
              "      <th>2</th>\n",
              "      <td>A</td>\n",
              "      <td>Not Verified</td>\n",
              "      <td>credit_card</td>\n",
              "      <td>f</td>\n",
              "      <td>0.0</td>\n",
              "    </tr>\n",
              "    <tr>\n",
              "      <th>3</th>\n",
              "      <td>A</td>\n",
              "      <td>Not Verified</td>\n",
              "      <td>credit_card</td>\n",
              "      <td>w</td>\n",
              "      <td>0.0</td>\n",
              "    </tr>\n",
              "    <tr>\n",
              "      <th>4</th>\n",
              "      <td>A</td>\n",
              "      <td>Not Verified</td>\n",
              "      <td>debt_consolidation</td>\n",
              "      <td>f</td>\n",
              "      <td>0.0</td>\n",
              "    </tr>\n",
              "  </tbody>\n",
              "</table>\n",
              "</div>\n",
              "      <button class=\"colab-df-convert\" onclick=\"convertToInteractive('df-0932c0c9-7523-488b-9189-9e00cf3dd504')\"\n",
              "              title=\"Convert this dataframe to an interactive table.\"\n",
              "              style=\"display:none;\">\n",
              "        \n",
              "  <svg xmlns=\"http://www.w3.org/2000/svg\" height=\"24px\"viewBox=\"0 0 24 24\"\n",
              "       width=\"24px\">\n",
              "    <path d=\"M0 0h24v24H0V0z\" fill=\"none\"/>\n",
              "    <path d=\"M18.56 5.44l.94 2.06.94-2.06 2.06-.94-2.06-.94-.94-2.06-.94 2.06-2.06.94zm-11 1L8.5 8.5l.94-2.06 2.06-.94-2.06-.94L8.5 2.5l-.94 2.06-2.06.94zm10 10l.94 2.06.94-2.06 2.06-.94-2.06-.94-.94-2.06-.94 2.06-2.06.94z\"/><path d=\"M17.41 7.96l-1.37-1.37c-.4-.4-.92-.59-1.43-.59-.52 0-1.04.2-1.43.59L10.3 9.45l-7.72 7.72c-.78.78-.78 2.05 0 2.83L4 21.41c.39.39.9.59 1.41.59.51 0 1.02-.2 1.41-.59l7.78-7.78 2.81-2.81c.8-.78.8-2.07 0-2.86zM5.41 20L4 18.59l7.72-7.72 1.47 1.35L5.41 20z\"/>\n",
              "  </svg>\n",
              "      </button>\n",
              "      \n",
              "  <style>\n",
              "    .colab-df-container {\n",
              "      display:flex;\n",
              "      flex-wrap:wrap;\n",
              "      gap: 12px;\n",
              "    }\n",
              "\n",
              "    .colab-df-convert {\n",
              "      background-color: #E8F0FE;\n",
              "      border: none;\n",
              "      border-radius: 50%;\n",
              "      cursor: pointer;\n",
              "      display: none;\n",
              "      fill: #1967D2;\n",
              "      height: 32px;\n",
              "      padding: 0 0 0 0;\n",
              "      width: 32px;\n",
              "    }\n",
              "\n",
              "    .colab-df-convert:hover {\n",
              "      background-color: #E2EBFA;\n",
              "      box-shadow: 0px 1px 2px rgba(60, 64, 67, 0.3), 0px 1px 3px 1px rgba(60, 64, 67, 0.15);\n",
              "      fill: #174EA6;\n",
              "    }\n",
              "\n",
              "    [theme=dark] .colab-df-convert {\n",
              "      background-color: #3B4455;\n",
              "      fill: #D2E3FC;\n",
              "    }\n",
              "\n",
              "    [theme=dark] .colab-df-convert:hover {\n",
              "      background-color: #434B5C;\n",
              "      box-shadow: 0px 1px 3px 1px rgba(0, 0, 0, 0.15);\n",
              "      filter: drop-shadow(0px 1px 2px rgba(0, 0, 0, 0.3));\n",
              "      fill: #FFFFFF;\n",
              "    }\n",
              "  </style>\n",
              "\n",
              "      <script>\n",
              "        const buttonEl =\n",
              "          document.querySelector('#df-0932c0c9-7523-488b-9189-9e00cf3dd504 button.colab-df-convert');\n",
              "        buttonEl.style.display =\n",
              "          google.colab.kernel.accessAllowed ? 'block' : 'none';\n",
              "\n",
              "        async function convertToInteractive(key) {\n",
              "          const element = document.querySelector('#df-0932c0c9-7523-488b-9189-9e00cf3dd504');\n",
              "          const dataTable =\n",
              "            await google.colab.kernel.invokeFunction('convertToInteractive',\n",
              "                                                     [key], {});\n",
              "          if (!dataTable) return;\n",
              "\n",
              "          const docLinkHtml = 'Like what you see? Visit the ' +\n",
              "            '<a target=\"_blank\" href=https://colab.research.google.com/notebooks/data_table.ipynb>data table notebook</a>'\n",
              "            + ' to learn more about interactive tables.';\n",
              "          element.innerHTML = '';\n",
              "          dataTable['output_type'] = 'display_data';\n",
              "          await google.colab.output.renderOutput(dataTable, element);\n",
              "          const docLink = document.createElement('div');\n",
              "          docLink.innerHTML = docLinkHtml;\n",
              "          element.appendChild(docLink);\n",
              "        }\n",
              "      </script>\n",
              "    </div>\n",
              "  </div>\n",
              "  "
            ]
          },
          "metadata": {},
          "execution_count": 60
        }
      ]
    },
    {
      "cell_type": "code",
      "source": [
        "join_data = pd.concat([cat_mean, cat_median, cat_amax, cat_amin], axis=1)"
      ],
      "metadata": {
        "id": "bM3ZUiPjJzx_"
      },
      "execution_count": 61,
      "outputs": []
    },
    {
      "cell_type": "code",
      "source": [
        "join_data.head()"
      ],
      "metadata": {
        "colab": {
          "base_uri": "https://localhost:8080/",
          "height": 270
        },
        "id": "d1v2xzRI-jYs",
        "outputId": "23e3c809-69d7-4679-ac28-460eaac19592"
      },
      "execution_count": 62,
      "outputs": [
        {
          "output_type": "execute_result",
          "data": {
            "text/plain": [
              "  mean_grade mean_verification_status        mean_purpose  \\\n",
              "0          A             Not Verified                 car   \n",
              "1          A             Not Verified                 car   \n",
              "2          A             Not Verified         credit_card   \n",
              "3          A             Not Verified         credit_card   \n",
              "4          A             Not Verified  debt_consolidation   \n",
              "\n",
              "  mean_initial_list_status  mean_recoveries median_grade  \\\n",
              "0                        f         9.707613            A   \n",
              "1                        w         3.716667            A   \n",
              "2                        f        21.158087            A   \n",
              "3                        w         2.031246            A   \n",
              "4                        f        17.835116            A   \n",
              "\n",
              "  median_verification_status      median_purpose median_initial_list_status  \\\n",
              "0               Not Verified                 car                          f   \n",
              "1               Not Verified                 car                          w   \n",
              "2               Not Verified         credit_card                          f   \n",
              "3               Not Verified         credit_card                          w   \n",
              "4               Not Verified  debt_consolidation                          f   \n",
              "\n",
              "   median_recoveries amax_grade amax_verification_status        amax_purpose  \\\n",
              "0                0.0          A             Not Verified                 car   \n",
              "1                0.0          A             Not Verified                 car   \n",
              "2                0.0          A             Not Verified         credit_card   \n",
              "3                0.0          A             Not Verified         credit_card   \n",
              "4                0.0          A             Not Verified  debt_consolidation   \n",
              "\n",
              "  amax_initial_list_status  amax_recoveries amin_grade  \\\n",
              "0                        f          1152.23          A   \n",
              "1                        w           590.95          A   \n",
              "2                        f         16502.69          A   \n",
              "3                        w          2160.20          A   \n",
              "4                        f          7002.10          A   \n",
              "\n",
              "  amin_verification_status        amin_purpose amin_initial_list_status  \\\n",
              "0             Not Verified                 car                        f   \n",
              "1             Not Verified                 car                        w   \n",
              "2             Not Verified         credit_card                        f   \n",
              "3             Not Verified         credit_card                        w   \n",
              "4             Not Verified  debt_consolidation                        f   \n",
              "\n",
              "   amin_recoveries  \n",
              "0              0.0  \n",
              "1              0.0  \n",
              "2              0.0  \n",
              "3              0.0  \n",
              "4              0.0  "
            ],
            "text/html": [
              "\n",
              "  <div id=\"df-3935d1b6-edc2-44a0-ba60-591d63bcd616\">\n",
              "    <div class=\"colab-df-container\">\n",
              "      <div>\n",
              "<style scoped>\n",
              "    .dataframe tbody tr th:only-of-type {\n",
              "        vertical-align: middle;\n",
              "    }\n",
              "\n",
              "    .dataframe tbody tr th {\n",
              "        vertical-align: top;\n",
              "    }\n",
              "\n",
              "    .dataframe thead th {\n",
              "        text-align: right;\n",
              "    }\n",
              "</style>\n",
              "<table border=\"1\" class=\"dataframe\">\n",
              "  <thead>\n",
              "    <tr style=\"text-align: right;\">\n",
              "      <th></th>\n",
              "      <th>mean_grade</th>\n",
              "      <th>mean_verification_status</th>\n",
              "      <th>mean_purpose</th>\n",
              "      <th>mean_initial_list_status</th>\n",
              "      <th>mean_recoveries</th>\n",
              "      <th>median_grade</th>\n",
              "      <th>median_verification_status</th>\n",
              "      <th>median_purpose</th>\n",
              "      <th>median_initial_list_status</th>\n",
              "      <th>median_recoveries</th>\n",
              "      <th>amax_grade</th>\n",
              "      <th>amax_verification_status</th>\n",
              "      <th>amax_purpose</th>\n",
              "      <th>amax_initial_list_status</th>\n",
              "      <th>amax_recoveries</th>\n",
              "      <th>amin_grade</th>\n",
              "      <th>amin_verification_status</th>\n",
              "      <th>amin_purpose</th>\n",
              "      <th>amin_initial_list_status</th>\n",
              "      <th>amin_recoveries</th>\n",
              "    </tr>\n",
              "  </thead>\n",
              "  <tbody>\n",
              "    <tr>\n",
              "      <th>0</th>\n",
              "      <td>A</td>\n",
              "      <td>Not Verified</td>\n",
              "      <td>car</td>\n",
              "      <td>f</td>\n",
              "      <td>9.707613</td>\n",
              "      <td>A</td>\n",
              "      <td>Not Verified</td>\n",
              "      <td>car</td>\n",
              "      <td>f</td>\n",
              "      <td>0.0</td>\n",
              "      <td>A</td>\n",
              "      <td>Not Verified</td>\n",
              "      <td>car</td>\n",
              "      <td>f</td>\n",
              "      <td>1152.23</td>\n",
              "      <td>A</td>\n",
              "      <td>Not Verified</td>\n",
              "      <td>car</td>\n",
              "      <td>f</td>\n",
              "      <td>0.0</td>\n",
              "    </tr>\n",
              "    <tr>\n",
              "      <th>1</th>\n",
              "      <td>A</td>\n",
              "      <td>Not Verified</td>\n",
              "      <td>car</td>\n",
              "      <td>w</td>\n",
              "      <td>3.716667</td>\n",
              "      <td>A</td>\n",
              "      <td>Not Verified</td>\n",
              "      <td>car</td>\n",
              "      <td>w</td>\n",
              "      <td>0.0</td>\n",
              "      <td>A</td>\n",
              "      <td>Not Verified</td>\n",
              "      <td>car</td>\n",
              "      <td>w</td>\n",
              "      <td>590.95</td>\n",
              "      <td>A</td>\n",
              "      <td>Not Verified</td>\n",
              "      <td>car</td>\n",
              "      <td>w</td>\n",
              "      <td>0.0</td>\n",
              "    </tr>\n",
              "    <tr>\n",
              "      <th>2</th>\n",
              "      <td>A</td>\n",
              "      <td>Not Verified</td>\n",
              "      <td>credit_card</td>\n",
              "      <td>f</td>\n",
              "      <td>21.158087</td>\n",
              "      <td>A</td>\n",
              "      <td>Not Verified</td>\n",
              "      <td>credit_card</td>\n",
              "      <td>f</td>\n",
              "      <td>0.0</td>\n",
              "      <td>A</td>\n",
              "      <td>Not Verified</td>\n",
              "      <td>credit_card</td>\n",
              "      <td>f</td>\n",
              "      <td>16502.69</td>\n",
              "      <td>A</td>\n",
              "      <td>Not Verified</td>\n",
              "      <td>credit_card</td>\n",
              "      <td>f</td>\n",
              "      <td>0.0</td>\n",
              "    </tr>\n",
              "    <tr>\n",
              "      <th>3</th>\n",
              "      <td>A</td>\n",
              "      <td>Not Verified</td>\n",
              "      <td>credit_card</td>\n",
              "      <td>w</td>\n",
              "      <td>2.031246</td>\n",
              "      <td>A</td>\n",
              "      <td>Not Verified</td>\n",
              "      <td>credit_card</td>\n",
              "      <td>w</td>\n",
              "      <td>0.0</td>\n",
              "      <td>A</td>\n",
              "      <td>Not Verified</td>\n",
              "      <td>credit_card</td>\n",
              "      <td>w</td>\n",
              "      <td>2160.20</td>\n",
              "      <td>A</td>\n",
              "      <td>Not Verified</td>\n",
              "      <td>credit_card</td>\n",
              "      <td>w</td>\n",
              "      <td>0.0</td>\n",
              "    </tr>\n",
              "    <tr>\n",
              "      <th>4</th>\n",
              "      <td>A</td>\n",
              "      <td>Not Verified</td>\n",
              "      <td>debt_consolidation</td>\n",
              "      <td>f</td>\n",
              "      <td>17.835116</td>\n",
              "      <td>A</td>\n",
              "      <td>Not Verified</td>\n",
              "      <td>debt_consolidation</td>\n",
              "      <td>f</td>\n",
              "      <td>0.0</td>\n",
              "      <td>A</td>\n",
              "      <td>Not Verified</td>\n",
              "      <td>debt_consolidation</td>\n",
              "      <td>f</td>\n",
              "      <td>7002.10</td>\n",
              "      <td>A</td>\n",
              "      <td>Not Verified</td>\n",
              "      <td>debt_consolidation</td>\n",
              "      <td>f</td>\n",
              "      <td>0.0</td>\n",
              "    </tr>\n",
              "  </tbody>\n",
              "</table>\n",
              "</div>\n",
              "      <button class=\"colab-df-convert\" onclick=\"convertToInteractive('df-3935d1b6-edc2-44a0-ba60-591d63bcd616')\"\n",
              "              title=\"Convert this dataframe to an interactive table.\"\n",
              "              style=\"display:none;\">\n",
              "        \n",
              "  <svg xmlns=\"http://www.w3.org/2000/svg\" height=\"24px\"viewBox=\"0 0 24 24\"\n",
              "       width=\"24px\">\n",
              "    <path d=\"M0 0h24v24H0V0z\" fill=\"none\"/>\n",
              "    <path d=\"M18.56 5.44l.94 2.06.94-2.06 2.06-.94-2.06-.94-.94-2.06-.94 2.06-2.06.94zm-11 1L8.5 8.5l.94-2.06 2.06-.94-2.06-.94L8.5 2.5l-.94 2.06-2.06.94zm10 10l.94 2.06.94-2.06 2.06-.94-2.06-.94-.94-2.06-.94 2.06-2.06.94z\"/><path d=\"M17.41 7.96l-1.37-1.37c-.4-.4-.92-.59-1.43-.59-.52 0-1.04.2-1.43.59L10.3 9.45l-7.72 7.72c-.78.78-.78 2.05 0 2.83L4 21.41c.39.39.9.59 1.41.59.51 0 1.02-.2 1.41-.59l7.78-7.78 2.81-2.81c.8-.78.8-2.07 0-2.86zM5.41 20L4 18.59l7.72-7.72 1.47 1.35L5.41 20z\"/>\n",
              "  </svg>\n",
              "      </button>\n",
              "      \n",
              "  <style>\n",
              "    .colab-df-container {\n",
              "      display:flex;\n",
              "      flex-wrap:wrap;\n",
              "      gap: 12px;\n",
              "    }\n",
              "\n",
              "    .colab-df-convert {\n",
              "      background-color: #E8F0FE;\n",
              "      border: none;\n",
              "      border-radius: 50%;\n",
              "      cursor: pointer;\n",
              "      display: none;\n",
              "      fill: #1967D2;\n",
              "      height: 32px;\n",
              "      padding: 0 0 0 0;\n",
              "      width: 32px;\n",
              "    }\n",
              "\n",
              "    .colab-df-convert:hover {\n",
              "      background-color: #E2EBFA;\n",
              "      box-shadow: 0px 1px 2px rgba(60, 64, 67, 0.3), 0px 1px 3px 1px rgba(60, 64, 67, 0.15);\n",
              "      fill: #174EA6;\n",
              "    }\n",
              "\n",
              "    [theme=dark] .colab-df-convert {\n",
              "      background-color: #3B4455;\n",
              "      fill: #D2E3FC;\n",
              "    }\n",
              "\n",
              "    [theme=dark] .colab-df-convert:hover {\n",
              "      background-color: #434B5C;\n",
              "      box-shadow: 0px 1px 3px 1px rgba(0, 0, 0, 0.15);\n",
              "      filter: drop-shadow(0px 1px 2px rgba(0, 0, 0, 0.3));\n",
              "      fill: #FFFFFF;\n",
              "    }\n",
              "  </style>\n",
              "\n",
              "      <script>\n",
              "        const buttonEl =\n",
              "          document.querySelector('#df-3935d1b6-edc2-44a0-ba60-591d63bcd616 button.colab-df-convert');\n",
              "        buttonEl.style.display =\n",
              "          google.colab.kernel.accessAllowed ? 'block' : 'none';\n",
              "\n",
              "        async function convertToInteractive(key) {\n",
              "          const element = document.querySelector('#df-3935d1b6-edc2-44a0-ba60-591d63bcd616');\n",
              "          const dataTable =\n",
              "            await google.colab.kernel.invokeFunction('convertToInteractive',\n",
              "                                                     [key], {});\n",
              "          if (!dataTable) return;\n",
              "\n",
              "          const docLinkHtml = 'Like what you see? Visit the ' +\n",
              "            '<a target=\"_blank\" href=https://colab.research.google.com/notebooks/data_table.ipynb>data table notebook</a>'\n",
              "            + ' to learn more about interactive tables.';\n",
              "          element.innerHTML = '';\n",
              "          dataTable['output_type'] = 'display_data';\n",
              "          await google.colab.output.renderOutput(dataTable, element);\n",
              "          const docLink = document.createElement('div');\n",
              "          docLink.innerHTML = docLinkHtml;\n",
              "          element.appendChild(docLink);\n",
              "        }\n",
              "      </script>\n",
              "    </div>\n",
              "  </div>\n",
              "  "
            ]
          },
          "metadata": {},
          "execution_count": 62
        }
      ]
    },
    {
      "cell_type": "code",
      "source": [
        "advance_data = pd.concat([join_data, std, load_data['bad_flag']], axis=1)\n",
        "advance_data.head()"
      ],
      "metadata": {
        "colab": {
          "base_uri": "https://localhost:8080/",
          "height": 270
        },
        "id": "NqlyoAsVKAke",
        "outputId": "21f19e99-7ceb-4486-b665-58f5e7beadf4"
      },
      "execution_count": 63,
      "outputs": [
        {
          "output_type": "execute_result",
          "data": {
            "text/plain": [
              "  mean_grade mean_verification_status        mean_purpose  \\\n",
              "0          A             Not Verified                 car   \n",
              "1          A             Not Verified                 car   \n",
              "2          A             Not Verified         credit_card   \n",
              "3          A             Not Verified         credit_card   \n",
              "4          A             Not Verified  debt_consolidation   \n",
              "\n",
              "  mean_initial_list_status  mean_recoveries median_grade  \\\n",
              "0                        f         9.707613            A   \n",
              "1                        w         3.716667            A   \n",
              "2                        f        21.158087            A   \n",
              "3                        w         2.031246            A   \n",
              "4                        f        17.835116            A   \n",
              "\n",
              "  median_verification_status      median_purpose median_initial_list_status  \\\n",
              "0               Not Verified                 car                          f   \n",
              "1               Not Verified                 car                          w   \n",
              "2               Not Verified         credit_card                          f   \n",
              "3               Not Verified         credit_card                          w   \n",
              "4               Not Verified  debt_consolidation                          f   \n",
              "\n",
              "   median_recoveries amax_grade amax_verification_status        amax_purpose  \\\n",
              "0                0.0          A             Not Verified                 car   \n",
              "1                0.0          A             Not Verified                 car   \n",
              "2                0.0          A             Not Verified         credit_card   \n",
              "3                0.0          A             Not Verified         credit_card   \n",
              "4                0.0          A             Not Verified  debt_consolidation   \n",
              "\n",
              "  amax_initial_list_status  amax_recoveries amin_grade  \\\n",
              "0                        f          1152.23          A   \n",
              "1                        w           590.95          A   \n",
              "2                        f         16502.69          A   \n",
              "3                        w          2160.20          A   \n",
              "4                        f          7002.10          A   \n",
              "\n",
              "  amin_verification_status        amin_purpose amin_initial_list_status  \\\n",
              "0             Not Verified                 car                        f   \n",
              "1             Not Verified                 car                        w   \n",
              "2             Not Verified         credit_card                        f   \n",
              "3             Not Verified         credit_card                        w   \n",
              "4             Not Verified  debt_consolidation                        f   \n",
              "\n",
              "   amin_recoveries  loan_amnt  annual_inc       dti  delinq_2yrs  \\\n",
              "0              0.0  -1.124392   -0.896551  1.328632    -0.357012   \n",
              "1              0.0  -1.426088   -0.787387 -2.065791    -0.357012   \n",
              "2              0.0  -1.438156   -1.110294 -1.082491    -0.357012   \n",
              "3              0.0  -0.521001   -0.438063  0.354248    -0.357012   \n",
              "4              0.0  -1.365749    0.122311  0.091865    -0.357012   \n",
              "\n",
              "   inq_last_6mths  open_acc  pub_rec  revol_bal  revol_util  total_acc  \\\n",
              "0        0.178920 -1.641166 -0.31429  -0.124888    1.159498  -1.384557   \n",
              "1        3.843328 -1.641166 -0.31429  -0.703378   -1.965980  -1.815538   \n",
              "2        1.095022 -1.841641 -0.31429  -0.642003    1.782070  -1.298361   \n",
              "3        0.178920 -0.237839 -0.31429  -0.514224   -1.478018   1.028934   \n",
              "4       -0.737182  0.764538 -0.31429   0.558748   -0.094058   1.115130   \n",
              "\n",
              "   tot_cur_bal  tot_coll_amt  mths_since_last_delinq  total_rec_late_fee  \\\n",
              "0    -0.792648     -0.012089               -0.708792           -0.123464   \n",
              "1    -0.792648     -0.012089               -0.708792           -0.123464   \n",
              "2    -0.792648     -0.012089               -0.708792           -0.123464   \n",
              "3    -0.792648     -0.012089                0.860811            3.099264   \n",
              "4    -0.792648     -0.012089                0.991612           -0.123464   \n",
              "\n",
              "   recoveries  collections_12_mths_ex_med  acc_now_delinq  term_months  \\\n",
              "0   -0.154549                   -0.083608       -0.058307    -0.616225   \n",
              "1    0.057470                   -0.083608       -0.058307     1.622784   \n",
              "2   -0.154549                   -0.083608       -0.058307    -0.616225   \n",
              "3   -0.154549                   -0.083608       -0.058307    -0.616225   \n",
              "4   -0.154549                   -0.083608       -0.058307     1.622784   \n",
              "\n",
              "   emp_length_int  mths_since_earliest_cr_line  mths_since_issue_d  bad_flag  \n",
              "0        1.138605                     1.764941            1.446626         0  \n",
              "1       -1.523744                    -0.212426            1.446626         1  \n",
              "2        1.138605                    -0.570896            1.446626         0  \n",
              "3        1.138605                     0.226989            1.446626         0  \n",
              "4       -1.257509                     0.238553            1.446626         0  "
            ],
            "text/html": [
              "\n",
              "  <div id=\"df-2b73a2e9-ab57-48ec-99b3-f97e84b7eea7\">\n",
              "    <div class=\"colab-df-container\">\n",
              "      <div>\n",
              "<style scoped>\n",
              "    .dataframe tbody tr th:only-of-type {\n",
              "        vertical-align: middle;\n",
              "    }\n",
              "\n",
              "    .dataframe tbody tr th {\n",
              "        vertical-align: top;\n",
              "    }\n",
              "\n",
              "    .dataframe thead th {\n",
              "        text-align: right;\n",
              "    }\n",
              "</style>\n",
              "<table border=\"1\" class=\"dataframe\">\n",
              "  <thead>\n",
              "    <tr style=\"text-align: right;\">\n",
              "      <th></th>\n",
              "      <th>mean_grade</th>\n",
              "      <th>mean_verification_status</th>\n",
              "      <th>mean_purpose</th>\n",
              "      <th>mean_initial_list_status</th>\n",
              "      <th>mean_recoveries</th>\n",
              "      <th>median_grade</th>\n",
              "      <th>median_verification_status</th>\n",
              "      <th>median_purpose</th>\n",
              "      <th>median_initial_list_status</th>\n",
              "      <th>median_recoveries</th>\n",
              "      <th>amax_grade</th>\n",
              "      <th>amax_verification_status</th>\n",
              "      <th>amax_purpose</th>\n",
              "      <th>amax_initial_list_status</th>\n",
              "      <th>amax_recoveries</th>\n",
              "      <th>amin_grade</th>\n",
              "      <th>amin_verification_status</th>\n",
              "      <th>amin_purpose</th>\n",
              "      <th>amin_initial_list_status</th>\n",
              "      <th>amin_recoveries</th>\n",
              "      <th>loan_amnt</th>\n",
              "      <th>annual_inc</th>\n",
              "      <th>dti</th>\n",
              "      <th>delinq_2yrs</th>\n",
              "      <th>inq_last_6mths</th>\n",
              "      <th>open_acc</th>\n",
              "      <th>pub_rec</th>\n",
              "      <th>revol_bal</th>\n",
              "      <th>revol_util</th>\n",
              "      <th>total_acc</th>\n",
              "      <th>tot_cur_bal</th>\n",
              "      <th>tot_coll_amt</th>\n",
              "      <th>mths_since_last_delinq</th>\n",
              "      <th>total_rec_late_fee</th>\n",
              "      <th>recoveries</th>\n",
              "      <th>collections_12_mths_ex_med</th>\n",
              "      <th>acc_now_delinq</th>\n",
              "      <th>term_months</th>\n",
              "      <th>emp_length_int</th>\n",
              "      <th>mths_since_earliest_cr_line</th>\n",
              "      <th>mths_since_issue_d</th>\n",
              "      <th>bad_flag</th>\n",
              "    </tr>\n",
              "  </thead>\n",
              "  <tbody>\n",
              "    <tr>\n",
              "      <th>0</th>\n",
              "      <td>A</td>\n",
              "      <td>Not Verified</td>\n",
              "      <td>car</td>\n",
              "      <td>f</td>\n",
              "      <td>9.707613</td>\n",
              "      <td>A</td>\n",
              "      <td>Not Verified</td>\n",
              "      <td>car</td>\n",
              "      <td>f</td>\n",
              "      <td>0.0</td>\n",
              "      <td>A</td>\n",
              "      <td>Not Verified</td>\n",
              "      <td>car</td>\n",
              "      <td>f</td>\n",
              "      <td>1152.23</td>\n",
              "      <td>A</td>\n",
              "      <td>Not Verified</td>\n",
              "      <td>car</td>\n",
              "      <td>f</td>\n",
              "      <td>0.0</td>\n",
              "      <td>-1.124392</td>\n",
              "      <td>-0.896551</td>\n",
              "      <td>1.328632</td>\n",
              "      <td>-0.357012</td>\n",
              "      <td>0.178920</td>\n",
              "      <td>-1.641166</td>\n",
              "      <td>-0.31429</td>\n",
              "      <td>-0.124888</td>\n",
              "      <td>1.159498</td>\n",
              "      <td>-1.384557</td>\n",
              "      <td>-0.792648</td>\n",
              "      <td>-0.012089</td>\n",
              "      <td>-0.708792</td>\n",
              "      <td>-0.123464</td>\n",
              "      <td>-0.154549</td>\n",
              "      <td>-0.083608</td>\n",
              "      <td>-0.058307</td>\n",
              "      <td>-0.616225</td>\n",
              "      <td>1.138605</td>\n",
              "      <td>1.764941</td>\n",
              "      <td>1.446626</td>\n",
              "      <td>0</td>\n",
              "    </tr>\n",
              "    <tr>\n",
              "      <th>1</th>\n",
              "      <td>A</td>\n",
              "      <td>Not Verified</td>\n",
              "      <td>car</td>\n",
              "      <td>w</td>\n",
              "      <td>3.716667</td>\n",
              "      <td>A</td>\n",
              "      <td>Not Verified</td>\n",
              "      <td>car</td>\n",
              "      <td>w</td>\n",
              "      <td>0.0</td>\n",
              "      <td>A</td>\n",
              "      <td>Not Verified</td>\n",
              "      <td>car</td>\n",
              "      <td>w</td>\n",
              "      <td>590.95</td>\n",
              "      <td>A</td>\n",
              "      <td>Not Verified</td>\n",
              "      <td>car</td>\n",
              "      <td>w</td>\n",
              "      <td>0.0</td>\n",
              "      <td>-1.426088</td>\n",
              "      <td>-0.787387</td>\n",
              "      <td>-2.065791</td>\n",
              "      <td>-0.357012</td>\n",
              "      <td>3.843328</td>\n",
              "      <td>-1.641166</td>\n",
              "      <td>-0.31429</td>\n",
              "      <td>-0.703378</td>\n",
              "      <td>-1.965980</td>\n",
              "      <td>-1.815538</td>\n",
              "      <td>-0.792648</td>\n",
              "      <td>-0.012089</td>\n",
              "      <td>-0.708792</td>\n",
              "      <td>-0.123464</td>\n",
              "      <td>0.057470</td>\n",
              "      <td>-0.083608</td>\n",
              "      <td>-0.058307</td>\n",
              "      <td>1.622784</td>\n",
              "      <td>-1.523744</td>\n",
              "      <td>-0.212426</td>\n",
              "      <td>1.446626</td>\n",
              "      <td>1</td>\n",
              "    </tr>\n",
              "    <tr>\n",
              "      <th>2</th>\n",
              "      <td>A</td>\n",
              "      <td>Not Verified</td>\n",
              "      <td>credit_card</td>\n",
              "      <td>f</td>\n",
              "      <td>21.158087</td>\n",
              "      <td>A</td>\n",
              "      <td>Not Verified</td>\n",
              "      <td>credit_card</td>\n",
              "      <td>f</td>\n",
              "      <td>0.0</td>\n",
              "      <td>A</td>\n",
              "      <td>Not Verified</td>\n",
              "      <td>credit_card</td>\n",
              "      <td>f</td>\n",
              "      <td>16502.69</td>\n",
              "      <td>A</td>\n",
              "      <td>Not Verified</td>\n",
              "      <td>credit_card</td>\n",
              "      <td>f</td>\n",
              "      <td>0.0</td>\n",
              "      <td>-1.438156</td>\n",
              "      <td>-1.110294</td>\n",
              "      <td>-1.082491</td>\n",
              "      <td>-0.357012</td>\n",
              "      <td>1.095022</td>\n",
              "      <td>-1.841641</td>\n",
              "      <td>-0.31429</td>\n",
              "      <td>-0.642003</td>\n",
              "      <td>1.782070</td>\n",
              "      <td>-1.298361</td>\n",
              "      <td>-0.792648</td>\n",
              "      <td>-0.012089</td>\n",
              "      <td>-0.708792</td>\n",
              "      <td>-0.123464</td>\n",
              "      <td>-0.154549</td>\n",
              "      <td>-0.083608</td>\n",
              "      <td>-0.058307</td>\n",
              "      <td>-0.616225</td>\n",
              "      <td>1.138605</td>\n",
              "      <td>-0.570896</td>\n",
              "      <td>1.446626</td>\n",
              "      <td>0</td>\n",
              "    </tr>\n",
              "    <tr>\n",
              "      <th>3</th>\n",
              "      <td>A</td>\n",
              "      <td>Not Verified</td>\n",
              "      <td>credit_card</td>\n",
              "      <td>w</td>\n",
              "      <td>2.031246</td>\n",
              "      <td>A</td>\n",
              "      <td>Not Verified</td>\n",
              "      <td>credit_card</td>\n",
              "      <td>w</td>\n",
              "      <td>0.0</td>\n",
              "      <td>A</td>\n",
              "      <td>Not Verified</td>\n",
              "      <td>credit_card</td>\n",
              "      <td>w</td>\n",
              "      <td>2160.20</td>\n",
              "      <td>A</td>\n",
              "      <td>Not Verified</td>\n",
              "      <td>credit_card</td>\n",
              "      <td>w</td>\n",
              "      <td>0.0</td>\n",
              "      <td>-0.521001</td>\n",
              "      <td>-0.438063</td>\n",
              "      <td>0.354248</td>\n",
              "      <td>-0.357012</td>\n",
              "      <td>0.178920</td>\n",
              "      <td>-0.237839</td>\n",
              "      <td>-0.31429</td>\n",
              "      <td>-0.514224</td>\n",
              "      <td>-1.478018</td>\n",
              "      <td>1.028934</td>\n",
              "      <td>-0.792648</td>\n",
              "      <td>-0.012089</td>\n",
              "      <td>0.860811</td>\n",
              "      <td>3.099264</td>\n",
              "      <td>-0.154549</td>\n",
              "      <td>-0.083608</td>\n",
              "      <td>-0.058307</td>\n",
              "      <td>-0.616225</td>\n",
              "      <td>1.138605</td>\n",
              "      <td>0.226989</td>\n",
              "      <td>1.446626</td>\n",
              "      <td>0</td>\n",
              "    </tr>\n",
              "    <tr>\n",
              "      <th>4</th>\n",
              "      <td>A</td>\n",
              "      <td>Not Verified</td>\n",
              "      <td>debt_consolidation</td>\n",
              "      <td>f</td>\n",
              "      <td>17.835116</td>\n",
              "      <td>A</td>\n",
              "      <td>Not Verified</td>\n",
              "      <td>debt_consolidation</td>\n",
              "      <td>f</td>\n",
              "      <td>0.0</td>\n",
              "      <td>A</td>\n",
              "      <td>Not Verified</td>\n",
              "      <td>debt_consolidation</td>\n",
              "      <td>f</td>\n",
              "      <td>7002.10</td>\n",
              "      <td>A</td>\n",
              "      <td>Not Verified</td>\n",
              "      <td>debt_consolidation</td>\n",
              "      <td>f</td>\n",
              "      <td>0.0</td>\n",
              "      <td>-1.365749</td>\n",
              "      <td>0.122311</td>\n",
              "      <td>0.091865</td>\n",
              "      <td>-0.357012</td>\n",
              "      <td>-0.737182</td>\n",
              "      <td>0.764538</td>\n",
              "      <td>-0.31429</td>\n",
              "      <td>0.558748</td>\n",
              "      <td>-0.094058</td>\n",
              "      <td>1.115130</td>\n",
              "      <td>-0.792648</td>\n",
              "      <td>-0.012089</td>\n",
              "      <td>0.991612</td>\n",
              "      <td>-0.123464</td>\n",
              "      <td>-0.154549</td>\n",
              "      <td>-0.083608</td>\n",
              "      <td>-0.058307</td>\n",
              "      <td>1.622784</td>\n",
              "      <td>-1.257509</td>\n",
              "      <td>0.238553</td>\n",
              "      <td>1.446626</td>\n",
              "      <td>0</td>\n",
              "    </tr>\n",
              "  </tbody>\n",
              "</table>\n",
              "</div>\n",
              "      <button class=\"colab-df-convert\" onclick=\"convertToInteractive('df-2b73a2e9-ab57-48ec-99b3-f97e84b7eea7')\"\n",
              "              title=\"Convert this dataframe to an interactive table.\"\n",
              "              style=\"display:none;\">\n",
              "        \n",
              "  <svg xmlns=\"http://www.w3.org/2000/svg\" height=\"24px\"viewBox=\"0 0 24 24\"\n",
              "       width=\"24px\">\n",
              "    <path d=\"M0 0h24v24H0V0z\" fill=\"none\"/>\n",
              "    <path d=\"M18.56 5.44l.94 2.06.94-2.06 2.06-.94-2.06-.94-.94-2.06-.94 2.06-2.06.94zm-11 1L8.5 8.5l.94-2.06 2.06-.94-2.06-.94L8.5 2.5l-.94 2.06-2.06.94zm10 10l.94 2.06.94-2.06 2.06-.94-2.06-.94-.94-2.06-.94 2.06-2.06.94z\"/><path d=\"M17.41 7.96l-1.37-1.37c-.4-.4-.92-.59-1.43-.59-.52 0-1.04.2-1.43.59L10.3 9.45l-7.72 7.72c-.78.78-.78 2.05 0 2.83L4 21.41c.39.39.9.59 1.41.59.51 0 1.02-.2 1.41-.59l7.78-7.78 2.81-2.81c.8-.78.8-2.07 0-2.86zM5.41 20L4 18.59l7.72-7.72 1.47 1.35L5.41 20z\"/>\n",
              "  </svg>\n",
              "      </button>\n",
              "      \n",
              "  <style>\n",
              "    .colab-df-container {\n",
              "      display:flex;\n",
              "      flex-wrap:wrap;\n",
              "      gap: 12px;\n",
              "    }\n",
              "\n",
              "    .colab-df-convert {\n",
              "      background-color: #E8F0FE;\n",
              "      border: none;\n",
              "      border-radius: 50%;\n",
              "      cursor: pointer;\n",
              "      display: none;\n",
              "      fill: #1967D2;\n",
              "      height: 32px;\n",
              "      padding: 0 0 0 0;\n",
              "      width: 32px;\n",
              "    }\n",
              "\n",
              "    .colab-df-convert:hover {\n",
              "      background-color: #E2EBFA;\n",
              "      box-shadow: 0px 1px 2px rgba(60, 64, 67, 0.3), 0px 1px 3px 1px rgba(60, 64, 67, 0.15);\n",
              "      fill: #174EA6;\n",
              "    }\n",
              "\n",
              "    [theme=dark] .colab-df-convert {\n",
              "      background-color: #3B4455;\n",
              "      fill: #D2E3FC;\n",
              "    }\n",
              "\n",
              "    [theme=dark] .colab-df-convert:hover {\n",
              "      background-color: #434B5C;\n",
              "      box-shadow: 0px 1px 3px 1px rgba(0, 0, 0, 0.15);\n",
              "      filter: drop-shadow(0px 1px 2px rgba(0, 0, 0, 0.3));\n",
              "      fill: #FFFFFF;\n",
              "    }\n",
              "  </style>\n",
              "\n",
              "      <script>\n",
              "        const buttonEl =\n",
              "          document.querySelector('#df-2b73a2e9-ab57-48ec-99b3-f97e84b7eea7 button.colab-df-convert');\n",
              "        buttonEl.style.display =\n",
              "          google.colab.kernel.accessAllowed ? 'block' : 'none';\n",
              "\n",
              "        async function convertToInteractive(key) {\n",
              "          const element = document.querySelector('#df-2b73a2e9-ab57-48ec-99b3-f97e84b7eea7');\n",
              "          const dataTable =\n",
              "            await google.colab.kernel.invokeFunction('convertToInteractive',\n",
              "                                                     [key], {});\n",
              "          if (!dataTable) return;\n",
              "\n",
              "          const docLinkHtml = 'Like what you see? Visit the ' +\n",
              "            '<a target=\"_blank\" href=https://colab.research.google.com/notebooks/data_table.ipynb>data table notebook</a>'\n",
              "            + ' to learn more about interactive tables.';\n",
              "          element.innerHTML = '';\n",
              "          dataTable['output_type'] = 'display_data';\n",
              "          await google.colab.output.renderOutput(dataTable, element);\n",
              "          const docLink = document.createElement('div');\n",
              "          docLink.innerHTML = docLinkHtml;\n",
              "          element.appendChild(docLink);\n",
              "        }\n",
              "      </script>\n",
              "    </div>\n",
              "  </div>\n",
              "  "
            ]
          },
          "metadata": {},
          "execution_count": 63
        }
      ]
    },
    {
      "cell_type": "markdown",
      "source": [
        "# TRAINING AND TESTING"
      ],
      "metadata": {
        "id": "FGJgUYrLKn4j"
      }
    },
    {
      "cell_type": "markdown",
      "source": [
        "## training and testing using one hot encode"
      ],
      "metadata": {
        "id": "3gM31FxlLUMZ"
      }
    },
    {
      "cell_type": "code",
      "source": [
        "X = onehot_data_model.drop('bad_flag', axis=1)\n",
        "y = onehot_data_model['bad_flag']\n",
        "\n",
        "X_train, X_test, y_train, y_test = train_test_split(X, y, test_size=0.2, random_state=42)"
      ],
      "metadata": {
        "id": "12IT59_HKCcm"
      },
      "execution_count": 64,
      "outputs": []
    },
    {
      "cell_type": "markdown",
      "source": [
        "### balance model"
      ],
      "metadata": {
        "id": "Of8XdBzfLwTw"
      }
    },
    {
      "cell_type": "code",
      "source": [
        "pd.Series(y_train).value_counts()"
      ],
      "metadata": {
        "colab": {
          "base_uri": "https://localhost:8080/"
        },
        "id": "09mpC-bc6qRH",
        "outputId": "b1034a0d-2483-4dc6-b330-3bbbf05cc3e4"
      },
      "execution_count": 65,
      "outputs": [
        {
          "output_type": "execute_result",
          "data": {
            "text/plain": [
              "0    332250\n",
              "1     40778\n",
              "Name: bad_flag, dtype: int64"
            ]
          },
          "metadata": {},
          "execution_count": 65
        }
      ]
    },
    {
      "cell_type": "markdown",
      "source": [
        "#### undersampling"
      ],
      "metadata": {
        "id": "tSXhWZYz67Uk"
      }
    },
    {
      "cell_type": "code",
      "source": [
        "undersample = RandomUnderSampler(sampling_strategy='majority')\n",
        "X_under, y_under = undersample.fit_resample(X_train, y_train)"
      ],
      "metadata": {
        "id": "P6G235Sq69_h"
      },
      "execution_count": 66,
      "outputs": []
    },
    {
      "cell_type": "code",
      "source": [
        "pd.Series(y_under).value_counts()"
      ],
      "metadata": {
        "colab": {
          "base_uri": "https://localhost:8080/"
        },
        "id": "hyexj4sJ7BYE",
        "outputId": "e9b763be-7178-4215-ca04-56c1fc134ccf"
      },
      "execution_count": 67,
      "outputs": [
        {
          "output_type": "execute_result",
          "data": {
            "text/plain": [
              "0    40778\n",
              "1    40778\n",
              "Name: bad_flag, dtype: int64"
            ]
          },
          "metadata": {},
          "execution_count": 67
        }
      ]
    },
    {
      "cell_type": "markdown",
      "source": [
        "#### oversampling"
      ],
      "metadata": {
        "id": "pgWlz5cE7FmV"
      }
    },
    {
      "cell_type": "code",
      "source": [
        "oversample = SMOTE()\n",
        "X_over, y_over = oversample.fit_resample(X_train, y_train)"
      ],
      "metadata": {
        "id": "ApfxmHh_7Jn0"
      },
      "execution_count": 68,
      "outputs": []
    },
    {
      "cell_type": "markdown",
      "source": [
        "### logistic reggression"
      ],
      "metadata": {
        "id": "RDvjkuRTkNvq"
      }
    },
    {
      "cell_type": "code",
      "source": [
        "logreg_over = LogisticRegression(solver='liblinear', random_state=0)\n",
        "logreg_under = LogisticRegression(solver='liblinear', random_state=0)"
      ],
      "metadata": {
        "id": "AO1yci3ycuT6"
      },
      "execution_count": 69,
      "outputs": []
    },
    {
      "cell_type": "code",
      "source": [
        "logreg_over.fit(X_over, y_over)\n",
        "logreg_under.fit(X_under, y_under)"
      ],
      "metadata": {
        "colab": {
          "base_uri": "https://localhost:8080/"
        },
        "id": "tn1sXDDfv4q6",
        "outputId": "4136f61e-9095-4a95-8ee4-3686a0dd33ee"
      },
      "execution_count": 70,
      "outputs": [
        {
          "output_type": "execute_result",
          "data": {
            "text/plain": [
              "LogisticRegression(random_state=0, solver='liblinear')"
            ]
          },
          "metadata": {},
          "execution_count": 70
        }
      ]
    },
    {
      "cell_type": "code",
      "source": [
        "y_pred_testOver = logreg_over.predict(X_test)\n",
        "y_pred_testUnder = logreg_under.predict(X_test)"
      ],
      "metadata": {
        "id": "1D52iffa72fG"
      },
      "execution_count": 71,
      "outputs": []
    },
    {
      "cell_type": "markdown",
      "source": [
        "####testing model"
      ],
      "metadata": {
        "id": "5tCeIFAC8aqx"
      }
    },
    {
      "cell_type": "markdown",
      "source": [
        "##### performance model using oversampling data"
      ],
      "metadata": {
        "id": "rols-l1G8CZ4"
      }
    },
    {
      "cell_type": "code",
      "source": [
        "print(classification_report(y_test,y_pred_testOver))"
      ],
      "metadata": {
        "colab": {
          "base_uri": "https://localhost:8080/"
        },
        "id": "AbTdAAPg79M9",
        "outputId": "1a1498bb-524b-484e-992e-c35e566e61da"
      },
      "execution_count": 72,
      "outputs": [
        {
          "output_type": "stream",
          "name": "stdout",
          "text": [
            "              precision    recall  f1-score   support\n",
            "\n",
            "           0       0.93      0.52      0.67     83067\n",
            "           1       0.15      0.70      0.25     10190\n",
            "\n",
            "    accuracy                           0.54     93257\n",
            "   macro avg       0.54      0.61      0.46     93257\n",
            "weighted avg       0.85      0.54      0.62     93257\n",
            "\n"
          ]
        }
      ]
    },
    {
      "cell_type": "markdown",
      "source": [
        "##### performance model using undersampling data"
      ],
      "metadata": {
        "id": "B_DkXWdj8S6L"
      }
    },
    {
      "cell_type": "code",
      "source": [
        "print(classification_report(y_test,y_pred_testUnder))"
      ],
      "metadata": {
        "colab": {
          "base_uri": "https://localhost:8080/"
        },
        "id": "mbAtfZgq8NXV",
        "outputId": "cfc8fd6d-0765-4b04-b3b0-af34d1d12789"
      },
      "execution_count": 73,
      "outputs": [
        {
          "output_type": "stream",
          "name": "stdout",
          "text": [
            "              precision    recall  f1-score   support\n",
            "\n",
            "           0       0.93      0.58      0.72     83067\n",
            "           1       0.16      0.66      0.26     10190\n",
            "\n",
            "    accuracy                           0.59     93257\n",
            "   macro avg       0.55      0.62      0.49     93257\n",
            "weighted avg       0.85      0.59      0.67     93257\n",
            "\n"
          ]
        }
      ]
    },
    {
      "cell_type": "code",
      "source": [
        "print('Model accuracy using oversampling score: {0:0.4f}'. format(accuracy_score(y_test, y_pred_testOver)))\n",
        "print('Model accuracy using undersampling score: {0:0.4f}'. format(accuracy_score(y_test, y_pred_testUnder)))"
      ],
      "metadata": {
        "colab": {
          "base_uri": "https://localhost:8080/"
        },
        "id": "2uDsS1TH8x_Z",
        "outputId": "edf9ab3c-fa3b-4157-b29c-6ef5a132a72f"
      },
      "execution_count": 74,
      "outputs": [
        {
          "output_type": "stream",
          "name": "stdout",
          "text": [
            "Model accuracy using oversampling score: 0.5425\n",
            "Model accuracy using undersampling score: 0.5885\n"
          ]
        }
      ]
    },
    {
      "cell_type": "code",
      "source": [
        "# print the scores on training and test set\n",
        "\n",
        "print('Training set Oversampling score: {:.4f}'.format(logreg_over.score(X_over, y_over)))\n",
        "print('Test set score: {:.4f}'.format(logreg_over.score(X_test, y_test)))\n",
        "print(\"====================================\")\n",
        "print('Training set Undersampling score: {:.4f}'.format(logreg_under.score(X_under, y_under)))\n",
        "print('Test set score: {:.4f}'.format(logreg_under.score(X_test, y_test)))"
      ],
      "metadata": {
        "colab": {
          "base_uri": "https://localhost:8080/"
        },
        "id": "AjAzOV0b8XVk",
        "outputId": "1a7712da-f603-4d3c-fb7d-04ec2542af9a"
      },
      "execution_count": 75,
      "outputs": [
        {
          "output_type": "stream",
          "name": "stdout",
          "text": [
            "Training set Oversampling score: 0.6055\n",
            "Test set score: 0.5425\n",
            "====================================\n",
            "Training set Undersampling score: 0.6104\n",
            "Test set score: 0.5885\n"
          ]
        }
      ]
    },
    {
      "cell_type": "markdown",
      "source": [
        "#### training"
      ],
      "metadata": {
        "id": "OtCEm2EBAjuJ"
      }
    },
    {
      "cell_type": "code",
      "source": [
        "y_pred_trainOver = logreg_over.predict(X_train)\n",
        "y_pred_trainUnder = logreg_under.predict(X_train)"
      ],
      "metadata": {
        "id": "VlCdbZ-vJYZV"
      },
      "execution_count": 77,
      "outputs": []
    },
    {
      "cell_type": "markdown",
      "source": [
        "##### over sampling data"
      ],
      "metadata": {
        "id": "lU4tAj4CIVNe"
      }
    },
    {
      "cell_type": "code",
      "source": [
        "print(classification_report(y_train,y_pred_trainOver))"
      ],
      "metadata": {
        "colab": {
          "base_uri": "https://localhost:8080/"
        },
        "id": "uzQcTG51ISZF",
        "outputId": "3de95228-459e-423a-afc3-019e4c15e6fd"
      },
      "execution_count": 79,
      "outputs": [
        {
          "output_type": "stream",
          "name": "stdout",
          "text": [
            "              precision    recall  f1-score   support\n",
            "\n",
            "           0       0.93      0.52      0.67    332250\n",
            "           1       0.15      0.69      0.25     40778\n",
            "\n",
            "    accuracy                           0.54    373028\n",
            "   macro avg       0.54      0.61      0.46    373028\n",
            "weighted avg       0.85      0.54      0.62    373028\n",
            "\n"
          ]
        }
      ]
    },
    {
      "cell_type": "markdown",
      "source": [
        "#####under sampling data"
      ],
      "metadata": {
        "id": "mWvlbkgTJ4k6"
      }
    },
    {
      "cell_type": "code",
      "source": [
        "print(classification_report(y_train,y_pred_trainUnder))"
      ],
      "metadata": {
        "colab": {
          "base_uri": "https://localhost:8080/"
        },
        "id": "bX-l2YEnJ7XH",
        "outputId": "6a8dd7a8-7cfe-4e49-f8a4-9af93c298960"
      },
      "execution_count": 80,
      "outputs": [
        {
          "output_type": "stream",
          "name": "stdout",
          "text": [
            "              precision    recall  f1-score   support\n",
            "\n",
            "           0       0.93      0.58      0.71    332250\n",
            "           1       0.16      0.64      0.25     40778\n",
            "\n",
            "    accuracy                           0.59    373028\n",
            "   macro avg       0.54      0.61      0.48    373028\n",
            "weighted avg       0.85      0.59      0.66    373028\n",
            "\n"
          ]
        }
      ]
    },
    {
      "cell_type": "markdown",
      "source": [
        "### AdaBoostClassifier"
      ],
      "metadata": {
        "id": "GjHOcDa1KNLh"
      }
    },
    {
      "cell_type": "code",
      "source": [
        "ada_over = AdaBoostClassifier(random_state=0)\n",
        "ada_under = AdaBoostClassifier(random_state=0)"
      ],
      "metadata": {
        "id": "h_j57pCGKSL5"
      },
      "execution_count": 93,
      "outputs": []
    },
    {
      "cell_type": "code",
      "source": [
        "ada_over.fit(X_over, y_over)\n",
        "ada_under.fit(X_under, y_under)"
      ],
      "metadata": {
        "colab": {
          "base_uri": "https://localhost:8080/"
        },
        "id": "cvyhRAv7LF8h",
        "outputId": "a572de27-cce1-4727-d9fb-59fc73e85fed"
      },
      "execution_count": 94,
      "outputs": [
        {
          "output_type": "execute_result",
          "data": {
            "text/plain": [
              "AdaBoostClassifier(random_state=0)"
            ]
          },
          "metadata": {},
          "execution_count": 94
        }
      ]
    },
    {
      "cell_type": "code",
      "source": [
        "y_pred_testOver_ada = ada_over.predict(X_test)\n",
        "y_pred_testUnder_ada = ada_under.predict(X_test)"
      ],
      "metadata": {
        "id": "0GlWIIdGLfMf"
      },
      "execution_count": 95,
      "outputs": []
    },
    {
      "cell_type": "code",
      "source": [
        "y_pred_trainOver_ada = ada_over.predict(X_train)\n",
        "y_pred_trainUnder_ada = ada_under.predict(X_train)"
      ],
      "metadata": {
        "id": "5J8R4IsOML7f"
      },
      "execution_count": 97,
      "outputs": []
    },
    {
      "cell_type": "markdown",
      "source": [
        "##### training"
      ],
      "metadata": {
        "id": "khPlFqdEL15s"
      }
    },
    {
      "cell_type": "markdown",
      "source": [
        "###### over sampling"
      ],
      "metadata": {
        "id": "RMtXfXuiL8Bv"
      }
    },
    {
      "cell_type": "code",
      "source": [
        "print(classification_report(y_train,y_pred_trainOver_ada))"
      ],
      "metadata": {
        "colab": {
          "base_uri": "https://localhost:8080/"
        },
        "id": "RZfQGer1L3we",
        "outputId": "b82d6599-ec5b-41ab-bb43-ec93748d2355"
      },
      "execution_count": 98,
      "outputs": [
        {
          "output_type": "stream",
          "name": "stdout",
          "text": [
            "              precision    recall  f1-score   support\n",
            "\n",
            "           0       0.93      0.59      0.72    332250\n",
            "           1       0.16      0.63      0.25     40778\n",
            "\n",
            "    accuracy                           0.60    373028\n",
            "   macro avg       0.54      0.61      0.49    373028\n",
            "weighted avg       0.84      0.60      0.67    373028\n",
            "\n"
          ]
        }
      ]
    },
    {
      "cell_type": "markdown",
      "source": [
        "###### under sampling"
      ],
      "metadata": {
        "id": "M4GEpymKMC4j"
      }
    },
    {
      "cell_type": "code",
      "source": [
        "print(classification_report(y_train,y_pred_trainUnder_ada))"
      ],
      "metadata": {
        "colab": {
          "base_uri": "https://localhost:8080/"
        },
        "id": "OfYu0eq7MZPx",
        "outputId": "04c273ad-2885-422b-cf26-639d91fa7e9a"
      },
      "execution_count": 99,
      "outputs": [
        {
          "output_type": "stream",
          "name": "stdout",
          "text": [
            "              precision    recall  f1-score   support\n",
            "\n",
            "           0       0.93      0.58      0.72    332250\n",
            "           1       0.16      0.64      0.25     40778\n",
            "\n",
            "    accuracy                           0.59    373028\n",
            "   macro avg       0.54      0.61      0.49    373028\n",
            "weighted avg       0.85      0.59      0.67    373028\n",
            "\n"
          ]
        }
      ]
    },
    {
      "cell_type": "markdown",
      "source": [
        "##### testing"
      ],
      "metadata": {
        "id": "2RxybEloMjaX"
      }
    },
    {
      "cell_type": "markdown",
      "source": [
        "###### over sampling"
      ],
      "metadata": {
        "id": "YtQk5iDhMzoE"
      }
    },
    {
      "cell_type": "code",
      "source": [
        "print(classification_report(y_test,y_pred_testOver_ada))"
      ],
      "metadata": {
        "colab": {
          "base_uri": "https://localhost:8080/"
        },
        "id": "xJAzKWj2MllG",
        "outputId": "2fbc72df-3fb3-4e95-c8a2-fc5c40f63faa"
      },
      "execution_count": 101,
      "outputs": [
        {
          "output_type": "stream",
          "name": "stdout",
          "text": [
            "              precision    recall  f1-score   support\n",
            "\n",
            "           0       0.93      0.59      0.72     83067\n",
            "           1       0.16      0.64      0.26     10190\n",
            "\n",
            "    accuracy                           0.60     93257\n",
            "   macro avg       0.55      0.62      0.49     93257\n",
            "weighted avg       0.85      0.60      0.67     93257\n",
            "\n"
          ]
        }
      ]
    },
    {
      "cell_type": "markdown",
      "source": [
        "###### under sampling"
      ],
      "metadata": {
        "id": "8Ii98avJM39V"
      }
    },
    {
      "cell_type": "code",
      "source": [
        "print(classification_report(y_test,y_pred_testUnder_ada))"
      ],
      "metadata": {
        "colab": {
          "base_uri": "https://localhost:8080/"
        },
        "id": "ZLKly_H7M5te",
        "outputId": "f261edbf-def4-4da7-81e3-994a883258b6"
      },
      "execution_count": 102,
      "outputs": [
        {
          "output_type": "stream",
          "name": "stdout",
          "text": [
            "              precision    recall  f1-score   support\n",
            "\n",
            "           0       0.93      0.58      0.72     83067\n",
            "           1       0.16      0.65      0.26     10190\n",
            "\n",
            "    accuracy                           0.59     93257\n",
            "   macro avg       0.55      0.62      0.49     93257\n",
            "weighted avg       0.85      0.59      0.67     93257\n",
            "\n"
          ]
        }
      ]
    },
    {
      "cell_type": "markdown",
      "source": [
        "##training and testing using advance data"
      ],
      "metadata": {
        "id": "zLYuBtcY9xv2"
      }
    },
    {
      "cell_type": "code",
      "source": [
        "advance_data.fillna(0, inplace=True)"
      ],
      "metadata": {
        "id": "bw6ahU48_1xf"
      },
      "execution_count": 81,
      "outputs": []
    },
    {
      "cell_type": "code",
      "source": [
        "x = advance_data.drop(['mean_grade','mean_verification_status','mean_purpose',\n",
        "                      'mean_initial_list_status','median_grade','median_verification_status', \n",
        "                      'median_purpose','median_initial_list_status','amax_grade','amax_verification_status', \n",
        "                      'amax_purpose','amax_initial_list_status','amin_grade','amin_verification_status','amin_purpose', \n",
        "                      'amin_initial_list_status','bad_flag'], axis=1)\n",
        "y = advance_data['bad_flag']\n",
        "\n",
        "x_train, x_test, Y_train, Y_test = train_test_split(x, y, test_size=0.2, random_state=42)"
      ],
      "metadata": {
        "id": "VIF8Hv1d9Cvj"
      },
      "execution_count": 82,
      "outputs": []
    },
    {
      "cell_type": "code",
      "source": [
        "pd.Series(Y_train).value_counts()"
      ],
      "metadata": {
        "colab": {
          "base_uri": "https://localhost:8080/"
        },
        "id": "4sv9REgVAl26",
        "outputId": "60137e9e-9689-46c0-9b64-d07754fc486e"
      },
      "execution_count": 83,
      "outputs": [
        {
          "output_type": "execute_result",
          "data": {
            "text/plain": [
              "0    332250\n",
              "1     40778\n",
              "Name: bad_flag, dtype: int64"
            ]
          },
          "metadata": {},
          "execution_count": 83
        }
      ]
    },
    {
      "cell_type": "code",
      "source": [
        "undersample = RandomUnderSampler(sampling_strategy='majority')\n",
        "x_under, Y_under = undersample.fit_resample(x_train, Y_train)"
      ],
      "metadata": {
        "id": "sI0OHJDqAuqY"
      },
      "execution_count": 84,
      "outputs": []
    },
    {
      "cell_type": "code",
      "source": [
        "oversample = SMOTE()\n",
        "x_over, Y_over = oversample.fit_resample(x_train, Y_train)"
      ],
      "metadata": {
        "id": "y-01EvQJA3sv"
      },
      "execution_count": 85,
      "outputs": []
    },
    {
      "cell_type": "markdown",
      "source": [
        "### logistic regression"
      ],
      "metadata": {
        "id": "glYt4zNwPi1h"
      }
    },
    {
      "cell_type": "code",
      "source": [
        "logreg_over.fit(x_over, Y_over)\n",
        "logreg_under.fit(x_under, Y_under)"
      ],
      "metadata": {
        "colab": {
          "base_uri": "https://localhost:8080/"
        },
        "id": "gEAYmhzpBBbH",
        "outputId": "b7808b07-3a46-450e-ecbc-691fa84726b5"
      },
      "execution_count": 86,
      "outputs": [
        {
          "output_type": "stream",
          "name": "stderr",
          "text": [
            "/usr/local/lib/python3.7/dist-packages/sklearn/svm/_base.py:1208: ConvergenceWarning: Liblinear failed to converge, increase the number of iterations.\n",
            "  ConvergenceWarning,\n"
          ]
        },
        {
          "output_type": "execute_result",
          "data": {
            "text/plain": [
              "LogisticRegression(random_state=0, solver='liblinear')"
            ]
          },
          "metadata": {},
          "execution_count": 86
        }
      ]
    },
    {
      "cell_type": "markdown",
      "source": [
        "#### testing"
      ],
      "metadata": {
        "id": "pc6mL4F5DPS-"
      }
    },
    {
      "cell_type": "code",
      "source": [
        "Y_pred_testOver = logreg_over.predict(x_test)\n",
        "Y_pred_testUnder = logreg_under.predict(x_test)"
      ],
      "metadata": {
        "id": "yJsCfMlKCgYc"
      },
      "execution_count": 87,
      "outputs": []
    },
    {
      "cell_type": "markdown",
      "source": [
        "##### oversampling"
      ],
      "metadata": {
        "id": "3m0Cf2SIDSDI"
      }
    },
    {
      "cell_type": "code",
      "source": [
        "print(classification_report(Y_test,Y_pred_testOver ))"
      ],
      "metadata": {
        "colab": {
          "base_uri": "https://localhost:8080/"
        },
        "id": "lEErkIM9DK75",
        "outputId": "8875b2d1-4efd-4edf-8495-b9bb04cdf443"
      },
      "execution_count": 88,
      "outputs": [
        {
          "output_type": "stream",
          "name": "stdout",
          "text": [
            "              precision    recall  f1-score   support\n",
            "\n",
            "           0       0.95      0.95      0.95     83067\n",
            "           1       0.58      0.56      0.57     10190\n",
            "\n",
            "    accuracy                           0.91     93257\n",
            "   macro avg       0.77      0.76      0.76     93257\n",
            "weighted avg       0.91      0.91      0.91     93257\n",
            "\n"
          ]
        }
      ]
    },
    {
      "cell_type": "markdown",
      "source": [
        "#####undersampling"
      ],
      "metadata": {
        "id": "GNPj5JgdDnKn"
      }
    },
    {
      "cell_type": "code",
      "source": [
        "print(classification_report(Y_test,Y_pred_testUnder ))"
      ],
      "metadata": {
        "colab": {
          "base_uri": "https://localhost:8080/"
        },
        "id": "cZUqpboLDcxA",
        "outputId": "3aa5a16c-5d45-4490-8bb7-e77d32a58a5c"
      },
      "execution_count": 89,
      "outputs": [
        {
          "output_type": "stream",
          "name": "stdout",
          "text": [
            "              precision    recall  f1-score   support\n",
            "\n",
            "           0       0.95      0.94      0.95     83067\n",
            "           1       0.56      0.56      0.56     10190\n",
            "\n",
            "    accuracy                           0.90     93257\n",
            "   macro avg       0.75      0.75      0.75     93257\n",
            "weighted avg       0.90      0.90      0.90     93257\n",
            "\n"
          ]
        }
      ]
    },
    {
      "cell_type": "markdown",
      "source": [
        "####training"
      ],
      "metadata": {
        "id": "yHpfTa39P2n4"
      }
    },
    {
      "cell_type": "code",
      "source": [
        "Y_pred_trainOver = logreg_over.predict(x_train)\n",
        "Y_pred_trainUnder = logreg_under.predict(x_train)"
      ],
      "metadata": {
        "id": "4N4m7FjfP5AP"
      },
      "execution_count": 103,
      "outputs": []
    },
    {
      "cell_type": "markdown",
      "source": [
        "##### over sampling"
      ],
      "metadata": {
        "id": "N2T1my7xQDsc"
      }
    },
    {
      "cell_type": "code",
      "source": [
        "print(classification_report(Y_train,Y_pred_trainOver ))"
      ],
      "metadata": {
        "colab": {
          "base_uri": "https://localhost:8080/"
        },
        "id": "SIaJ-RnlQBb8",
        "outputId": "8c628a37-a95e-4e21-ebab-6ac20c8b001c"
      },
      "execution_count": 105,
      "outputs": [
        {
          "output_type": "stream",
          "name": "stdout",
          "text": [
            "              precision    recall  f1-score   support\n",
            "\n",
            "           0       0.95      0.95      0.95    332250\n",
            "           1       0.59      0.56      0.57     40778\n",
            "\n",
            "    accuracy                           0.91    373028\n",
            "   macro avg       0.77      0.76      0.76    373028\n",
            "weighted avg       0.91      0.91      0.91    373028\n",
            "\n"
          ]
        }
      ]
    },
    {
      "cell_type": "markdown",
      "source": [
        "##### undersampling"
      ],
      "metadata": {
        "id": "HQzcuV0qQTAf"
      }
    },
    {
      "cell_type": "code",
      "source": [
        "print(classification_report(Y_train,Y_pred_trainUnder))"
      ],
      "metadata": {
        "colab": {
          "base_uri": "https://localhost:8080/"
        },
        "id": "VXGRyqoXQSZI",
        "outputId": "c1c3f91c-5542-4edf-b761-fab9819b99f9"
      },
      "execution_count": 106,
      "outputs": [
        {
          "output_type": "stream",
          "name": "stdout",
          "text": [
            "              precision    recall  f1-score   support\n",
            "\n",
            "           0       0.95      0.95      0.95    332250\n",
            "           1       0.55      0.56      0.56     40778\n",
            "\n",
            "    accuracy                           0.90    373028\n",
            "   macro avg       0.75      0.75      0.75    373028\n",
            "weighted avg       0.90      0.90      0.90    373028\n",
            "\n"
          ]
        }
      ]
    },
    {
      "cell_type": "markdown",
      "source": [
        "##### print the scores on training and test set"
      ],
      "metadata": {
        "id": "gGugc2kHQsjI"
      }
    },
    {
      "cell_type": "code",
      "source": [
        "# testing score\n",
        "\n",
        "print('Training set Oversampling score: {:.4f}'.format(logreg_over.score(x_over, Y_over)))\n",
        "print('Test set score: {:.4f}'.format(logreg_over.score(x_test, Y_test)))\n",
        "print(\"====================================\")\n",
        "print('Training set Undersampling score: {:.4f}'.format(logreg_under.score(x_under, Y_under)))\n",
        "print('Test set score: {:.4f}'.format(logreg_under.score(x_test, Y_test)))"
      ],
      "metadata": {
        "colab": {
          "base_uri": "https://localhost:8080/"
        },
        "id": "L4svXTt2DrhI",
        "outputId": "6c0d6e58-4d35-4a11-db09-77d11263dcdc"
      },
      "execution_count": 90,
      "outputs": [
        {
          "output_type": "stream",
          "name": "stdout",
          "text": [
            "Training set Oversampling score: 0.7682\n",
            "Test set score: 0.9085\n",
            "====================================\n",
            "Training set Undersampling score: 0.7507\n",
            "Test set score: 0.9029\n"
          ]
        }
      ]
    },
    {
      "cell_type": "code",
      "source": [
        "#training score\n",
        "\n",
        "print('Training set Oversampling score: {:.4f}'.format(logreg_over.score(x_over, Y_over)))\n",
        "print('Test set score: {:.4f}'.format(logreg_over.score(x_train, Y_train)))\n",
        "print(\"====================================\")\n",
        "print('Training set Undersampling score: {:.4f}'.format(logreg_under.score(x_under, Y_under)))\n",
        "print('Test set score: {:.4f}'.format(logreg_under.score(x_train, Y_train)))"
      ],
      "metadata": {
        "colab": {
          "base_uri": "https://localhost:8080/"
        },
        "id": "MnjeQfcTQ4qV",
        "outputId": "74035038-9b3f-4c8c-be3a-f43e4ab4a198"
      },
      "execution_count": 107,
      "outputs": [
        {
          "output_type": "stream",
          "name": "stdout",
          "text": [
            "Training set Oversampling score: 0.7682\n",
            "Test set score: 0.9087\n",
            "====================================\n",
            "Training set Undersampling score: 0.7507\n",
            "Test set score: 0.9027\n"
          ]
        }
      ]
    },
    {
      "cell_type": "code",
      "source": [
        ""
      ],
      "metadata": {
        "id": "Jlki6kv7Q_JI"
      },
      "execution_count": null,
      "outputs": []
    }
  ]
}